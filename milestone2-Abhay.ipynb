{
 "cells": [
  {
   "cell_type": "markdown",
   "id": "0addf8bd-df06-4754-bf8a-d3bd489d0078",
   "metadata": {
    "tags": []
   },
   "source": [
    "# Milestone 2"
   ]
  },
  {
   "cell_type": "code",
   "execution_count": 1,
   "id": "95fef004-9d5b-4259-ace2-a25e77a70f11",
   "metadata": {},
   "outputs": [],
   "source": [
    "# for auto-reloading extenrnal modules\n",
    "# see http://stackoverflow.com/questions/1907993/autoreload-of-modules-in-ipython\n",
    "%load_ext autoreload\n",
    "%autoreload 2"
   ]
  },
  {
   "cell_type": "code",
   "execution_count": 2,
   "id": "d9f87136-da0f-4c2f-a54d-c96a1cc03ca6",
   "metadata": {},
   "outputs": [],
   "source": [
    "import os\n",
    "\n",
    "import numpy as np \n",
    "import pandas as pd\n",
    "import seaborn as sns\n",
    "\n",
    "pd.options.display.max_columns = None"
   ]
  },
  {
   "cell_type": "markdown",
   "id": "17e02ccc-88c3-437e-9b19-25be57a1c9ae",
   "metadata": {},
   "source": [
    "## 1. Experiment Tracking (10%)"
   ]
  },
  {
   "cell_type": "markdown",
   "id": "1268e5c9-3b5b-40ee-a4f2-be2588faf307",
   "metadata": {},
   "source": [
    "Please do this to install comet_ml pip <br>\n",
    "> conda activate ift6758-conda-env <br>\n",
    "> conda install pip<br>\n",
    "> which pip<br>\n",
    "> pip install comet_ml<br>\n",
    "\n"
   ]
  },
  {
   "cell_type": "code",
   "execution_count": 3,
   "id": "1b0da272-c2b0-4f43-a1b4-d3f29db21620",
   "metadata": {},
   "outputs": [
    {
     "name": "stdout",
     "output_type": "stream",
     "text": [
      "Requirement already satisfied: comet_ml in /opt/homebrew/Caskroom/miniforge/base/envs/ift6758-conda-env/lib/python3.9/site-packages (3.22.1)\n",
      "Requirement already satisfied: websocket-client>=0.55.0 in /opt/homebrew/Caskroom/miniforge/base/envs/ift6758-conda-env/lib/python3.9/site-packages (from comet_ml) (0.57.0)\n",
      "Requirement already satisfied: wrapt>=1.11.2 in /opt/homebrew/Caskroom/miniforge/base/envs/ift6758-conda-env/lib/python3.9/site-packages (from comet_ml) (1.13.3)\n",
      "Requirement already satisfied: nvidia-ml-py3>=7.352.0 in /opt/homebrew/Caskroom/miniforge/base/envs/ift6758-conda-env/lib/python3.9/site-packages (from comet_ml) (7.352.0)\n",
      "Requirement already satisfied: six in /opt/homebrew/Caskroom/miniforge/base/envs/ift6758-conda-env/lib/python3.9/site-packages (from comet_ml) (1.16.0)\n",
      "Requirement already satisfied: requests-toolbelt>=0.8.0 in /opt/homebrew/Caskroom/miniforge/base/envs/ift6758-conda-env/lib/python3.9/site-packages (from comet_ml) (0.9.1)\n",
      "Requirement already satisfied: jsonschema!=3.1.0,>=2.6.0 in /opt/homebrew/Caskroom/miniforge/base/envs/ift6758-conda-env/lib/python3.9/site-packages (from comet_ml) (4.0.1)\n",
      "Requirement already satisfied: dulwich>=0.20.6 in /opt/homebrew/Caskroom/miniforge/base/envs/ift6758-conda-env/lib/python3.9/site-packages (from comet_ml) (0.20.26)\n",
      "Requirement already satisfied: semantic-version>=2.8.0 in /opt/homebrew/Caskroom/miniforge/base/envs/ift6758-conda-env/lib/python3.9/site-packages (from comet_ml) (2.8.5)\n",
      "Requirement already satisfied: everett[ini]>=1.0.1 in /opt/homebrew/Caskroom/miniforge/base/envs/ift6758-conda-env/lib/python3.9/site-packages (from comet_ml) (2.0.1)\n",
      "Requirement already satisfied: wurlitzer>=1.0.2 in /opt/homebrew/Caskroom/miniforge/base/envs/ift6758-conda-env/lib/python3.9/site-packages (from comet_ml) (3.0.2)\n",
      "Requirement already satisfied: requests>=2.18.4 in /opt/homebrew/Caskroom/miniforge/base/envs/ift6758-conda-env/lib/python3.9/site-packages (from comet_ml) (2.26.0)\n",
      "Requirement already satisfied: urllib3>=1.24.1 in /opt/homebrew/Caskroom/miniforge/base/envs/ift6758-conda-env/lib/python3.9/site-packages (from dulwich>=0.20.6->comet_ml) (1.26.7)\n",
      "Requirement already satisfied: certifi in /opt/homebrew/Caskroom/miniforge/base/envs/ift6758-conda-env/lib/python3.9/site-packages (from dulwich>=0.20.6->comet_ml) (2021.10.8)\n",
      "Requirement already satisfied: configobj in /opt/homebrew/Caskroom/miniforge/base/envs/ift6758-conda-env/lib/python3.9/site-packages (from everett[ini]>=1.0.1->comet_ml) (5.0.6)\n",
      "Requirement already satisfied: pyrsistent!=0.17.0,!=0.17.1,!=0.17.2,>=0.14.0 in /opt/homebrew/Caskroom/miniforge/base/envs/ift6758-conda-env/lib/python3.9/site-packages (from jsonschema!=3.1.0,>=2.6.0->comet_ml) (0.17.3)\n",
      "Requirement already satisfied: attrs>=17.4.0 in /opt/homebrew/Caskroom/miniforge/base/envs/ift6758-conda-env/lib/python3.9/site-packages (from jsonschema!=3.1.0,>=2.6.0->comet_ml) (21.2.0)\n",
      "Requirement already satisfied: idna<4,>=2.5 in /opt/homebrew/Caskroom/miniforge/base/envs/ift6758-conda-env/lib/python3.9/site-packages (from requests>=2.18.4->comet_ml) (3.1)\n",
      "Requirement already satisfied: charset-normalizer~=2.0.0 in /opt/homebrew/Caskroom/miniforge/base/envs/ift6758-conda-env/lib/python3.9/site-packages (from requests>=2.18.4->comet_ml) (2.0.0)\n"
     ]
    },
    {
     "name": "stderr",
     "output_type": "stream",
     "text": [
      "COMET INFO: Comet API key is valid\n",
      "COMET WARNING: As you are running in a Jupyter environment, you will need to call `experiment.end()` when finished to ensure all metrics and code are logged before exiting.\n",
      "COMET INFO: Experiment is live on comet.ml https://www.comet.ml/binulal/milestone-2/42800c008f0d450e80fd18cf464393c1\n",
      "\n"
     ]
    }
   ],
   "source": [
    "!pip install comet_ml\n",
    "import comet_ml\n",
    "comet_ml.init()\n",
    "\n",
    "from comet_ml import Experiment\n",
    "experiment = Experiment(\n",
    "    project_name=\"milestone-2\",\n",
    "    workspace=\"binulal\",\n",
    ")\n"
   ]
  },
  {
   "cell_type": "markdown",
   "id": "4facd3f4-47ad-4540-af2a-19af4b9c6d13",
   "metadata": {},
   "source": [
    "## 2. Feature Engineering - I (10%)"
   ]
  },
  {
   "cell_type": "markdown",
   "id": "c9b6baa7-ce83-4500-a72b-157bc7eeb3fb",
   "metadata": {},
   "source": [
    "* Acquire all of the raw play-by-play data for the 2015/16 season all the way to the 2019/20 season (inclusive).\n",
    "* Set aside all of the 2019/20 data as your final test set. \n",
    "* You will use the 2015/16 - 2018/19 regular season data to create your training and validation sets. \n",
    "* Until Part 7, any reference to the “dataset” will exclusively refer to the 2015/16 - 2018/19 data\n"
   ]
  },
  {
   "cell_type": "code",
   "execution_count": 4,
   "id": "a6060861-f7c1-453e-a194-cd5bb008500c",
   "metadata": {},
   "outputs": [],
   "source": [
    "from ift6758.data.functions import loadstats\n",
    "from ift6758.data.tidyData_adv import tidyData_adv"
   ]
  },
  {
   "cell_type": "code",
   "execution_count": 5,
   "id": "190d3633-be94-4ba9-b02b-bf82de4a34a6",
   "metadata": {},
   "outputs": [
    {
     "name": "stdout",
     "output_type": "stream",
     "text": [
      "Error code: 404 at gameID:2015021231. Game not found.\n",
      "size of data in regular season: 1230\n",
      "Error code: 404 at gameID:2015030126. Game not found.\n",
      "Error code: 404 at gameID:2015030137. Game not found.\n",
      "Error code: 404 at gameID:2015030146. Game not found.\n",
      "Error code: 404 at gameID:2015030157. Game not found.\n",
      "Error code: 404 at gameID:2015030187. Game not found.\n",
      "Error code: 404 at gameID:2015030216. Game not found.\n",
      "Error code: 404 at gameID:2015030417. Game not found.\n",
      "size of data in regular season & playoffs: 1325\n",
      "Error code: 404 at gameID:2016021231. Game not found.\n",
      "size of data in regular season: 1230\n",
      "Error code: 404 at gameID:2016030147. Game not found.\n",
      "Error code: 404 at gameID:2016030176. Game not found.\n",
      "size of data in regular season & playoffs: 1332\n"
     ]
    },
    {
     "name": "stderr",
     "output_type": "stream",
     "text": [
      "/Users/abhay/Desktop/DS Project/ift6758-project-template-main/ift6758/data/functions.py:530: RuntimeWarning: invalid value encountered in double_scalars\n",
      "  angle = np.arcsin(y/dist)\n"
     ]
    },
    {
     "name": "stdout",
     "output_type": "stream",
     "text": [
      "size of data in regular season: 1271\n",
      "size of data in regular season & playoffs: 1376\n",
      "size of data in regular season: 1271\n",
      "Error code: 404 at gameID:2018030117. Game not found.\n",
      "size of data in regular season & playoffs: 1375\n"
     ]
    },
    {
     "name": "stderr",
     "output_type": "stream",
     "text": [
      "/Users/abhay/Desktop/DS Project/ift6758-project-template-main/ift6758/data/functions.py:532: RuntimeWarning: invalid value encountered in double_scalars\n",
      "  angle = np.arcsin(-y/dist)\n"
     ]
    }
   ],
   "source": [
    "\n",
    "dfs_2015 = loadstats(2015,'./data/')\n",
    "df_2015 = tidyData_adv(dfs_2015)\n",
    "\n",
    "dfs_2016 = loadstats(2016,'./data/')\n",
    "df_2016 = tidyData_adv(dfs_2016)\n",
    "\n",
    "dfs_2017 = loadstats(2017,'./data/')\n",
    "df_2017 = tidyData_adv(dfs_2017)\n",
    "\n",
    "dfs_2018 = loadstats(2018,'./data/')\n",
    "df_2018 = tidyData_adv(dfs_2018)\n",
    "\n",
    "# dfs_2019 = loadstats(2019,'./data/')\n",
    "# df_2019 = tidyData_adv(dfs_2019) <---- do this on section# 7"
   ]
  },
  {
   "cell_type": "code",
   "execution_count": null,
   "id": "e2f9fa24-abf2-455f-bda3-c2d26e5dd8c3",
   "metadata": {},
   "outputs": [],
   "source": [
    "sns.scatterplot(data=df_2015, x='coordinates_x', y='coordinates_y')"
   ]
  },
  {
   "cell_type": "code",
   "execution_count": null,
   "id": "ad01941a-e508-4c02-88e2-c798b10f14e6",
   "metadata": {},
   "outputs": [],
   "source": [
    "# from ift6758.data.functions import fixCoOrdinates\n",
    "pd.set_option('max_columns', None)\n",
    "dfs_tidy = df_2015 \n",
    "\n",
    "# #convert to small image bin coordinates\n",
    "# dfs_tidy = dfs_tidy[dfs_tidy['coordinates_x'].notna()]#exclude na coordinates\n",
    "# dfs_tidy = dfs_tidy[dfs_tidy['coordinates_y'].notna()]#exclude na coordinates\n",
    "   \n",
    "# #fix and rotate coordinates to relative sides\n",
    "# #dfs_tidy_new = dfs_tidy.apply(fixCoOrdinates, axis=1, result_type=\"expand\")\n",
    "# #dfs_tidy.drop( dfs_tidy_new.columns, axis='columns', inplace=True )\n",
    "# #dfs_tidy = dfs_tidy.join(dfs_tidy_new)\n",
    "\n",
    "# dfs_tidy[['coordinates_x', 'coordinates_y']]\n",
    "\n",
    "#cords = \n",
    "#sns.scatterplot(data=cords, x='coordinates_x', y='coordinates_y')\n",
    "\n",
    "dfs_tidy[dfs_tidy['rebound']==True].head()"
   ]
  },
  {
   "cell_type": "code",
   "execution_count": null,
   "id": "8235f001-db6c-4b1e-9863-f3cc7c6d84c0",
   "metadata": {},
   "outputs": [],
   "source": [
    "import matplotlib.pyplot as plt\n",
    "import matplotlib.image as mpimg\n",
    "import ipywidgets as widgets\n",
    "from IPython.display import display"
   ]
  },
  {
   "cell_type": "code",
   "execution_count": null,
   "id": "9e307fd5-dea9-49a6-b395-1df31273fcd4",
   "metadata": {},
   "outputs": [],
   "source": [
    "periods = np.unique(dfs_tidy.period)\n",
    "periods"
   ]
  },
  {
   "cell_type": "code",
   "execution_count": null,
   "id": "bbd8c574-1c28-4e7a-a9dd-046c3d28f517",
   "metadata": {},
   "outputs": [],
   "source": [
    "teams = np.unique(dfs_tidy.teamInfo )\n",
    "teams"
   ]
  },
  {
   "cell_type": "markdown",
   "id": "a16af09f-bfc6-47d7-b505-296aae3bdca7",
   "metadata": {},
   "source": [
    "https://kapernikov.com/ipywidgets-with-matplotlib/"
   ]
  },
  {
   "cell_type": "code",
   "execution_count": null,
   "id": "8a5918d9-da23-42d7-9796-4f82641d9d33",
   "metadata": {},
   "outputs": [],
   "source": [
    "gameIds = np.unique(dfs_tidy.game_id )\n",
    "\n",
    "@widgets.interact(gameid=gameIds)\n",
    "def showTeams( gameid=\"2015020001\" ):\n",
    "    teams = np.unique(dfs_tidy[dfs_tidy.game_id == gameid].teamInfo)\n",
    "    periods = np.unique(dfs_tidy[dfs_tidy.game_id == gameid].period)\n",
    "    #print(teams)\n",
    "    @widgets.interact(team=teams, period=periods, showGoalsOnly=False)\n",
    "    def teams(team=\"Montréal Canadiens\", period=1, showGoalsOnly=False):\n",
    "        #print(gameid, \" \", team )\n",
    "        img = mpimg.imread('figures/nhl_rink.png')\n",
    "        fig, ax = plt.subplots(figsize=(20, 8.5))\n",
    "        #fig = plt.figure( figsize=(20, 8.5))\n",
    "        ax.imshow(img, extent=[-100, 100, -42.5, 42.5])\n",
    "        [l.remove() for l in ax.lines]\n",
    "        if showGoalsOnly:\n",
    "            plotDF = dfs_tidy[ (dfs_tidy.game_id == gameid) & (dfs_tidy.period == period) & (dfs_tidy.teamInfo == team) & (dfs_tidy.isGoal)]\n",
    "        else:\n",
    "            plotDF = dfs_tidy[ (dfs_tidy.game_id == gameid) & (dfs_tidy.period == period) & (dfs_tidy.teamInfo == team)]\n",
    "        ax.plot( plotDF['coordinates_x'], plotDF['coordinates_y'], 'bo')\n",
    "        \n",
    "    "
   ]
  },
  {
   "cell_type": "code",
   "execution_count": null,
   "id": "e0c0d910-c501-48ab-9c13-70488a710e1c",
   "metadata": {},
   "outputs": [],
   "source": [
    "periods = np.unique(dfs_tidy.period)\n",
    "teams = np.unique(dfs_tidy.teamInfo )\n",
    "gameIds = np.unique(dfs_tidy.game_id )\n",
    "\n",
    "@widgets.interact(gameid=gameIds, period=periods, team=teams, goal=True)\n",
    "def update(gameid=\"2015020001\",  period = 1, team=\"Toronto Maple Leafs\", goal=True):\n",
    "    \"\"\"Remove old lines from plot and plot new one\"\"\"\n",
    "    img = mpimg.imread('figures/nhl_rink.png')\n",
    "    fig, ax = plt.subplots(figsize=(20, 8.5))\n",
    "    #fig = plt.figure( figsize=(20, 8.5))\n",
    "    ax.imshow(img, extent=[-100, 100, -42.5, 42.5])\n",
    "    [l.remove() for l in ax.lines]\n",
    "    plotDF = dfs_tidy[ (dfs_tidy.game_id == gameid) & (dfs_tidy.period == period) & (dfs_tidy.teamInfo == team) & (dfs_tidy.isGoal == goal)]\n",
    "    ax.plot( plotDF['coordinates_x'], plotDF['coordinates_y'], 'bo')\n"
   ]
  },
  {
   "cell_type": "code",
   "execution_count": null,
   "id": "8b0d3208-1438-4841-8ed8-16fb42d40746",
   "metadata": {},
   "outputs": [],
   "source": [
    "sns.scatterplot(data=dfs_tidy[:5], x='coordinates_x', y='coordinates_y')"
   ]
  },
  {
   "cell_type": "code",
   "execution_count": null,
   "id": "79665bb8-6aa0-4997-b320-a20166a98b65",
   "metadata": {},
   "outputs": [],
   "source": [
    "sns.scatterplot(data=df_2016, x='coordinates_x', y='coordinates_y')"
   ]
  },
  {
   "cell_type": "code",
   "execution_count": null,
   "id": "c6ca3fbc-96a2-4365-99b8-9f2f42b05c6d",
   "metadata": {},
   "outputs": [],
   "source": [
    "sns.scatterplot(data=df_2017, x='coordinates_x', y='coordinates_y')"
   ]
  },
  {
   "cell_type": "code",
   "execution_count": 6,
   "id": "b1614ba1-43da-4257-8e21-1d9f0559d1d7",
   "metadata": {},
   "outputs": [],
   "source": [
    "df = df_2015.append(df_2016, ignore_index=True).append(df_2017, ignore_index=True).append(df_2018, ignore_index=True)#.dropna()\n",
    "\n",
    "data_distance = df[[\"dist_goal\", \"isGoal\"]].dropna()\n"
   ]
  },
  {
   "cell_type": "code",
   "execution_count": 7,
   "id": "2f3ae3d2-ae50-428c-8237-155ceffaed19",
   "metadata": {},
   "outputs": [
    {
     "name": "stdout",
     "output_type": "stream",
     "text": [
      "(79267, 29)\n",
      "(80399, 29)\n",
      "(87137, 29)\n",
      "(85939, 29)\n"
     ]
    },
    {
     "ename": "NameError",
     "evalue": "name 'data' is not defined",
     "output_type": "error",
     "traceback": [
      "\u001b[0;31m---------------------------------------------------------------------------\u001b[0m",
      "\u001b[0;31mNameError\u001b[0m                                 Traceback (most recent call last)",
      "\u001b[0;32m/var/folders/0t/3x9pw8y15wv301cvvgjgx9s00000gn/T/ipykernel_54800/1452339965.py\u001b[0m in \u001b[0;36m<module>\u001b[0;34m\u001b[0m\n\u001b[1;32m      3\u001b[0m \u001b[0mprint\u001b[0m\u001b[0;34m(\u001b[0m\u001b[0mdf_2017\u001b[0m\u001b[0;34m.\u001b[0m\u001b[0mshape\u001b[0m\u001b[0;34m)\u001b[0m\u001b[0;34m\u001b[0m\u001b[0;34m\u001b[0m\u001b[0m\n\u001b[1;32m      4\u001b[0m \u001b[0mprint\u001b[0m\u001b[0;34m(\u001b[0m\u001b[0mdf_2018\u001b[0m\u001b[0;34m.\u001b[0m\u001b[0mshape\u001b[0m\u001b[0;34m)\u001b[0m\u001b[0;34m\u001b[0m\u001b[0;34m\u001b[0m\u001b[0m\n\u001b[0;32m----> 5\u001b[0;31m \u001b[0mprint\u001b[0m\u001b[0;34m(\u001b[0m\u001b[0mdata\u001b[0m\u001b[0;34m.\u001b[0m\u001b[0mshape\u001b[0m\u001b[0;34m)\u001b[0m\u001b[0;34m\u001b[0m\u001b[0;34m\u001b[0m\u001b[0m\n\u001b[0m",
      "\u001b[0;31mNameError\u001b[0m: name 'data' is not defined"
     ]
    }
   ],
   "source": [
    "print(df_2015.shape)\n",
    "print(df_2016.shape)\n",
    "print(df_2017.shape)\n",
    "print(df_2018.shape)\n",
    "print(data.shape)"
   ]
  },
  {
   "cell_type": "code",
   "execution_count": null,
   "id": "572b8c0e-98c1-4857-bbf3-a466de103983",
   "metadata": {},
   "outputs": [],
   "source": [
    "data.info()"
   ]
  },
  {
   "cell_type": "markdown",
   "id": "479bf5ff-0067-4136-a6f4-ede56134eb01",
   "metadata": {},
   "source": [
    "#### Using your training dataset create a tidied dataset for each SHOT event, with the following columns (you can name them however you want):\n",
    "* Distance from net\n",
    "* Angle from net\n",
    "* Is goal (0 or 1)\n",
    "* Empty Net (0 or 1; you can assume NaNs are 0)\n",
    "\n",
    "\n",
    "You can approximate the net as a single point (i.e. you don’t need to account for the width of the net when computing the distance or angle). \n",
    "\n",
    "You should be able to create this easily using the functionality you implemented for tidying data in Milestone 1, as you will only need the (x, y) coordinates for each shot event. \n"
   ]
  },
  {
   "cell_type": "code",
   "execution_count": null,
   "id": "c756552a-8dc3-4467-8567-802f24b393a6",
   "metadata": {},
   "outputs": [],
   "source": [
    "# opponent_coordinate = [-90,0]\n",
    "\n",
    "# playerXYCoordDF = df[[\"coordinates_x\",\"coordinates_y\"]]\n",
    "# playerXYCoordDF.head()\n",
    "\n",
    "# playerXY_DF = playerXYCoordDF.apply( lambda x : pd.Series( opponent_coordinate, index = ['opponent_x', 'opponent_y'] ), axis=1, result_type=\"expand\")\n",
    "# playerXY_DF.head()\n",
    "\n",
    "# playerXY_DF2 = playerXYCoordDF.join(playerXY_DF)\n",
    "\n",
    "# # playerXY_DF3 \n",
    "# df[\"Distance\"]  = playerXY_DF2.apply( lambda row : np.sqrt((row.opponent_x - row.coordinates_x)**2 +  row.coordinates_y**2) if (row.coordinates_x < 0) else np.sqrt((-row.opponent_x - row.coordinates_x)**2 + row.coordinates_y**2), axis=1 , result_type=\"expand\" )\n"
   ]
  },
  {
   "cell_type": "code",
   "execution_count": null,
   "id": "2eb7431d-c956-4db5-afc4-9bdcf8f5c1be",
   "metadata": {},
   "outputs": [],
   "source": [
    "df.head()"
   ]
  },
  {
   "cell_type": "markdown",
   "id": "ddb3a30d-52c8-44a6-a738-20b048c6ac22",
   "metadata": {},
   "source": [
    "Create and include the following figures in your blogpost and briefly discuss your observations (few sentences):\n",
    "\n",
    "* A histogram of shot counts (goals and no-goals separated), binned by distance\n",
    "* A histogram of shot counts (goals and no-goals separated), binned by angle\n",
    "* A 2D histogram where one axis is the distance and the other is the angle. You do not need to separate goals and no-goals.\n",
    " Hint: check out jointplots. \n",
    "*As always, make sure all of your axes are labeled correctly, and you make the appropriate choice of axis scale.\n"
   ]
  },
  {
   "cell_type": "code",
   "execution_count": null,
   "id": "4890434e-9373-4d00-9ec2-48cf885625b3",
   "metadata": {},
   "outputs": [],
   "source": [
    "import seaborn as sns\n",
    "#ax = sns.histplot( df[[\"dist_goal\"]], bins=20)\n",
    "ax = sns.histplot( data, x = \"dist_goal\", bins=20)"
   ]
  },
  {
   "cell_type": "code",
   "execution_count": null,
   "id": "de0d0203-94eb-4049-9fbf-1d8b04f56ba6",
   "metadata": {},
   "outputs": [],
   "source": [
    "ax = sns.histplot( data, x = \"dist_goal\", hue=\"isGoal\", bins=20)"
   ]
  },
  {
   "cell_type": "code",
   "execution_count": null,
   "id": "b3f23342-03fa-4db5-b4b5-f2d19ec27fce",
   "metadata": {},
   "outputs": [],
   "source": [
    "import plotly.express as px\n",
    "\n",
    "fig = px.histogram(data, x = \"dist_goal\", color = \"isGoal\", nbins=20, barmode=\"overlay\")\n",
    "fig.show()"
   ]
  },
  {
   "cell_type": "code",
   "execution_count": null,
   "id": "60fab390",
   "metadata": {},
   "outputs": [],
   "source": [
    "df[df[\"dist_goal\"]]"
   ]
  },
  {
   "cell_type": "code",
   "execution_count": null,
   "id": "9cd4fa8b-abbf-4cbf-a1b7-84b6d9d9bb10",
   "metadata": {},
   "outputs": [],
   "source": [
    "data[data[\"isGoal\"] == False].dist_goal"
   ]
  },
  {
   "cell_type": "code",
   "execution_count": null,
   "id": "6134c379-e1d1-400b-99fe-45e429d2cfea",
   "metadata": {},
   "outputs": [],
   "source": [
    "import plotly.graph_objects as go\n",
    "\n",
    "import numpy as np\n",
    "\n",
    "\n",
    "x0 = data[data[\"isGoal\"] == False].dist_goal\n",
    "# Add 1 to shift the mean of the Gaussian distribution\n",
    "x1 = data[data[\"isGoal\"] == True].dist_goal\n",
    "\n",
    "fig = go.Figure()\n",
    "fig.add_trace(go.Histogram(x=x0, nbinsx=40))\n",
    "fig.add_trace(go.Histogram(x=x1, nbinsx=40))\n",
    "\n",
    "# Overlay both histograms\n",
    "fig.update_layout(barmode='overlay')\n",
    "# Reduce opacity to see both histograms\n",
    "fig.update_traces(opacity=0.8)\n",
    "fig.show()"
   ]
  },
  {
   "cell_type": "markdown",
   "id": "8339a5c6-c19d-4b5a-bd39-8292ae881f67",
   "metadata": {},
   "source": [
    "## 3. Baseline Models (15%)"
   ]
  },
  {
   "cell_type": "code",
   "execution_count": null,
   "id": "4ec85e36-5fc3-416c-b94f-78454623fa45",
   "metadata": {},
   "outputs": [],
   "source": [
    "np.unique(df[\"dist_goal\"], return_counts=True )"
   ]
  },
  {
   "cell_type": "code",
   "execution_count": null,
   "id": "3e9c4989-0235-4d9b-86cd-4ad93abbd09a",
   "metadata": {},
   "outputs": [],
   "source": [
    "# \"shotType\" - encode\n",
    "# \"shooter\", \"goalie\", encode or drop\n",
    "#  \"awayTeam\", \"homeTeam\",\n"
   ]
  },
  {
   "cell_type": "code",
   "execution_count": null,
   "id": "a0343de8-c151-45bc-826c-317bd8af212e",
   "metadata": {},
   "outputs": [],
   "source": [
    "X.shape"
   ]
  },
  {
   "cell_type": "markdown",
   "id": "8ab8b98f-73a5-4ca0-af1c-7d962311820d",
   "metadata": {},
   "source": [
    "* Logistic Regression"
   ]
  },
  {
   "cell_type": "code",
   "execution_count": null,
   "id": "768edaca-d66e-4400-b1df-1c56abe8b19c",
   "metadata": {},
   "outputs": [],
   "source": [
    "y.shape"
   ]
  },
  {
   "cell_type": "code",
   "execution_count": 8,
   "id": "9c8984a1-aa95-452b-9564-f48f12730898",
   "metadata": {},
   "outputs": [
    {
     "ename": "NameError",
     "evalue": "name 'X' is not defined",
     "output_type": "error",
     "traceback": [
      "\u001b[0;31m---------------------------------------------------------------------------\u001b[0m",
      "\u001b[0;31mNameError\u001b[0m                                 Traceback (most recent call last)",
      "\u001b[0;32m/var/folders/0t/3x9pw8y15wv301cvvgjgx9s00000gn/T/ipykernel_54800/4186061658.py\u001b[0m in \u001b[0;36m<module>\u001b[0;34m\u001b[0m\n\u001b[1;32m      1\u001b[0m \u001b[0;32mfrom\u001b[0m \u001b[0msklearn\u001b[0m\u001b[0;34m.\u001b[0m\u001b[0mmodel_selection\u001b[0m \u001b[0;32mimport\u001b[0m \u001b[0mtrain_test_split\u001b[0m\u001b[0;34m\u001b[0m\u001b[0;34m\u001b[0m\u001b[0m\n\u001b[0;32m----> 2\u001b[0;31m \u001b[0mX_train\u001b[0m\u001b[0;34m,\u001b[0m \u001b[0mX_test\u001b[0m\u001b[0;34m,\u001b[0m \u001b[0my_train\u001b[0m\u001b[0;34m,\u001b[0m \u001b[0my_test\u001b[0m \u001b[0;34m=\u001b[0m \u001b[0mtrain_test_split\u001b[0m\u001b[0;34m(\u001b[0m\u001b[0mX\u001b[0m\u001b[0;34m,\u001b[0m \u001b[0my\u001b[0m\u001b[0;34m,\u001b[0m \u001b[0mtest_size\u001b[0m\u001b[0;34m=\u001b[0m\u001b[0;36m0.33\u001b[0m\u001b[0;34m,\u001b[0m \u001b[0mrandom_state\u001b[0m\u001b[0;34m=\u001b[0m\u001b[0;36m42\u001b[0m\u001b[0;34m)\u001b[0m\u001b[0;34m\u001b[0m\u001b[0;34m\u001b[0m\u001b[0m\n\u001b[0m",
      "\u001b[0;31mNameError\u001b[0m: name 'X' is not defined"
     ]
    }
   ],
   "source": [
    "from sklearn.model_selection import train_test_split\n",
    "X_train, X_test, y_train, y_test = train_test_split(X, y, test_size=0.33, random_state=42)"
   ]
  },
  {
   "cell_type": "code",
   "execution_count": null,
   "id": "ade19f14-bd4d-47dd-bc3e-2f185eed2864",
   "metadata": {},
   "outputs": [],
   "source": [
    "from sklearn.linear_model import LogisticRegression\n",
    "from sklearn.metrics import f1_score, precision_score, recall_score, confusion_matrix\n",
    "clf = LogisticRegression(random_state=0).fit(X_train, y_train)"
   ]
  },
  {
   "cell_type": "code",
   "execution_count": null,
   "id": "c4025245-e2ee-45da-81a4-4a2fd306a50c",
   "metadata": {},
   "outputs": [],
   "source": [
    "y_pred = clf.predict(X_test)"
   ]
  },
  {
   "cell_type": "code",
   "execution_count": null,
   "id": "17d06b03-ecc4-4fa1-a4cb-4dd38a85b222",
   "metadata": {},
   "outputs": [],
   "source": [
    "clf.predict_proba(X_test)"
   ]
  },
  {
   "cell_type": "code",
   "execution_count": null,
   "id": "303e4dc3-a4f5-4d8c-9aa7-5755f7f52771",
   "metadata": {},
   "outputs": [],
   "source": [
    "#clf.score(X_train, y_train)"
   ]
  },
  {
   "cell_type": "code",
   "execution_count": null,
   "id": "0c4f6b38-023a-4760-ad74-81f8dc87a2fb",
   "metadata": {},
   "outputs": [],
   "source": [
    "clf.score(X_test, y_test)"
   ]
  },
  {
   "cell_type": "code",
   "execution_count": null,
   "id": "8b969860-71dd-41f4-89f4-6b61014414c2",
   "metadata": {},
   "outputs": [],
   "source": [
    "f1 = f1_score(y_test, y_pred)\n",
    "precision = precision_score(y_test, y_pred)\n",
    "recall = recall_score(y_test, y_pred)"
   ]
  },
  {
   "cell_type": "code",
   "execution_count": null,
   "id": "c8d45a6c-2c65-4d5e-9dbd-7b5e4d2ad64e",
   "metadata": {},
   "outputs": [],
   "source": [
    "metrics = {\"f1\":f1,\n",
    "\"recall\":recall,\n",
    "\"precision\":precision\n",
    "}\n",
    "\n",
    "experiment.log_dataset_hash(X_train)\n",
    "experiment.log_metrics(metrics)"
   ]
  },
  {
   "cell_type": "code",
   "execution_count": null,
   "id": "b3d1f245-ff95-42ef-961a-8a63da12e0a5",
   "metadata": {},
   "outputs": [],
   "source": [
    "experiment.end()"
   ]
  },
  {
   "cell_type": "markdown",
   "id": "87de9e32",
   "metadata": {},
   "source": [
    "### Logistic Regression, trained on angle only"
   ]
  },
  {
   "cell_type": "code",
   "execution_count": 10,
   "id": "8ea3a039",
   "metadata": {},
   "outputs": [],
   "source": [
    "data_angle = df[[\"angle_goal\", \"isGoal\"]].dropna()"
   ]
  },
  {
   "cell_type": "code",
   "execution_count": 11,
   "id": "c04a8b51",
   "metadata": {},
   "outputs": [],
   "source": [
    "X_angle = data_angle[[\"angle_goal\"]]\n",
    "y_angle = data_angle[\"isGoal\"].apply( lambda x : 1 if x else 0 )"
   ]
  },
  {
   "cell_type": "code",
   "execution_count": 12,
   "id": "999344a7",
   "metadata": {},
   "outputs": [],
   "source": [
    "X_train, X_test, y_train, y_test = train_test_split(X_angle, y_angle, test_size=0.33, random_state=42)"
   ]
  },
  {
   "cell_type": "code",
   "execution_count": 14,
   "id": "ff7b2634",
   "metadata": {},
   "outputs": [],
   "source": [
    "from sklearn.linear_model import LogisticRegression\n",
    "clf_angle = LogisticRegression(random_state=0).fit(X_train, y_train)"
   ]
  },
  {
   "cell_type": "code",
   "execution_count": 15,
   "id": "c75bb9ed",
   "metadata": {},
   "outputs": [],
   "source": [
    "y_pred_angle = clf_angle.predict(X_test)"
   ]
  },
  {
   "cell_type": "code",
   "execution_count": 16,
   "id": "3ed3ba57",
   "metadata": {},
   "outputs": [
    {
     "data": {
      "text/plain": [
       "array([[0.90695355, 0.09304645],\n",
       "       [0.90726829, 0.09273171],\n",
       "       [0.90670884, 0.09329116],\n",
       "       ...,\n",
       "       [0.90741814, 0.09258186],\n",
       "       [0.9068385 , 0.0931615 ],\n",
       "       [0.90719453, 0.09280547]])"
      ]
     },
     "execution_count": 16,
     "metadata": {},
     "output_type": "execute_result"
    }
   ],
   "source": [
    "clf_angle.predict_proba(X_test)"
   ]
  },
  {
   "cell_type": "code",
   "execution_count": 17,
   "id": "9a1dec46",
   "metadata": {},
   "outputs": [
    {
     "data": {
      "text/plain": [
       "0.9051995009062014"
      ]
     },
     "execution_count": 17,
     "metadata": {},
     "output_type": "execute_result"
    }
   ],
   "source": [
    "clf_angle.score(X_test, y_test)"
   ]
  },
  {
   "cell_type": "code",
   "execution_count": 19,
   "id": "70a15baf",
   "metadata": {},
   "outputs": [
    {
     "name": "stderr",
     "output_type": "stream",
     "text": [
      "/opt/homebrew/Caskroom/miniforge/base/envs/ift6758-conda-env/lib/python3.9/site-packages/sklearn/metrics/_classification.py:1308: UndefinedMetricWarning: Precision is ill-defined and being set to 0.0 due to no predicted samples. Use `zero_division` parameter to control this behavior.\n",
      "  _warn_prf(average, modifier, msg_start, len(result))\n"
     ]
    }
   ],
   "source": [
    "from sklearn.metrics import f1_score, precision_score, recall_score, confusion_matrix\n",
    "f1_angle = f1_score(y_test, y_pred_angle)\n",
    "precision_angle = precision_score(y_test, y_pred_angle)\n",
    "recall_angle = recall_score(y_test, y_pred_angle)"
   ]
  },
  {
   "cell_type": "code",
   "execution_count": null,
   "id": "57a61cba",
   "metadata": {},
   "outputs": [],
   "source": [
    "print(f1_angle, precision_angle, recall_angle)"
   ]
  },
  {
   "cell_type": "code",
   "execution_count": null,
   "id": "f8034066",
   "metadata": {},
   "outputs": [],
   "source": [
    "import pickle\n",
    "filename = '/models/log_red_distance.joblib.pkl'\n",
    "s = pickle.dumps(clf_angle)\n",
    "model.save('./model_path/my_model.h5')"
   ]
  },
  {
   "cell_type": "code",
   "execution_count": null,
   "id": "77acd859",
   "metadata": {},
   "outputs": [],
   "source": []
  },
  {
   "cell_type": "code",
   "execution_count": null,
   "id": "5f1d9ada",
   "metadata": {},
   "outputs": [],
   "source": []
  },
  {
   "cell_type": "code",
   "execution_count": 22,
   "id": "8ae865c2",
   "metadata": {},
   "outputs": [
    {
     "name": "stderr",
     "output_type": "stream",
     "text": [
      "COMET ERROR: Experiment.log_model() requires a file or folder\n"
     ]
    }
   ],
   "source": [
    "metrics = {\"f1\":f1_angle,\n",
    "\"recall\":recall_angle,\n",
    "\"precision\":precision_angle\n",
    "}\n",
    "\n",
    "experiment.log_dataset_hash(X_train)\n",
    "experiment.log_model(\"Log_reg_with_distance\", \"../models/run-026\")\n",
    "experiment.log_metrics(metrics)"
   ]
  },
  {
   "cell_type": "code",
   "execution_count": 21,
   "id": "6b22cf9b",
   "metadata": {},
   "outputs": [
    {
     "name": "stderr",
     "output_type": "stream",
     "text": [
      "COMET INFO: ---------------------------\n",
      "COMET INFO: Comet.ml Experiment Summary\n",
      "COMET INFO: ---------------------------\n",
      "COMET INFO:   Data:\n",
      "COMET INFO:     display_summary_level : 1\n",
      "COMET INFO:     url                   : https://www.comet.ml/binulal/milestone-2/42800c008f0d450e80fd18cf464393c1\n",
      "COMET INFO:   Metrics:\n",
      "COMET INFO:     f1        : 0.0\n",
      "COMET INFO:     precision : 0.0\n",
      "COMET INFO:     recall    : 0.0\n",
      "COMET INFO:   Uploads:\n",
      "COMET INFO:     environment details : 1\n",
      "COMET INFO:     filename            : 1\n",
      "COMET INFO:     git metadata        : 1\n",
      "COMET INFO:     installed packages  : 1\n",
      "COMET INFO:     notebook            : 1\n",
      "COMET INFO:     source_code         : 1\n",
      "COMET INFO: ---------------------------\n",
      "COMET INFO: Uploading metrics, params, and assets to Comet before program termination (may take several seconds)\n",
      "COMET INFO: The Python SDK has 3600 seconds to finish before aborting...\n",
      "COMET INFO: Waiting for completion of the file uploads (may take several seconds)\n",
      "COMET INFO: The Python SDK has 10800 seconds to finish before aborting...\n",
      "COMET INFO: Still uploading 2 file(s), remaining 8.59 KB/8.59 KB\n"
     ]
    }
   ],
   "source": [
    "experiment.end()"
   ]
  },
  {
   "cell_type": "code",
   "execution_count": null,
   "id": "4636465d",
   "metadata": {},
   "outputs": [],
   "source": []
  },
  {
   "cell_type": "code",
   "execution_count": null,
   "id": "211c2edd",
   "metadata": {},
   "outputs": [],
   "source": []
  },
  {
   "cell_type": "code",
   "execution_count": null,
   "id": "2bd7fdb9",
   "metadata": {},
   "outputs": [],
   "source": []
  },
  {
   "cell_type": "code",
   "execution_count": null,
   "id": "a1e9e6f6",
   "metadata": {},
   "outputs": [],
   "source": [
    "def plot(fpr, tpr, roc_auc):\n",
    "    \n",
    "    plt.figure()\n",
    "    lw = 2\n",
    "    plt.plot(\n",
    "        fpr,\n",
    "        tpr,\n",
    "        color=\"darkorange\",\n",
    "        lw=lw,\n",
    "        label=\"ROC curve (area = %0.2f)\" % roc_auc,\n",
    "    )\n",
    "    plt.plot([0, 1], [0, 1], color=\"navy\", lw=lw, linestyle=\"--\")\n",
    "    plt.xlim([0.0, 1.0])\n",
    "    plt.ylim([0.0, 1.05])\n",
    "    plt.xlabel(\"False Positive Rate\")\n",
    "    plt.ylabel(\"True Positive Rate\")\n",
    "    plt.title(\"Receiver operating characteristic example\")\n",
    "    plt.legend(loc=\"lower right\")\n",
    "    plt.show()"
   ]
  },
  {
   "cell_type": "code",
   "execution_count": null,
   "id": "f5904f61",
   "metadata": {},
   "outputs": [],
   "source": [
    "# Compute ROC curve and ROC area for each class\n",
    "from sklearn.metrics import roc_curve, auc\n",
    "from sklearn.metrics import roc_auc_score\n",
    "import matplotlib.pyplot as plt\n",
    "\n",
    "fpr, tpr, threshold = roc_curve(y_test, clf_angle.predict_proba(X_test)[:,1])\n",
    "roc_auc = auc(fpr, tpr)\n",
    "plot(fpr, tpr, roc_auc)\n"
   ]
  },
  {
   "cell_type": "code",
   "execution_count": null,
   "id": "bada6297",
   "metadata": {},
   "outputs": [],
   "source": [
    "# TODO - 1) The goal rate (#goals / (#no_goals + #goals)) as a function of the shot probability model percentile, i.e. if a value is the 70th percentile, it is above 70% of the data. \n",
    "#2) #The cumulative proportion of goals (not shots) as a function of the shot probability model percentile.\n"
   ]
  },
  {
   "cell_type": "code",
   "execution_count": null,
   "id": "e765e257",
   "metadata": {},
   "outputs": [],
   "source": [
    "from sklearn.calibration import calibration_curve, CalibrationDisplay"
   ]
  },
  {
   "cell_type": "code",
   "execution_count": null,
   "id": "edadfd61",
   "metadata": {},
   "outputs": [],
   "source": [
    "prob_true_angle, prob_pred_angle = calibration_curve(y_test, clf.predict_proba(X_test)[:,1], n_bins=300)\n",
    "disp_angle = CalibrationDisplay(prob_true_angle, prob_pred_angle, clf.predict_proba(X_test)[:,1])\n",
    "disp_angle.plot()"
   ]
  },
  {
   "cell_type": "markdown",
   "id": "c54bfdcf",
   "metadata": {},
   "source": [
    "### Logistic Regression, trained on both distance and angle"
   ]
  },
  {
   "cell_type": "code",
   "execution_count": null,
   "id": "ee6713ed",
   "metadata": {},
   "outputs": [],
   "source": [
    "X_angle_distance = data_angle_distance[[\"dist_goal\",\"angle_goal\"]]\n",
    "y_angle_distance = data_angle_distance[\"isGoal\"].apply( lambda x : 1 if x else 0 )"
   ]
  },
  {
   "cell_type": "code",
   "execution_count": null,
   "id": "2dd9c14e",
   "metadata": {},
   "outputs": [],
   "source": [
    "X_train, X_test, y_train, y_test = train_test_split(X_angle_distance, y_angle_distance, test_size=0.33, random_state=42)"
   ]
  },
  {
   "cell_type": "code",
   "execution_count": null,
   "id": "e2558f42",
   "metadata": {},
   "outputs": [],
   "source": [
    "clf_angle_distance = LogisticRegression(random_state=0).fit(X_train, y_train)"
   ]
  },
  {
   "cell_type": "code",
   "execution_count": null,
   "id": "5f4f9b71",
   "metadata": {},
   "outputs": [],
   "source": [
    "y_pred_angle_distance = clf_angle_distance.predict(X_test)"
   ]
  },
  {
   "cell_type": "code",
   "execution_count": null,
   "id": "b416da33",
   "metadata": {},
   "outputs": [],
   "source": [
    "clf_angle_distance.score(X_test, y_test)"
   ]
  },
  {
   "cell_type": "code",
   "execution_count": null,
   "id": "0d71ad8d",
   "metadata": {},
   "outputs": [],
   "source": [
    "f1_angle_distance = f1_score(y_test, y_pred_angle_distance)\n",
    "precision_angle_distance = precision_score(y_test, y_pred_angle_distance)\n",
    "recall_angle_distance = recall_score(y_test, y_pred_angle_distance)"
   ]
  },
  {
   "cell_type": "code",
   "execution_count": null,
   "id": "6b06b028",
   "metadata": {},
   "outputs": [],
   "source": [
    "fpr_ad, tpr_ad, threshold_ad = roc_curve(y_test, clf_angle_distance.predict_proba(X_test)[:,1])\n",
    "roc_auc_ad = auc(fpr_ad, tpr_ad)\n",
    "plot(fpr_ad, tpr_ad, roc_auc_ad)"
   ]
  },
  {
   "cell_type": "code",
   "execution_count": null,
   "id": "e64ff721",
   "metadata": {},
   "outputs": [],
   "source": [
    "prob_true_angle_distance, prob_pred_angle_distance = calibration_curve(y_test, clf_angle_distance.predict_proba(X_test)[:,1], n_bins=300)\n",
    "disp_angle_d = CalibrationDisplay(prob_true_angle_distance, prob_pred_angle_distance, clf_angle_distance.predict_proba(X_test)[:,1])\n",
    "disp_angle_d.plot()"
   ]
  },
  {
   "cell_type": "markdown",
   "id": "8cb4d33d",
   "metadata": {},
   "source": [
    "# Random baseline: rather than training a classifier, the predicted probability is sampled from a uniform distribution, i.e. yiU(0,1)"
   ]
  },
  {
   "cell_type": "code",
   "execution_count": null,
   "id": "2f64628d",
   "metadata": {},
   "outputs": [],
   "source": []
  },
  {
   "cell_type": "code",
   "execution_count": null,
   "id": "f00c7c3c",
   "metadata": {},
   "outputs": [],
   "source": []
  },
  {
   "cell_type": "code",
   "execution_count": null,
   "id": "c85b198f",
   "metadata": {},
   "outputs": [],
   "source": []
  },
  {
   "cell_type": "code",
   "execution_count": null,
   "id": "30bceff2",
   "metadata": {},
   "outputs": [],
   "source": []
  },
  {
   "cell_type": "code",
   "execution_count": null,
   "id": "bfd08594",
   "metadata": {},
   "outputs": [],
   "source": []
  },
  {
   "cell_type": "markdown",
   "id": "ba1e7579-74cc-488a-a038-fd836627d7a6",
   "metadata": {},
   "source": [
    "## 4. Feature Engineering - II (20% + bonus 5%) "
   ]
  },
  {
   "cell_type": "code",
   "execution_count": null,
   "id": "9c75a9cb-66a8-45b6-a034-f7fe5863f810",
   "metadata": {},
   "outputs": [],
   "source": []
  },
  {
   "cell_type": "code",
   "execution_count": null,
   "id": "d248c0df-e437-4a70-ac79-cd195698e202",
   "metadata": {},
   "outputs": [],
   "source": []
  },
  {
   "cell_type": "markdown",
   "id": "92d7d7dc-75a4-4184-8d3d-b2d029f5ce3c",
   "metadata": {},
   "source": [
    "## 5. Advanced Models (20%)"
   ]
  },
  {
   "cell_type": "code",
   "execution_count": null,
   "id": "ef166ae7-8c5a-4944-868a-1cb48c438071",
   "metadata": {},
   "outputs": [],
   "source": [
    "!conda install --yes xgboost\n",
    "from xgboost import XGBClassifier   \n",
    "xgb_clf = XGBClassifier()\n"
   ]
  },
  {
   "cell_type": "code",
   "execution_count": null,
   "id": "6ff5c75b-9ee0-484c-b12f-ae4433fb70eb",
   "metadata": {},
   "outputs": [],
   "source": [
    "xgb_clf = XGBClassifier()\n",
    "a = X_train.astype('float')\n",
    "b = y_train.astype('int')\n",
    "\n",
    "xgb_clf.fit(a, b)"
   ]
  },
  {
   "cell_type": "code",
   "execution_count": null,
   "id": "83284600",
   "metadata": {},
   "outputs": [],
   "source": [
    "y_pred_xg = clf.predict(X_test)\n",
    "print(y_pred_xg)"
   ]
  },
  {
   "cell_type": "code",
   "execution_count": null,
   "id": "9076dd6a",
   "metadata": {},
   "outputs": [],
   "source": [
    "clf.score(X_test, y_test)"
   ]
  },
  {
   "cell_type": "code",
   "execution_count": null,
   "id": "6ee34ab6",
   "metadata": {},
   "outputs": [],
   "source": [
    "print(X_test)"
   ]
  },
  {
   "cell_type": "code",
   "execution_count": null,
   "id": "bf7826ec",
   "metadata": {},
   "outputs": [],
   "source": [
    "y_true = clf.predict_proba(X_test)\n",
    "print(y_true.shape)"
   ]
  },
  {
   "cell_type": "code",
   "execution_count": null,
   "id": "2e17f73c",
   "metadata": {},
   "outputs": [],
   "source": [
    "# Compute ROC curve and ROC area for each class\n",
    "from sklearn.metrics import roc_curve, auc\n",
    "from sklearn.metrics import roc_auc_score\n",
    "# fpr = dict()\n",
    "# tpr = dict()\n",
    "# roc_auc = dict()\n",
    "\n",
    "fpr, tpr, threshold = roc_curve(y_test, clf.predict_proba(X_test)[:,1])\n",
    "roc_auc = auc(fpr, tpr)\n",
    "\n",
    "# # Compute micro-average ROC curve and ROC area\n",
    "# fpr[\"micro\"], tpr[\"micro\"], _ = roc_curve(y_test.ravel(), y_true.ravel())\n",
    "# roc_auc[\"micro\"] = auc(fpr[\"micro\"], tpr[\"micro\"])"
   ]
  },
  {
   "cell_type": "code",
   "execution_count": null,
   "id": "6f5c5eff",
   "metadata": {},
   "outputs": [],
   "source": [
    "import matplotlib.pyplot as plt\n",
    "plt.figure()\n",
    "lw = 2\n",
    "plt.plot(\n",
    "    fpr,\n",
    "    tpr,\n",
    "    color=\"darkorange\",\n",
    "    lw=lw,\n",
    "    label=\"ROC curve (area = %0.2f)\" % roc_auc,\n",
    ")\n",
    "plt.plot([0, 1], [0, 1], color=\"navy\", lw=lw, linestyle=\"--\")\n",
    "plt.xlim([0.0, 1.0])\n",
    "plt.ylim([0.0, 1.05])\n",
    "plt.xlabel(\"False Positive Rate\")\n",
    "plt.ylabel(\"True Positive Rate\")\n",
    "plt.title(\"Receiver operating characteristic example\")\n",
    "plt.legend(loc=\"lower right\")\n",
    "plt.show()"
   ]
  },
  {
   "cell_type": "code",
   "execution_count": null,
   "id": "2bf5507a",
   "metadata": {},
   "outputs": [],
   "source": []
  },
  {
   "cell_type": "code",
   "execution_count": null,
   "id": "e99a885b",
   "metadata": {},
   "outputs": [],
   "source": [
    "print(y_pred_xg)"
   ]
  },
  {
   "cell_type": "code",
   "execution_count": null,
   "id": "7ff26dbe",
   "metadata": {},
   "outputs": [],
   "source": [
    "prob_true, prob_pred = calibration_curve(y_test, clf.predict_proba(X_test)[:,1], n_bins=300)\n",
    "disp = CalibrationDisplay(prob_true, prob_pred, clf.predict_proba(X_test)[:,1])\n",
    "disp.plot()"
   ]
  },
  {
   "cell_type": "code",
   "execution_count": null,
   "id": "98f85a97",
   "metadata": {},
   "outputs": [],
   "source": [
    "data_xgboost = df\n",
    "data_xgboost"
   ]
  },
  {
   "cell_type": "code",
   "execution_count": null,
   "id": "daaa155e",
   "metadata": {},
   "outputs": [],
   "source": [
    "data_xgboost.dtypes"
   ]
  },
  {
   "cell_type": "code",
   "execution_count": null,
   "id": "ccf3043c",
   "metadata": {},
   "outputs": [],
   "source": [
    "data_xgboost[\"rebound\"] = data_xgboost[\"rebound\"].apply( lambda x : 1 if x else 0 )"
   ]
  },
  {
   "cell_type": "code",
   "execution_count": null,
   "id": "324aab84",
   "metadata": {},
   "outputs": [],
   "source": [
    "data_xgboost"
   ]
  },
  {
   "cell_type": "code",
   "execution_count": null,
   "id": "853ad1a7",
   "metadata": {},
   "outputs": [],
   "source": [
    "data_xgboost = data_xgboost.dropna()\n",
    "X = data_xgboost[[\"coordinates_x\", \"coordinates_y\",\"rebound\", \"period\",\"shotType\",\"dist_goal\",\"angle_goal\",\"eventType_last\",\"coordinates_x_last\",\"coordinates_y_last\",\"distance_last\",\"speed\" ]]\n",
    "y = data_xgboost[\"isGoal\"].apply( lambda x : 1 if x else 0 )"
   ]
  },
  {
   "cell_type": "code",
   "execution_count": null,
   "id": "1a707fba",
   "metadata": {},
   "outputs": [],
   "source": [
    "X"
   ]
  },
  {
   "cell_type": "code",
   "execution_count": null,
   "id": "ba34f903",
   "metadata": {},
   "outputs": [],
   "source": [
    "X[[\"shotType\", \"eventType_last\"]].dropna()"
   ]
  },
  {
   "cell_type": "code",
   "execution_count": null,
   "id": "f929d097",
   "metadata": {},
   "outputs": [],
   "source": [
    "\n",
    "df = pd.get_dummies(X[[\"shotType\", \"eventType_last\"]])"
   ]
  },
  {
   "cell_type": "code",
   "execution_count": null,
   "id": "25166b86",
   "metadata": {},
   "outputs": [],
   "source": [
    "df"
   ]
  },
  {
   "cell_type": "code",
   "execution_count": null,
   "id": "49950008",
   "metadata": {},
   "outputs": [],
   "source": [
    "X = pd.concat([X,df], axis = 1)"
   ]
  },
  {
   "cell_type": "code",
   "execution_count": null,
   "id": "8bbfe2ef",
   "metadata": {},
   "outputs": [],
   "source": [
    "X_new = X.drop(['shotType', 'eventType_last'], axis = 1)"
   ]
  },
  {
   "cell_type": "code",
   "execution_count": null,
   "id": "bbef7b06",
   "metadata": {},
   "outputs": [],
   "source": [
    "X_new.shape"
   ]
  },
  {
   "cell_type": "code",
   "execution_count": null,
   "id": "0bf2bc08",
   "metadata": {},
   "outputs": [],
   "source": []
  },
  {
   "cell_type": "code",
   "execution_count": null,
   "id": "7b466b46",
   "metadata": {},
   "outputs": [],
   "source": [
    "from xgboost import XGBClassifier   \n",
    "\n",
    "xgb_clf_new = XGBClassifier()"
   ]
  },
  {
   "cell_type": "code",
   "execution_count": null,
   "id": "00f45cb6",
   "metadata": {},
   "outputs": [],
   "source": [
    "from sklearn.model_selection import train_test_split"
   ]
  },
  {
   "cell_type": "code",
   "execution_count": null,
   "id": "fed35c48",
   "metadata": {},
   "outputs": [],
   "source": [
    "X_train, X_test, y_train, y_test = train_test_split(X_new, y, test_size=0.33, random_state=42)"
   ]
  },
  {
   "cell_type": "code",
   "execution_count": null,
   "id": "3165a2ec",
   "metadata": {},
   "outputs": [],
   "source": []
  },
  {
   "cell_type": "code",
   "execution_count": null,
   "id": "3c7f7c8e",
   "metadata": {},
   "outputs": [],
   "source": []
  },
  {
   "cell_type": "code",
   "execution_count": null,
   "id": "21c049e0",
   "metadata": {},
   "outputs": [],
   "source": [
    "# a = X_train.astype('float')\n",
    "# b = y_train.astype('int')\n",
    "xgb_clf_new.fit(c,b_new)"
   ]
  },
  {
   "cell_type": "code",
   "execution_count": null,
   "id": "cbf20630",
   "metadata": {},
   "outputs": [],
   "source": [
    "xgb_clf_new.score(X_test, y_test)"
   ]
  },
  {
   "cell_type": "code",
   "execution_count": null,
   "id": "8aa1df70",
   "metadata": {},
   "outputs": [],
   "source": [
    "c=a[~a.isin([np.nan, np.inf, -np.inf]).any(1)]\n",
    "condn=~a.isin([np.nan, np.inf, -np.inf]).any(1)\n",
    "b_new=b[condn]"
   ]
  },
  {
   "cell_type": "code",
   "execution_count": null,
   "id": "ebcd6f5b",
   "metadata": {},
   "outputs": [],
   "source": [
    "c[c.isin([np.nan, np.inf, -np.inf]).any(1)]"
   ]
  },
  {
   "cell_type": "code",
   "execution_count": null,
   "id": "c6dbc7f7",
   "metadata": {},
   "outputs": [],
   "source": [
    "condn"
   ]
  },
  {
   "cell_type": "code",
   "execution_count": null,
   "id": "5a4e79d0",
   "metadata": {},
   "outputs": [],
   "source": [
    "c"
   ]
  },
  {
   "cell_type": "code",
   "execution_count": null,
   "id": "8fdbfaba",
   "metadata": {},
   "outputs": [],
   "source": [
    "b_new"
   ]
  },
  {
   "cell_type": "code",
   "execution_count": null,
   "id": "a5d0fc4e",
   "metadata": {},
   "outputs": [],
   "source": []
  },
  {
   "cell_type": "code",
   "execution_count": null,
   "id": "dfb874ce",
   "metadata": {},
   "outputs": [],
   "source": []
  },
  {
   "cell_type": "code",
   "execution_count": null,
   "id": "cbbd98d5",
   "metadata": {},
   "outputs": [],
   "source": []
  },
  {
   "cell_type": "code",
   "execution_count": null,
   "id": "9d32ed8a",
   "metadata": {},
   "outputs": [],
   "source": [
    "from sklearn.preprocessing import LabelEncoder\n",
    "from sklearn.preprocessing import OrdinalEncoder\n",
    "def prepare_inputs(X_train, X_test):\n",
    "    oe = OrdinalEncoder()\n",
    "    oe.fit(X_train)\n",
    "    X_train_enc = oe.transform(X_train)\n",
    "    X_test_enc = oe.transform(X_test)\n",
    "    return X_train_enc, X_test_enc"
   ]
  },
  {
   "cell_type": "code",
   "execution_count": null,
   "id": "afed2286",
   "metadata": {},
   "outputs": [],
   "source": [
    "def prepare_targets(y_train, y_test):\n",
    "    le = LabelEncoder()\n",
    "    le.fit(y_train)\n",
    "    y_train_enc = le.transform(y_train)\n",
    "    y_test_enc = le.transform(y_test)\n",
    "    return y_train_enc, y_test_enc"
   ]
  },
  {
   "cell_type": "code",
   "execution_count": null,
   "id": "1ceae9e2",
   "metadata": {},
   "outputs": [],
   "source": [
    "# prepare input data\n",
    "X_train_enc, X_test_enc = prepare_inputs(X_train, X_test)\n",
    "# prepare output data\n",
    "y_train_enc, y_test_enc = prepare_targets(y_train, y_test)"
   ]
  },
  {
   "cell_type": "code",
   "execution_count": null,
   "id": "47f8e304",
   "metadata": {},
   "outputs": [],
   "source": []
  },
  {
   "cell_type": "code",
   "execution_count": null,
   "id": "99abecaa",
   "metadata": {},
   "outputs": [],
   "source": []
  },
  {
   "cell_type": "code",
   "execution_count": null,
   "id": "fb676a6e",
   "metadata": {},
   "outputs": [],
   "source": [
    "xgb_clf_1 = XGBClassifier()"
   ]
  },
  {
   "cell_type": "code",
   "execution_count": null,
   "id": "c850e646",
   "metadata": {},
   "outputs": [],
   "source": [
    "a = X_train.astype('float')\n",
    "b = y_train.astype('int')\n",
    "\n",
    "xgb_clf_1.fit(a,b)"
   ]
  },
  {
   "cell_type": "code",
   "execution_count": null,
   "id": "737b1de0",
   "metadata": {},
   "outputs": [],
   "source": []
  },
  {
   "cell_type": "code",
   "execution_count": null,
   "id": "3af92797",
   "metadata": {},
   "outputs": [],
   "source": []
  },
  {
   "cell_type": "code",
   "execution_count": null,
   "id": "e6db2418",
   "metadata": {},
   "outputs": [],
   "source": []
  },
  {
   "cell_type": "code",
   "execution_count": null,
   "id": "cf2f3071",
   "metadata": {},
   "outputs": [],
   "source": []
  },
  {
   "cell_type": "markdown",
   "id": "fded8014-4d75-4986-b03f-161b12a23c0d",
   "metadata": {},
   "source": [
    "## 6. Give it your best shot! (25%)"
   ]
  },
  {
   "cell_type": "code",
   "execution_count": null,
   "id": "2a2e3aca-34e7-4b27-a113-227efc7de5a5",
   "metadata": {},
   "outputs": [],
   "source": []
  },
  {
   "cell_type": "code",
   "execution_count": null,
   "id": "99fa1513-6fc3-4664-b4d4-a61858e60c14",
   "metadata": {},
   "outputs": [],
   "source": []
  },
  {
   "cell_type": "markdown",
   "id": "87edee3d-c129-46b0-97ea-fe5eecfaf924",
   "metadata": {},
   "source": [
    "## 7. Evaluate on test set (10%)"
   ]
  },
  {
   "cell_type": "code",
   "execution_count": null,
   "id": "359e18f3-d7ca-401e-bf98-7ef5befe71a4",
   "metadata": {},
   "outputs": [],
   "source": []
  },
  {
   "cell_type": "code",
   "execution_count": null,
   "id": "43f155fa-341b-4847-8c5a-edee629a534c",
   "metadata": {},
   "outputs": [],
   "source": []
  },
  {
   "cell_type": "markdown",
   "id": "04d2584e-e60d-43ec-b678-8d2162c8d5ea",
   "metadata": {},
   "source": [
    "## 8. Blog Post (upto 30% penalty)"
   ]
  },
  {
   "cell_type": "code",
   "execution_count": null,
   "id": "a1bc7cfc-4948-4943-a606-2d7926a3df88",
   "metadata": {},
   "outputs": [],
   "source": []
  },
  {
   "cell_type": "code",
   "execution_count": null,
   "id": "13455532-eeba-4259-b6ad-d8719e954768",
   "metadata": {},
   "outputs": [],
   "source": []
  }
 ],
 "metadata": {
  "kernelspec": {
   "display_name": "ift6758-conda-env",
   "language": "python",
   "name": "ift6758-conda-env"
  },
  "language_info": {
   "codemirror_mode": {
    "name": "ipython",
    "version": 3
   },
   "file_extension": ".py",
   "mimetype": "text/x-python",
   "name": "python",
   "nbconvert_exporter": "python",
   "pygments_lexer": "ipython3",
   "version": "3.9.7"
  }
 },
 "nbformat": 4,
 "nbformat_minor": 5
}
