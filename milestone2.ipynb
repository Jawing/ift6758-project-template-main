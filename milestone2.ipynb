{
 "cells": [
  {
   "cell_type": "markdown",
   "id": "0addf8bd-df06-4754-bf8a-d3bd489d0078",
   "metadata": {
    "tags": []
   },
   "source": [
    "# Milestone 2"
   ]
  },
  {
   "cell_type": "code",
   "execution_count": 1,
   "id": "95fef004-9d5b-4259-ace2-a25e77a70f11",
   "metadata": {},
   "outputs": [],
   "source": [
    "# for auto-reloading extenrnal modules\n",
    "# see http://stackoverflow.com/questions/1907993/autoreload-of-modules-in-ipython\n",
    "%load_ext autoreload\n",
    "%autoreload 2"
   ]
  },
  {
   "cell_type": "code",
   "execution_count": 2,
   "id": "d9f87136-da0f-4c2f-a54d-c96a1cc03ca6",
   "metadata": {},
   "outputs": [],
   "source": [
    "import os\n",
    "\n",
    "import numpy as np \n",
    "import pandas as pd\n",
    "import seaborn as sns\n",
    "\n",
    "pd.options.display.max_columns = None"
   ]
  },
  {
   "cell_type": "markdown",
   "id": "17e02ccc-88c3-437e-9b19-25be57a1c9ae",
   "metadata": {},
   "source": [
    "## 1. Experiment Tracking (10%)"
   ]
  },
  {
   "cell_type": "markdown",
   "id": "1268e5c9-3b5b-40ee-a4f2-be2588faf307",
   "metadata": {},
   "source": [
    "Please do this to install comet_ml pip <br>\n",
    "> conda activate ift6758-conda-env <br>\n",
    "> conda install pip<br>\n",
    "> which pip<br>\n",
    "> pip install comet_ml<br>\n",
    "\n"
   ]
  },
  {
   "cell_type": "code",
   "execution_count": 78,
   "id": "1b0da272-c2b0-4f43-a1b4-d3f29db21620",
   "metadata": {},
   "outputs": [
    {
     "name": "stderr",
     "output_type": "stream",
     "text": [
      "COMET INFO: Comet API key is valid\n"
     ]
    }
   ],
   "source": [
    "import comet_ml\n",
    "comet_ml.init()\n",
    "\n",
    "from comet_ml import Experiment\n",
    "experiment = Experiment(\n",
    "    project_name=\"milestone-2\",\n",
    "    workspace=\"binulal\",\n",
    ")"
   ]
  },
  {
   "cell_type": "markdown",
   "id": "4facd3f4-47ad-4540-af2a-19af4b9c6d13",
   "metadata": {},
   "source": [
    "## 2. Feature Engineering - I (10%)"
   ]
  },
  {
   "cell_type": "markdown",
   "id": "c9b6baa7-ce83-4500-a72b-157bc7eeb3fb",
   "metadata": {},
   "source": [
    "* Acquire all of the raw play-by-play data for the 2015/16 season all the way to the 2019/20 season (inclusive).\n",
    "* Set aside all of the 2019/20 data as your final test set. \n",
    "* You will use the 2015/16 - 2018/19 regular season data to create your training and validation sets. \n",
    "* Until Part 7, any reference to the “dataset” will exclusively refer to the 2015/16 - 2018/19 data\n"
   ]
  },
  {
   "cell_type": "code",
   "execution_count": 4,
   "id": "a6060861-f7c1-453e-a194-cd5bb008500c",
   "metadata": {},
   "outputs": [],
   "source": [
    "from ift6758.data.functions import loadstats\n",
    "from ift6758.data.tidyData import tidyData"
   ]
  },
  {
   "cell_type": "code",
   "execution_count": 6,
   "id": "190d3633-be94-4ba9-b02b-bf82de4a34a6",
   "metadata": {},
   "outputs": [
    {
     "name": "stdout",
     "output_type": "stream",
     "text": [
      "Error code: 404 at gameID:2015021231. Game not found.\n",
      "size of data in regular season: 1230\n",
      "Error code: 404 at gameID:2015030126. Game not found.\n",
      "Error code: 404 at gameID:2015030137. Game not found.\n",
      "Error code: 404 at gameID:2015030146. Game not found.\n",
      "Error code: 404 at gameID:2015030157. Game not found.\n",
      "Error code: 404 at gameID:2015030187. Game not found.\n",
      "Error code: 404 at gameID:2015030216. Game not found.\n",
      "Error code: 404 at gameID:2015030417. Game not found.\n",
      "size of data in regular season & playoffs: 1325\n",
      "Error code: 404 at gameID:2016021231. Game not found.\n",
      "size of data in regular season: 1230\n",
      "Error code: 404 at gameID:2016030147. Game not found.\n",
      "Error code: 404 at gameID:2016030176. Game not found.\n",
      "size of data in regular season & playoffs: 1332\n",
      "size of data in regular season: 1271\n",
      "size of data in regular season & playoffs: 1376\n",
      "size of data in regular season: 1271\n",
      "size of data in regular season & playoffs: 1376\n",
      "size of data in regular season: 1271\n",
      "Error code: 404 at gameID:2019030007. Game not found.\n",
      "Error code: 404 at gameID:2019030017. Game not found.\n",
      "Error code: 404 at gameID:2019030026. Game not found.\n",
      "Error code: 404 at gameID:2019030036. Game not found.\n",
      "Error code: 404 at gameID:2019030046. Game not found.\n",
      "Error code: 404 at gameID:2019030056. Game not found.\n",
      "Error code: 404 at gameID:2019030066. Game not found.\n",
      "Error code: 404 at gameID:2019030076. Game not found.\n",
      "Error code: 404 at gameID:2019030086. Game not found.\n",
      "Error code: 404 at gameID:2019030096. Game not found.\n",
      "size of data in regular season & playoffs: 1428\n"
     ]
    }
   ],
   "source": [
    "\n",
    "dfs_2015 = loadstats(2015,'./data/')\n",
    "df_2015 = tidyData(dfs_2015)\n",
    "\n",
    "dfs_2016 = loadstats(2016,'./data/')\n",
    "df_2016 = tidyData(dfs_2016)\n",
    "\n",
    "dfs_2017 = loadstats(2017,'./data/')\n",
    "df_2017 = tidyData(dfs_2017)\n",
    "\n",
    "dfs_2018 = loadstats(2018,'./data/')\n",
    "df_2018 = tidyData(dfs_2018)\n",
    "\n",
    "dfs_2019 = loadstats(2019,'./data/')\n",
    "#df_2019 = tidyData(dfs_2019) <---- do this on section# 7"
   ]
  },
  {
   "cell_type": "code",
   "execution_count": 7,
   "id": "b1614ba1-43da-4257-8e21-1d9f0559d1d7",
   "metadata": {},
   "outputs": [],
   "source": [
    "df = df_2015.append(df_2016, ignore_index=True).append(df_2017, ignore_index=True).append(df_2018, ignore_index=True).dropna()"
   ]
  },
  {
   "cell_type": "code",
   "execution_count": 8,
   "id": "2f3ae3d2-ae50-428c-8237-155ceffaed19",
   "metadata": {},
   "outputs": [
    {
     "name": "stdout",
     "output_type": "stream",
     "text": [
      "(79267, 15)\n",
      "(80399, 15)\n",
      "(87137, 15)\n",
      "(85939, 15)\n",
      "(332682, 15)\n"
     ]
    }
   ],
   "source": [
    "print(df_2015.shape)\n",
    "print(df_2016.shape)\n",
    "print(df_2017.shape)\n",
    "print(df_2018.shape)\n",
    "print(df.shape)"
   ]
  },
  {
   "cell_type": "code",
   "execution_count": 9,
   "id": "572b8c0e-98c1-4857-bbf3-a466de103983",
   "metadata": {},
   "outputs": [
    {
     "name": "stdout",
     "output_type": "stream",
     "text": [
      "<class 'pandas.core.frame.DataFrame'>\n",
      "Int64Index: 332682 entries, 0 to 332741\n",
      "Data columns (total 15 columns):\n",
      " #   Column         Non-Null Count   Dtype \n",
      "---  ------         --------------   ----- \n",
      " 0   game_id        332682 non-null  object\n",
      " 1   event_idx      332682 non-null  object\n",
      " 2   period         332682 non-null  object\n",
      " 3   periodTime     332682 non-null  object\n",
      " 4   teamInfo       332682 non-null  object\n",
      " 5   isGoal         332682 non-null  object\n",
      " 6   shotType       332682 non-null  object\n",
      " 7   coordinates_x  332682 non-null  object\n",
      " 8   coordinates_y  332682 non-null  object\n",
      " 9   shooter        332682 non-null  object\n",
      " 10  goalie         332682 non-null  object\n",
      " 11  emptyNet       332682 non-null  object\n",
      " 12  strength       332682 non-null  object\n",
      " 13  awayTeam       332682 non-null  object\n",
      " 14  homeTeam       332682 non-null  object\n",
      "dtypes: object(15)\n",
      "memory usage: 40.6+ MB\n"
     ]
    }
   ],
   "source": [
    "df.info()"
   ]
  },
  {
   "cell_type": "markdown",
   "id": "479bf5ff-0067-4136-a6f4-ede56134eb01",
   "metadata": {},
   "source": [
    "#### Using your training dataset create a tidied dataset for each SHOT event, with the following columns (you can name them however you want):\n",
    "* Distance from net\n",
    "* Angle from net\n",
    "* Is goal (0 or 1)\n",
    "* Empty Net (0 or 1; you can assume NaNs are 0)\n",
    "\n",
    "\n",
    "You can approximate the net as a single point (i.e. you don’t need to account for the width of the net when computing the distance or angle). \n",
    "\n",
    "You should be able to create this easily using the functionality you implemented for tidying data in Milestone 1, as you will only need the (x, y) coordinates for each shot event. \n"
   ]
  },
  {
   "cell_type": "code",
   "execution_count": 10,
   "id": "c756552a-8dc3-4467-8567-802f24b393a6",
   "metadata": {},
   "outputs": [],
   "source": [
    "opponent_coordinate = [-90,0]\n",
    "\n",
    "playerXYCoordDF = df[[\"coordinates_x\",\"coordinates_y\"]]\n",
    "playerXYCoordDF.head()\n",
    "\n",
    "playerXY_DF = playerXYCoordDF.apply( lambda x : pd.Series( opponent_coordinate, index = ['opponent_x', 'opponent_y'] ), axis=1, result_type=\"expand\")\n",
    "playerXY_DF.head()\n",
    "\n",
    "playerXY_DF2 = playerXYCoordDF.join(playerXY_DF)\n",
    "\n",
    "# playerXY_DF3 \n",
    "df[\"Distance\"]  = playerXY_DF2.apply( lambda row : np.sqrt((row.opponent_x - row.coordinates_x)**2 +  row.coordinates_y**2) if (row.coordinates_x < 0) else np.sqrt((-row.opponent_x - row.coordinates_x)**2 + row.coordinates_y**2), axis=1 , result_type=\"expand\" )\n"
   ]
  },
  {
   "cell_type": "code",
   "execution_count": 11,
   "id": "2eb7431d-c956-4db5-afc4-9bdcf8f5c1be",
   "metadata": {},
   "outputs": [
    {
     "data": {
      "text/html": [
       "<div>\n",
       "<style scoped>\n",
       "    .dataframe tbody tr th:only-of-type {\n",
       "        vertical-align: middle;\n",
       "    }\n",
       "\n",
       "    .dataframe tbody tr th {\n",
       "        vertical-align: top;\n",
       "    }\n",
       "\n",
       "    .dataframe thead th {\n",
       "        text-align: right;\n",
       "    }\n",
       "</style>\n",
       "<table border=\"1\" class=\"dataframe\">\n",
       "  <thead>\n",
       "    <tr style=\"text-align: right;\">\n",
       "      <th></th>\n",
       "      <th>game_id</th>\n",
       "      <th>event_idx</th>\n",
       "      <th>period</th>\n",
       "      <th>periodTime</th>\n",
       "      <th>teamInfo</th>\n",
       "      <th>isGoal</th>\n",
       "      <th>shotType</th>\n",
       "      <th>coordinates_x</th>\n",
       "      <th>coordinates_y</th>\n",
       "      <th>shooter</th>\n",
       "      <th>goalie</th>\n",
       "      <th>emptyNet</th>\n",
       "      <th>strength</th>\n",
       "      <th>awayTeam</th>\n",
       "      <th>homeTeam</th>\n",
       "      <th>Distance</th>\n",
       "    </tr>\n",
       "  </thead>\n",
       "  <tbody>\n",
       "    <tr>\n",
       "      <th>0</th>\n",
       "      <td>2015020001</td>\n",
       "      <td>7</td>\n",
       "      <td>1</td>\n",
       "      <td>00:51</td>\n",
       "      <td>Toronto Maple Leafs</td>\n",
       "      <td>False</td>\n",
       "      <td>Wrist Shot</td>\n",
       "      <td>-55.0</td>\n",
       "      <td>6.0</td>\n",
       "      <td>Brad Boyes</td>\n",
       "      <td>Carey Price</td>\n",
       "      <td>False</td>\n",
       "      <td>NA</td>\n",
       "      <td>Montréal Canadiens</td>\n",
       "      <td>Toronto Maple Leafs</td>\n",
       "      <td>35.510562</td>\n",
       "    </tr>\n",
       "    <tr>\n",
       "      <th>1</th>\n",
       "      <td>2015020001</td>\n",
       "      <td>9</td>\n",
       "      <td>1</td>\n",
       "      <td>01:05</td>\n",
       "      <td>Toronto Maple Leafs</td>\n",
       "      <td>False</td>\n",
       "      <td>Snap Shot</td>\n",
       "      <td>-79.0</td>\n",
       "      <td>0.0</td>\n",
       "      <td>Nazem Kadri</td>\n",
       "      <td>Carey Price</td>\n",
       "      <td>False</td>\n",
       "      <td>NA</td>\n",
       "      <td>Montréal Canadiens</td>\n",
       "      <td>Toronto Maple Leafs</td>\n",
       "      <td>11.000000</td>\n",
       "    </tr>\n",
       "    <tr>\n",
       "      <th>2</th>\n",
       "      <td>2015020001</td>\n",
       "      <td>10</td>\n",
       "      <td>1</td>\n",
       "      <td>01:06</td>\n",
       "      <td>Toronto Maple Leafs</td>\n",
       "      <td>False</td>\n",
       "      <td>Snap Shot</td>\n",
       "      <td>-75.0</td>\n",
       "      <td>-1.0</td>\n",
       "      <td>Nazem Kadri</td>\n",
       "      <td>Carey Price</td>\n",
       "      <td>False</td>\n",
       "      <td>NA</td>\n",
       "      <td>Montréal Canadiens</td>\n",
       "      <td>Toronto Maple Leafs</td>\n",
       "      <td>15.033296</td>\n",
       "    </tr>\n",
       "    <tr>\n",
       "      <th>3</th>\n",
       "      <td>2015020001</td>\n",
       "      <td>13</td>\n",
       "      <td>1</td>\n",
       "      <td>01:53</td>\n",
       "      <td>Toronto Maple Leafs</td>\n",
       "      <td>False</td>\n",
       "      <td>Wrist Shot</td>\n",
       "      <td>-55.0</td>\n",
       "      <td>-36.0</td>\n",
       "      <td>Daniel Winnik</td>\n",
       "      <td>Carey Price</td>\n",
       "      <td>False</td>\n",
       "      <td>NA</td>\n",
       "      <td>Montréal Canadiens</td>\n",
       "      <td>Toronto Maple Leafs</td>\n",
       "      <td>50.209561</td>\n",
       "    </tr>\n",
       "    <tr>\n",
       "      <th>4</th>\n",
       "      <td>2015020001</td>\n",
       "      <td>21</td>\n",
       "      <td>1</td>\n",
       "      <td>02:37</td>\n",
       "      <td>Toronto Maple Leafs</td>\n",
       "      <td>False</td>\n",
       "      <td>Tip-In</td>\n",
       "      <td>-61.0</td>\n",
       "      <td>-1.0</td>\n",
       "      <td>Joffrey Lupul</td>\n",
       "      <td>Carey Price</td>\n",
       "      <td>False</td>\n",
       "      <td>NA</td>\n",
       "      <td>Montréal Canadiens</td>\n",
       "      <td>Toronto Maple Leafs</td>\n",
       "      <td>29.017236</td>\n",
       "    </tr>\n",
       "  </tbody>\n",
       "</table>\n",
       "</div>"
      ],
      "text/plain": [
       "      game_id event_idx period periodTime             teamInfo isGoal  \\\n",
       "0  2015020001         7      1      00:51  Toronto Maple Leafs  False   \n",
       "1  2015020001         9      1      01:05  Toronto Maple Leafs  False   \n",
       "2  2015020001        10      1      01:06  Toronto Maple Leafs  False   \n",
       "3  2015020001        13      1      01:53  Toronto Maple Leafs  False   \n",
       "4  2015020001        21      1      02:37  Toronto Maple Leafs  False   \n",
       "\n",
       "     shotType coordinates_x coordinates_y        shooter       goalie  \\\n",
       "0  Wrist Shot         -55.0           6.0     Brad Boyes  Carey Price   \n",
       "1   Snap Shot         -79.0           0.0    Nazem Kadri  Carey Price   \n",
       "2   Snap Shot         -75.0          -1.0    Nazem Kadri  Carey Price   \n",
       "3  Wrist Shot         -55.0         -36.0  Daniel Winnik  Carey Price   \n",
       "4      Tip-In         -61.0          -1.0  Joffrey Lupul  Carey Price   \n",
       "\n",
       "  emptyNet strength            awayTeam             homeTeam   Distance  \n",
       "0    False       NA  Montréal Canadiens  Toronto Maple Leafs  35.510562  \n",
       "1    False       NA  Montréal Canadiens  Toronto Maple Leafs  11.000000  \n",
       "2    False       NA  Montréal Canadiens  Toronto Maple Leafs  15.033296  \n",
       "3    False       NA  Montréal Canadiens  Toronto Maple Leafs  50.209561  \n",
       "4    False       NA  Montréal Canadiens  Toronto Maple Leafs  29.017236  "
      ]
     },
     "execution_count": 11,
     "metadata": {},
     "output_type": "execute_result"
    }
   ],
   "source": [
    "df.head()"
   ]
  },
  {
   "cell_type": "markdown",
   "id": "ddb3a30d-52c8-44a6-a738-20b048c6ac22",
   "metadata": {},
   "source": [
    "Create and include the following figures in your blogpost and briefly discuss your observations (few sentences):\n",
    "\n",
    "* A histogram of shot counts (goals and no-goals separated), binned by distance\n",
    "* A histogram of shot counts (goals and no-goals separated), binned by angle\n",
    "* A 2D histogram where one axis is the distance and the other is the angle. You do not need to separate goals and no-goals.\n",
    " Hint: check out jointplots. \n",
    "*As always, make sure all of your axes are labeled correctly, and you make the appropriate choice of axis scale.\n"
   ]
  },
  {
   "cell_type": "code",
   "execution_count": null,
   "id": "4890434e-9373-4d00-9ec2-48cf885625b3",
   "metadata": {},
   "outputs": [],
   "source": []
  },
  {
   "cell_type": "code",
   "execution_count": null,
   "id": "de0d0203-94eb-4049-9fbf-1d8b04f56ba6",
   "metadata": {},
   "outputs": [],
   "source": []
  },
  {
   "cell_type": "markdown",
   "id": "9ed898c5-6aeb-49da-b5e4-0bd9291799e0",
   "metadata": {},
   "source": []
  },
  {
   "cell_type": "code",
   "execution_count": null,
   "id": "6134c379-e1d1-400b-99fe-45e429d2cfea",
   "metadata": {},
   "outputs": [],
   "source": []
  },
  {
   "cell_type": "code",
   "execution_count": null,
   "id": "6dd57576-050a-4d86-946e-847928fff971",
   "metadata": {},
   "outputs": [],
   "source": []
  },
  {
   "cell_type": "markdown",
   "id": "8339a5c6-c19d-4b5a-bd39-8292ae881f67",
   "metadata": {},
   "source": [
    "## 3. Baseline Models (15%)"
   ]
  },
  {
   "cell_type": "code",
   "execution_count": 62,
   "id": "b6ff1c3c-2a0c-46be-91a6-1104822b66e9",
   "metadata": {},
   "outputs": [
    {
     "data": {
      "text/plain": [
       "0         0\n",
       "1         0\n",
       "2         0\n",
       "3         0\n",
       "4         0\n",
       "         ..\n",
       "332737    1\n",
       "332738    0\n",
       "332739    0\n",
       "332740    0\n",
       "332741    1\n",
       "Name: isGoal, Length: 332682, dtype: int64"
      ]
     },
     "execution_count": 62,
     "metadata": {},
     "output_type": "execute_result"
    }
   ],
   "source": [
    "data[\"isGoal\"].apply( lambda x : 1 if x else 0 )"
   ]
  },
  {
   "cell_type": "code",
   "execution_count": 48,
   "id": "4ec85e36-5fc3-416c-b94f-78454623fa45",
   "metadata": {},
   "outputs": [
    {
     "data": {
      "text/plain": [
       "(array([ 0.        ,  1.        ,  2.        , ..., 98.08669635,\n",
       "        98.48857802, 98.89893832]),\n",
       " array([3, 4, 4, ..., 7, 6, 2]))"
      ]
     },
     "execution_count": 48,
     "metadata": {},
     "output_type": "execute_result"
    }
   ],
   "source": [
    "np.unique(data[\"Distance\"], return_counts=True )"
   ]
  },
  {
   "cell_type": "code",
   "execution_count": 106,
   "id": "3e9c4989-0235-4d9b-86cd-4ad93abbd09a",
   "metadata": {},
   "outputs": [],
   "source": [
    "# \"shotType\" - encode\n",
    "# \"shooter\", \"goalie\", encode or drop\n",
    "#  \"awayTeam\", \"homeTeam\",\n",
    "data = df[[\"Distance\", \"isGoal\"]]\n",
    "data = data.dropna()\n",
    "X = data[[\"Distance\"]]\n",
    "y = data[\"isGoal\"].apply( lambda x : 1 if x else 0 )"
   ]
  },
  {
   "cell_type": "code",
   "execution_count": 107,
   "id": "a0343de8-c151-45bc-826c-317bd8af212e",
   "metadata": {},
   "outputs": [
    {
     "data": {
      "text/plain": [
       "(332682, 1)"
      ]
     },
     "execution_count": 107,
     "metadata": {},
     "output_type": "execute_result"
    }
   ],
   "source": [
    "X.shape"
   ]
  },
  {
   "cell_type": "markdown",
   "id": "8ab8b98f-73a5-4ca0-af1c-7d962311820d",
   "metadata": {},
   "source": [
    "* Logistic Regression"
   ]
  },
  {
   "cell_type": "code",
   "execution_count": 108,
   "id": "768edaca-d66e-4400-b1df-1c56abe8b19c",
   "metadata": {},
   "outputs": [
    {
     "data": {
      "text/plain": [
       "(332682,)"
      ]
     },
     "execution_count": 108,
     "metadata": {},
     "output_type": "execute_result"
    }
   ],
   "source": [
    "y.shape"
   ]
  },
  {
   "cell_type": "code",
   "execution_count": null,
   "id": "78fe7982",
   "metadata": {},
   "outputs": [],
   "source": []
  },
  {
   "cell_type": "code",
   "execution_count": 110,
   "id": "9c8984a1-aa95-452b-9564-f48f12730898",
   "metadata": {},
   "outputs": [],
   "source": [
    "from sklearn.model_selection import train_test_split\n",
    "X_train, X_test, y_train, y_test = train_test_split(X, y, test_size=0.33, random_state=42)"
   ]
  },
  {
   "cell_type": "code",
   "execution_count": 111,
   "id": "ade19f14-bd4d-47dd-bc3e-2f185eed2864",
   "metadata": {},
   "outputs": [],
   "source": [
    "from sklearn.linear_model import LogisticRegression\n",
    "from sklearn.metrics import f1_score, precision_score, recall_score, confusion_matrix\n",
    "clf = LogisticRegression(random_state=0).fit(X_train, y_train)"
   ]
  },
  {
   "cell_type": "code",
   "execution_count": 112,
   "id": "c4025245-e2ee-45da-81a4-4a2fd306a50c",
   "metadata": {},
   "outputs": [],
   "source": [
    "y_pred = clf.predict(X_test)"
   ]
  },
  {
   "cell_type": "code",
   "execution_count": 113,
   "id": "17d06b03-ecc4-4fa1-a4cb-4dd38a85b222",
   "metadata": {},
   "outputs": [
    {
     "data": {
      "text/plain": [
       "array([[0.87353273, 0.12646727],\n",
       "       [0.96079389, 0.03920611],\n",
       "       [0.80922564, 0.19077436],\n",
       "       ...,\n",
       "       [0.91595544, 0.08404456],\n",
       "       [0.80992959, 0.19007041],\n",
       "       [0.85925354, 0.14074646]])"
      ]
     },
     "execution_count": 113,
     "metadata": {},
     "output_type": "execute_result"
    }
   ],
   "source": [
    "clf.predict_proba(X_test)"
   ]
  },
  {
   "cell_type": "code",
   "execution_count": 114,
   "id": "303e4dc3-a4f5-4d8c-9aa7-5755f7f52771",
   "metadata": {},
   "outputs": [],
   "source": [
    "#clf.score(X_train, y_train)"
   ]
  },
  {
   "cell_type": "code",
   "execution_count": 115,
   "id": "0c4f6b38-023a-4760-ad74-81f8dc87a2fb",
   "metadata": {},
   "outputs": [
    {
     "data": {
      "text/plain": [
       "0.9055252946641649"
      ]
     },
     "execution_count": 115,
     "metadata": {},
     "output_type": "execute_result"
    }
   ],
   "source": [
    "clf.score(X_test, y_test)"
   ]
  },
  {
   "cell_type": "code",
   "execution_count": 116,
   "id": "8b969860-71dd-41f4-89f4-6b61014414c2",
   "metadata": {},
   "outputs": [
    {
     "name": "stderr",
     "output_type": "stream",
     "text": [
      "/home/binulal/.conda/envs/ift6758-conda-env/lib/python3.9/site-packages/sklearn/metrics/_classification.py:1308: UndefinedMetricWarning: Precision is ill-defined and being set to 0.0 due to no predicted samples. Use `zero_division` parameter to control this behavior.\n",
      "  _warn_prf(average, modifier, msg_start, len(result))\n"
     ]
    }
   ],
   "source": [
    "f1 = f1_score(y_test, y_pred)\n",
    "precision = precision_score(y_test, y_pred)\n",
    "recall = recall_score(y_test, y_pred)"
   ]
  },
  {
   "cell_type": "code",
   "execution_count": 117,
   "id": "c8d45a6c-2c65-4d5e-9dbd-7b5e4d2ad64e",
   "metadata": {},
   "outputs": [
    {
     "name": "stderr",
     "output_type": "stream",
     "text": [
      "COMET ERROR: Error creating confusion matrix: if you give y_true OR y_predicted you must give both; ignoring\n"
     ]
    }
   ],
   "source": [
    "metrics = {\"f1\":f1,\n",
    "\"recall\":recall,\n",
    "\"precision\":precision\n",
    "}\n",
    "\n",
    "experiment.log_dataset_hash(X_train)\n",
    "experiment.log_metrics(metrics)"
   ]
  },
  {
   "cell_type": "code",
   "execution_count": 118,
   "id": "b3d1f245-ff95-42ef-961a-8a63da12e0a5",
   "metadata": {},
   "outputs": [
    {
     "name": "stderr",
     "output_type": "stream",
     "text": [
      "COMET INFO: ---------------------------\n",
      "COMET INFO: Comet.ml Experiment Summary\n",
      "COMET INFO: ---------------------------\n",
      "COMET INFO:   Data:\n",
      "COMET INFO:     display_summary_level : 1\n",
      "COMET INFO:     url                   : https://www.comet.ml/binulal/milestone-2/8b8190ca8246490e92913c5dcf607e02\n",
      "COMET INFO:   Metrics:\n",
      "COMET INFO:     f1        : 0.0\n",
      "COMET INFO:     precision : 0.0\n",
      "COMET INFO:     recall    : 0.0\n",
      "COMET INFO:   Uploads:\n",
      "COMET INFO:     environment details      : 1\n",
      "COMET INFO:     filename                 : 1\n",
      "COMET INFO:     git metadata             : 1\n",
      "COMET INFO:     git-patch (uncompressed) : 1 (19.72 KB)\n",
      "COMET INFO:     installed packages       : 1\n",
      "COMET INFO:     notebook                 : 1\n",
      "COMET INFO:     os packages              : 1\n",
      "COMET INFO:     source_code              : 1\n",
      "COMET INFO: ---------------------------\n",
      "COMET INFO: Uploading 1 metrics, params and output messages\n"
     ]
    }
   ],
   "source": [
    "experiment.end()"
   ]
  },
  {
   "cell_type": "markdown",
   "id": "ba1e7579-74cc-488a-a038-fd836627d7a6",
   "metadata": {},
   "source": [
    "## 4. Feature Engineering - II (20% + bonus 5%) "
   ]
  },
  {
   "cell_type": "code",
   "execution_count": null,
   "id": "9c75a9cb-66a8-45b6-a034-f7fe5863f810",
   "metadata": {},
   "outputs": [],
   "source": []
  },
  {
   "cell_type": "code",
   "execution_count": null,
   "id": "d248c0df-e437-4a70-ac79-cd195698e202",
   "metadata": {},
   "outputs": [],
   "source": []
  },
  {
   "cell_type": "markdown",
   "id": "92d7d7dc-75a4-4184-8d3d-b2d029f5ce3c",
   "metadata": {},
   "source": [
    "## 5. Advanced Models (20%)"
   ]
  },
  {
   "cell_type": "code",
   "execution_count": null,
   "id": "ef166ae7-8c5a-4944-868a-1cb48c438071",
   "metadata": {},
   "outputs": [],
   "source": []
  },
  {
   "cell_type": "code",
   "execution_count": null,
   "id": "6ff5c75b-9ee0-484c-b12f-ae4433fb70eb",
   "metadata": {},
   "outputs": [],
   "source": []
  },
  {
   "cell_type": "markdown",
   "id": "fded8014-4d75-4986-b03f-161b12a23c0d",
   "metadata": {},
   "source": [
    "## 6. Give it your best shot! (25%)"
   ]
  },
  {
   "cell_type": "code",
   "execution_count": null,
   "id": "2a2e3aca-34e7-4b27-a113-227efc7de5a5",
   "metadata": {},
   "outputs": [],
   "source": []
  },
  {
   "cell_type": "code",
   "execution_count": null,
   "id": "99fa1513-6fc3-4664-b4d4-a61858e60c14",
   "metadata": {},
   "outputs": [],
   "source": []
  },
  {
   "cell_type": "markdown",
   "id": "87edee3d-c129-46b0-97ea-fe5eecfaf924",
   "metadata": {},
   "source": [
    "## 7. Evaluate on test set (10%)"
   ]
  },
  {
   "cell_type": "code",
   "execution_count": null,
   "id": "359e18f3-d7ca-401e-bf98-7ef5befe71a4",
   "metadata": {},
   "outputs": [],
   "source": []
  },
  {
   "cell_type": "code",
   "execution_count": null,
   "id": "43f155fa-341b-4847-8c5a-edee629a534c",
   "metadata": {},
   "outputs": [],
   "source": []
  },
  {
   "cell_type": "markdown",
   "id": "04d2584e-e60d-43ec-b678-8d2162c8d5ea",
   "metadata": {},
   "source": [
    "## 8. Blog Post (upto 30% penalty)"
   ]
  },
  {
   "cell_type": "code",
   "execution_count": null,
   "id": "a1bc7cfc-4948-4943-a606-2d7926a3df88",
   "metadata": {},
   "outputs": [],
   "source": []
  }
 ],
 "metadata": {
  "kernelspec": {
   "display_name": "ift6758-conda-env",
   "language": "python",
   "name": "ift6758-conda-env"
  },
  "language_info": {
   "codemirror_mode": {
    "name": "ipython",
    "version": 3
   },
   "file_extension": ".py",
   "mimetype": "text/x-python",
   "name": "python",
   "nbconvert_exporter": "python",
   "pygments_lexer": "ipython3",
   "version": "3.9.7"
  }
 },
 "nbformat": 4,
 "nbformat_minor": 5
}
