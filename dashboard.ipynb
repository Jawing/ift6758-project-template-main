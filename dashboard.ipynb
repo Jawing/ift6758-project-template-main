{
 "cells": [
  {
   "cell_type": "code",
   "execution_count": 1,
   "id": "5e7d7c9f-6547-4460-b680-d7001cbc08d6",
   "metadata": {},
   "outputs": [],
   "source": [
    "import os\n",
    "\n",
    "import numpy as np \n",
    "import pandas as pd\n",
    "pd.options.display.max_columns = None\n",
    "\n",
    "\n",
    "import matplotlib.pyplot as plt\n",
    "plt.rcParams['figure.figsize'] = [14, 10]\n",
    "plt.rcParams['figure.dpi'] = 80\n",
    "\n",
    "import seaborn as sns\n",
    "sns.set_theme(style=\"whitegrid\")\n",
    "sns.set_context(\"paper\")\n",
    "\n",
    "import matplotlib.image as mpimg\n",
    "import ipywidgets as widgets\n",
    "from IPython.display import display"
   ]
  },
  {
   "cell_type": "code",
   "execution_count": 2,
   "id": "727adc65-5458-4568-9733-6586b7eb6280",
   "metadata": {},
   "outputs": [
    {
     "name": "stderr",
     "output_type": "stream",
     "text": [
      "COMET INFO: Comet API key is valid\n"
     ]
    }
   ],
   "source": [
    "import comet_ml\n",
    "comet_ml.init()"
   ]
  },
  {
   "cell_type": "code",
   "execution_count": 12,
   "id": "7b88a643-4b48-4b16-8958-41f43bdbac9b",
   "metadata": {},
   "outputs": [
    {
     "data": {
      "application/vnd.jupyter.widget-view+json": {
       "model_id": "f0659dba196342f2a6767a70f1753f91",
       "version_major": 2,
       "version_minor": 0
      },
      "text/plain": [
       "interactive(children=(Dropdown(description='workspace', options=('binulal',), value='binulal'), Output()), _do…"
      ]
     },
     "metadata": {},
     "output_type": "display_data"
    }
   ],
   "source": [
    "api = comet_ml.api.API()\n",
    "comet_wspaces = api.get()\n",
    "\n",
    "@widgets.interact(workspace=comet_wspaces)\n",
    "def showWorkspaces( workspace=\"binulal\" ):\n",
    "    comet_experiments = api.get_experiments(workspace)\n",
    "    expList = [exp for exp in comet_experiments if len(exp.get_model_names()) > 0]\n",
    "    print(dir(expList[0]))\n",
    "    @widgets.interact( experiment = expList  )\n",
    "    def showExperiments( experiment=\"\" ):\n",
    "        comet_models = experiment.get_model_names()\n",
    "        @widgets.interact( models = comet_models  )\n",
    "        def showModels( models=\"\" ):\n",
    "            pass\n"
   ]
  },
  {
   "cell_type": "code",
   "execution_count": 11,
   "id": "2bf1931a-20cf-4a48-a9d6-ce0ac06eb604",
   "metadata": {},
   "outputs": [
    {
     "ename": "NameError",
     "evalue": "name 'expList' is not defined",
     "output_type": "error",
     "traceback": [
      "\u001b[0;31m---------------------------------------------------------------------------\u001b[0m",
      "\u001b[0;31mNameError\u001b[0m                                 Traceback (most recent call last)",
      "\u001b[0;32m/tmp/ipykernel_350332/1031835147.py\u001b[0m in \u001b[0;36m<module>\u001b[0;34m\u001b[0m\n\u001b[0;32m----> 1\u001b[0;31m \u001b[0mexpList\u001b[0m\u001b[0;34m[\u001b[0m\u001b[0;36m0\u001b[0m\u001b[0;34m]\u001b[0m\u001b[0;34m\u001b[0m\u001b[0;34m\u001b[0m\u001b[0m\n\u001b[0m",
      "\u001b[0;31mNameError\u001b[0m: name 'expList' is not defined"
     ]
    }
   ],
   "source": [
    "expList[0]"
   ]
  },
  {
   "cell_type": "code",
   "execution_count": null,
   "id": "a70d38b2-0984-4bbe-9c64-c265aec23ec1",
   "metadata": {},
   "outputs": [],
   "source": [
    "    for exp in comet_experiments:\n",
    "        models = exp.get_model_names()\n",
    "        if(len(models) > 0):\n",
    "            exp\n",
    "            for model in models:\n",
    "                print(exp, \" -> \", model)"
   ]
  }
 ],
 "metadata": {
  "kernelspec": {
   "display_name": "Python 3 (ipykernel)",
   "language": "python",
   "name": "python3"
  },
  "language_info": {
   "codemirror_mode": {
    "name": "ipython",
    "version": 3
   },
   "file_extension": ".py",
   "mimetype": "text/x-python",
   "name": "python",
   "nbconvert_exporter": "python",
   "pygments_lexer": "ipython3",
   "version": "3.9.7"
  }
 },
 "nbformat": 4,
 "nbformat_minor": 5
}
