{
 "cells": [
  {
   "cell_type": "markdown",
   "id": "a809febc",
   "metadata": {},
   "source": [
    "# Sample code for Question 1\n",
    "\n",
    "This notebook shows how you can use the provided Python function to pull player stats from an online website.\n",
    "This function lives in a custom package that is provided to you in this repository.\n",
    "You are encouraged to leverage this package as a skeleton and add all of your reusable code, functions, etc. into relevant modules.\n",
    "This makes collaboration much easier as the package could be seen as a \"single source of truth\" to pull data, create visualizations, etc. rather than relying on a jumble of notebooks.\n",
    "You can still run into trouble if branches are not frequently merged as work progresses, so try to not let your branches diverge too much."
   ]
  },
  {
   "cell_type": "code",
   "execution_count": 1,
   "id": "53c42e34",
   "metadata": {},
   "outputs": [],
   "source": [
    "from ift6758.data import get_player_stats"
   ]
  },
  {
   "cell_type": "markdown",
   "id": "6b46f857",
   "metadata": {},
   "source": [
    "If the above doesn't work for you, make sure you've installed the repo as specified in the readme file. \n",
    "Essentially you must make sure that your environment is setup (either through conda or virtualenv), and then install it using:\n",
    "\n",
    "```bash\n",
    "pip install -e /path/to/repo \n",
    "```\n",
    "\n",
    "The nice thing using this approach is if you have your environment activated, you can import modules from anywhere on your system!"
   ]
  },
  {
   "cell_type": "code",
   "execution_count": 2,
   "id": "ab92c999",
   "metadata": {},
   "outputs": [
    {
     "name": "stdout",
     "output_type": "stream",
     "text": [
      "Retrieving data from 'https://www.hockey-reference.com/leagues/NHL_2016_goalies.html'...\n"
     ]
    }
   ],
   "source": [
    "df = get_player_stats(2016, 'goalies')"
   ]
  },
  {
   "cell_type": "markdown",
   "id": "39b35908",
   "metadata": {},
   "source": [
    "If you're curious, this function uses the `pd.read_html()` method ([doc](https://pandas.pydata.org/pandas-docs/stable/reference/api/pandas.read_html.html)), which internally uses [Beautiful Soup](https://www.crummy.com/software/BeautifulSoup/bs4/doc/) to parse HTML data."
   ]
  },
  {
   "cell_type": "code",
   "execution_count": 3,
   "id": "496abde4",
   "metadata": {},
   "outputs": [
    {
     "data": {
      "text/html": [
       "<div>\n",
       "<style scoped>\n",
       "    .dataframe tbody tr th:only-of-type {\n",
       "        vertical-align: middle;\n",
       "    }\n",
       "\n",
       "    .dataframe tbody tr th {\n",
       "        vertical-align: top;\n",
       "    }\n",
       "\n",
       "    .dataframe thead th {\n",
       "        text-align: right;\n",
       "    }\n",
       "</style>\n",
       "<table border=\"1\" class=\"dataframe\">\n",
       "  <thead>\n",
       "    <tr style=\"text-align: right;\">\n",
       "      <th></th>\n",
       "      <th>Rk</th>\n",
       "      <th>Player</th>\n",
       "      <th>Age</th>\n",
       "      <th>Tm</th>\n",
       "      <th>GP</th>\n",
       "      <th>GS</th>\n",
       "      <th>W</th>\n",
       "      <th>L</th>\n",
       "      <th>T/O</th>\n",
       "      <th>GA</th>\n",
       "      <th>...</th>\n",
       "      <th>MIN</th>\n",
       "      <th>QS</th>\n",
       "      <th>QS%</th>\n",
       "      <th>RBS</th>\n",
       "      <th>GA%-</th>\n",
       "      <th>GSAA</th>\n",
       "      <th>G</th>\n",
       "      <th>A</th>\n",
       "      <th>PTS</th>\n",
       "      <th>PIM</th>\n",
       "    </tr>\n",
       "  </thead>\n",
       "  <tbody>\n",
       "    <tr>\n",
       "      <th>0</th>\n",
       "      <td>1</td>\n",
       "      <td>Jake Allen</td>\n",
       "      <td>25</td>\n",
       "      <td>STL</td>\n",
       "      <td>47</td>\n",
       "      <td>44</td>\n",
       "      <td>26</td>\n",
       "      <td>15</td>\n",
       "      <td>3</td>\n",
       "      <td>101</td>\n",
       "      <td>...</td>\n",
       "      <td>2583</td>\n",
       "      <td>26</td>\n",
       "      <td>.591</td>\n",
       "      <td>6</td>\n",
       "      <td>94</td>\n",
       "      <td>6.28</td>\n",
       "      <td>0</td>\n",
       "      <td>0</td>\n",
       "      <td>0</td>\n",
       "      <td>0</td>\n",
       "    </tr>\n",
       "    <tr>\n",
       "      <th>1</th>\n",
       "      <td>2</td>\n",
       "      <td>Frederik Andersen</td>\n",
       "      <td>26</td>\n",
       "      <td>ANA</td>\n",
       "      <td>43</td>\n",
       "      <td>37</td>\n",
       "      <td>22</td>\n",
       "      <td>9</td>\n",
       "      <td>7</td>\n",
       "      <td>88</td>\n",
       "      <td>...</td>\n",
       "      <td>2298</td>\n",
       "      <td>24</td>\n",
       "      <td>.649</td>\n",
       "      <td>5</td>\n",
       "      <td>95</td>\n",
       "      <td>4.46</td>\n",
       "      <td>0</td>\n",
       "      <td>1</td>\n",
       "      <td>1</td>\n",
       "      <td>2</td>\n",
       "    </tr>\n",
       "    <tr>\n",
       "      <th>2</th>\n",
       "      <td>3</td>\n",
       "      <td>Craig Anderson</td>\n",
       "      <td>34</td>\n",
       "      <td>OTT</td>\n",
       "      <td>60</td>\n",
       "      <td>60</td>\n",
       "      <td>31</td>\n",
       "      <td>23</td>\n",
       "      <td>5</td>\n",
       "      <td>161</td>\n",
       "      <td>...</td>\n",
       "      <td>3477</td>\n",
       "      <td>31</td>\n",
       "      <td>.517</td>\n",
       "      <td>8</td>\n",
       "      <td>99</td>\n",
       "      <td>2.05</td>\n",
       "      <td>0</td>\n",
       "      <td>2</td>\n",
       "      <td>2</td>\n",
       "      <td>0</td>\n",
       "    </tr>\n",
       "    <tr>\n",
       "      <th>3</th>\n",
       "      <td>4</td>\n",
       "      <td>Richard Bachman</td>\n",
       "      <td>28</td>\n",
       "      <td>VAN</td>\n",
       "      <td>1</td>\n",
       "      <td>1</td>\n",
       "      <td>1</td>\n",
       "      <td>0</td>\n",
       "      <td>0</td>\n",
       "      <td>3</td>\n",
       "      <td>...</td>\n",
       "      <td>60</td>\n",
       "      <td>0</td>\n",
       "      <td>.000</td>\n",
       "      <td>0</td>\n",
       "      <td>NaN</td>\n",
       "      <td>NaN</td>\n",
       "      <td>0</td>\n",
       "      <td>0</td>\n",
       "      <td>0</td>\n",
       "      <td>0</td>\n",
       "    </tr>\n",
       "    <tr>\n",
       "      <th>4</th>\n",
       "      <td>5</td>\n",
       "      <td>Niklas Bäckström</td>\n",
       "      <td>37</td>\n",
       "      <td>CGY</td>\n",
       "      <td>4</td>\n",
       "      <td>3</td>\n",
       "      <td>2</td>\n",
       "      <td>2</td>\n",
       "      <td>0</td>\n",
       "      <td>13</td>\n",
       "      <td>...</td>\n",
       "      <td>233</td>\n",
       "      <td>2</td>\n",
       "      <td>.667</td>\n",
       "      <td>1</td>\n",
       "      <td>NaN</td>\n",
       "      <td>NaN</td>\n",
       "      <td>0</td>\n",
       "      <td>0</td>\n",
       "      <td>0</td>\n",
       "      <td>0</td>\n",
       "    </tr>\n",
       "  </tbody>\n",
       "</table>\n",
       "<p>5 rows × 26 columns</p>\n",
       "</div>"
      ],
      "text/plain": [
       "  Rk             Player Age   Tm  GP  GS   W   L T/O   GA  ...   MIN  QS  \\\n",
       "0  1         Jake Allen  25  STL  47  44  26  15   3  101  ...  2583  26   \n",
       "1  2  Frederik Andersen  26  ANA  43  37  22   9   7   88  ...  2298  24   \n",
       "2  3     Craig Anderson  34  OTT  60  60  31  23   5  161  ...  3477  31   \n",
       "3  4    Richard Bachman  28  VAN   1   1   1   0   0    3  ...    60   0   \n",
       "4  5   Niklas Bäckström  37  CGY   4   3   2   2   0   13  ...   233   2   \n",
       "\n",
       "    QS% RBS GA%-  GSAA  G  A PTS PIM  \n",
       "0  .591   6   94  6.28  0  0   0   0  \n",
       "1  .649   5   95  4.46  0  1   1   2  \n",
       "2  .517   8   99  2.05  0  2   2   0  \n",
       "3  .000   0  NaN   NaN  0  0   0   0  \n",
       "4  .667   1  NaN   NaN  0  0   0   0  \n",
       "\n",
       "[5 rows x 26 columns]"
      ]
     },
     "execution_count": 3,
     "metadata": {},
     "output_type": "execute_result"
    }
   ],
   "source": [
    "df.head()"
   ]
  },
  {
   "cell_type": "markdown",
   "id": "1af58dc3-46b1-4d56-a9b5-943c931d22cf",
   "metadata": {},
   "source": [
    "# Section I - Warm-up\n",
    "\n",
    "Use the given method ift6758.data::get_player_stats to:\n",
    "1. Sort the goalies by their save percentage (‘SV%’)\n",
    "2. Produce a bar plot with player names on the y-axis and save percentage (‘SV%’) on the x-axis\n",
    "3. Save percentage is obviously not a very comprehensive feature. Discuss what other features could potentially be useful in determining a goalie’s performance."
   ]
  },
  {
   "cell_type": "code",
   "execution_count": 4,
   "id": "b81078f0-e869-4dbd-b84c-ca922e9bf27e",
   "metadata": {},
   "outputs": [
    {
     "data": {
      "text/plain": [
       "Index(['Rk', 'Player', 'Age', 'Tm', 'GP', 'GS', 'W', 'L', 'T/O', 'GA', 'SA',\n",
       "       'SV', 'SV%', 'GAA', 'SO', 'GPS', 'MIN', 'QS', 'QS%', 'RBS', 'GA%-',\n",
       "       'GSAA', 'G', 'A', 'PTS', 'PIM'],\n",
       "      dtype='object')"
      ]
     },
     "execution_count": 4,
     "metadata": {},
     "output_type": "execute_result"
    }
   ],
   "source": [
    "df.columns"
   ]
  },
  {
   "cell_type": "code",
   "execution_count": 10,
   "id": "6cb7789b-2b5a-4242-9735-fbfab09f8e71",
   "metadata": {},
   "outputs": [
    {
     "data": {
      "text/html": [
       "<div>\n",
       "<style scoped>\n",
       "    .dataframe tbody tr th:only-of-type {\n",
       "        vertical-align: middle;\n",
       "    }\n",
       "\n",
       "    .dataframe tbody tr th {\n",
       "        vertical-align: top;\n",
       "    }\n",
       "\n",
       "    .dataframe thead th {\n",
       "        text-align: right;\n",
       "    }\n",
       "</style>\n",
       "<table border=\"1\" class=\"dataframe\">\n",
       "  <thead>\n",
       "    <tr style=\"text-align: right;\">\n",
       "      <th></th>\n",
       "      <th>Rk</th>\n",
       "      <th>Player</th>\n",
       "      <th>SV%</th>\n",
       "    </tr>\n",
       "  </thead>\n",
       "  <tbody>\n",
       "    <tr>\n",
       "      <th>0</th>\n",
       "      <td>1</td>\n",
       "      <td>Jake Allen</td>\n",
       "      <td>.920</td>\n",
       "    </tr>\n",
       "    <tr>\n",
       "      <th>1</th>\n",
       "      <td>2</td>\n",
       "      <td>Frederik Andersen</td>\n",
       "      <td>.919</td>\n",
       "    </tr>\n",
       "    <tr>\n",
       "      <th>2</th>\n",
       "      <td>3</td>\n",
       "      <td>Craig Anderson</td>\n",
       "      <td>.916</td>\n",
       "    </tr>\n",
       "    <tr>\n",
       "      <th>3</th>\n",
       "      <td>4</td>\n",
       "      <td>Richard Bachman</td>\n",
       "      <td>.903</td>\n",
       "    </tr>\n",
       "    <tr>\n",
       "      <th>4</th>\n",
       "      <td>5</td>\n",
       "      <td>Niklas Bäckström</td>\n",
       "      <td>.881</td>\n",
       "    </tr>\n",
       "    <tr>\n",
       "      <th>...</th>\n",
       "      <td>...</td>\n",
       "      <td>...</td>\n",
       "      <td>...</td>\n",
       "    </tr>\n",
       "    <tr>\n",
       "      <th>87</th>\n",
       "      <td>90</td>\n",
       "      <td>Scott Wedgewood</td>\n",
       "      <td>.957</td>\n",
       "    </tr>\n",
       "    <tr>\n",
       "      <th>88</th>\n",
       "      <td>91</td>\n",
       "      <td>Roman Will</td>\n",
       "      <td>.667</td>\n",
       "    </tr>\n",
       "    <tr>\n",
       "      <th>89</th>\n",
       "      <td>92</td>\n",
       "      <td>Jeff Zatkoff</td>\n",
       "      <td>.917</td>\n",
       "    </tr>\n",
       "    <tr>\n",
       "      <th>90</th>\n",
       "      <td>65</td>\n",
       "      <td>Anders Nilsson</td>\n",
       "      <td>.901</td>\n",
       "    </tr>\n",
       "    <tr>\n",
       "      <th>91</th>\n",
       "      <td>75</td>\n",
       "      <td>James Reimer</td>\n",
       "      <td>.922</td>\n",
       "    </tr>\n",
       "  </tbody>\n",
       "</table>\n",
       "<p>92 rows × 3 columns</p>\n",
       "</div>"
      ],
      "text/plain": [
       "    Rk             Player   SV%\n",
       "0    1         Jake Allen  .920\n",
       "1    2  Frederik Andersen  .919\n",
       "2    3     Craig Anderson  .916\n",
       "3    4    Richard Bachman  .903\n",
       "4    5   Niklas Bäckström  .881\n",
       "..  ..                ...   ...\n",
       "87  90    Scott Wedgewood  .957\n",
       "88  91         Roman Will  .667\n",
       "89  92       Jeff Zatkoff  .917\n",
       "90  65     Anders Nilsson  .901\n",
       "91  75       James Reimer  .922\n",
       "\n",
       "[92 rows x 3 columns]"
      ]
     },
     "execution_count": 10,
     "metadata": {},
     "output_type": "execute_result"
    }
   ],
   "source": [
    "df[[\"Rk\", \"Player\", \"SV%\"]]"
   ]
  },
  {
   "cell_type": "code",
   "execution_count": 11,
   "id": "c76f11fe-eadf-4ab0-9373-f2f53fc561c6",
   "metadata": {},
   "outputs": [],
   "source": [
    "import matplotlib.pyplot as plt"
   ]
  },
  {
   "cell_type": "code",
   "execution_count": 15,
   "id": "6d09c4ba-8d7c-4acf-980f-d8ea5f86e17c",
   "metadata": {},
   "outputs": [
    {
     "data": {
      "text/plain": [
       "['Jake Allen',\n",
       " 'Frederik Andersen',\n",
       " 'Craig Anderson',\n",
       " 'Richard Bachman',\n",
       " 'Niklas Bäckström',\n",
       " 'Jonathan Bernier',\n",
       " 'Reto Berra',\n",
       " 'Jean-Francois Berube',\n",
       " 'Jordan Binnington',\n",
       " 'Ben Bishop',\n",
       " 'Sergei Bobrovsky',\n",
       " 'Laurent Brossoit',\n",
       " 'Peter Budaj',\n",
       " 'Mike Condon',\n",
       " 'Pheonix Copley',\n",
       " 'Corey Crawford',\n",
       " 'Yann Danis',\n",
       " 'Scott Darling',\n",
       " 'Louis Domingue',\n",
       " 'Chris Driedger',\n",
       " 'Devan Dubnyk',\n",
       " 'Brian Elliott',\n",
       " 'Jhonas Enroth',\n",
       " 'Marc-Andre Fleury',\n",
       " 'Anton Forsberg',\n",
       " 'Christopher Gibson',\n",
       " 'John Gibson',\n",
       " 'Thomas Greiss',\n",
       " 'Philipp Grubauer',\n",
       " 'Kristers Gudlevskis',\n",
       " 'Jonas Gustavsson',\n",
       " 'Jaroslav Halak',\n",
       " 'Andrew Hammond',\n",
       " 'Magnus Hellberg',\n",
       " 'Connor Hellebuyck',\n",
       " 'Jonas Hiller',\n",
       " 'Braden Holtby',\n",
       " 'Jimmy Howard',\n",
       " 'Michael Hutchinson',\n",
       " 'Carter Hutton',\n",
       " 'Chad Johnson',\n",
       " 'Martin Jones',\n",
       " 'Jason Kasdorf',\n",
       " 'Anton Khudobin',\n",
       " 'Keith Kinkaid',\n",
       " 'Joonas Korpisalo',\n",
       " 'Darcy Kuemper',\n",
       " 'Eddie Läck',\n",
       " 'Robin Lehner',\n",
       " 'Kari Lehtonen',\n",
       " 'Michael Leighton',\n",
       " 'Anders Lindbäck',\n",
       " 'Charlie Lindgren',\n",
       " 'Henrik Lundqvist',\n",
       " 'Roberto Luongo',\n",
       " 'Jacob Markstrom',\n",
       " 'Steve Mason',\n",
       " 'Curtis McElhinney',\n",
       " 'Ryan Miller',\n",
       " 'Al Montoya',\n",
       " 'Petr Mrazek',\n",
       " 'Matt Murray',\n",
       " 'Michal Neuvirth',\n",
       " 'Antti Niemi',\n",
       " \"Matt O'Connor\",\n",
       " 'Joni Ortio',\n",
       " 'Ondrej Pavelec',\n",
       " 'Calvin Pickard',\n",
       " 'Carey Price',\n",
       " 'Jonathan Quick',\n",
       " 'Antti Raanta',\n",
       " 'Karri Ramo',\n",
       " 'Tuukka Rask',\n",
       " 'Pekka Rinne',\n",
       " 'Juuse Saros',\n",
       " 'Cory Schneider',\n",
       " 'Ben Scrivens',\n",
       " 'Mike Smith',\n",
       " 'Garret Sparks',\n",
       " 'Alex Stalock',\n",
       " 'Cam Talbot',\n",
       " 'Dustin Tokarski',\n",
       " 'Niklas Treutle',\n",
       " 'Linus Ullmark',\n",
       " 'Semyon Varlamov',\n",
       " 'Andrei Vasilevskiy',\n",
       " 'Cam Ward',\n",
       " 'Scott Wedgewood',\n",
       " 'Roman Will',\n",
       " 'Jeff Zatkoff',\n",
       " 'Anders Nilsson',\n",
       " 'James Reimer']"
      ]
     },
     "execution_count": 15,
     "metadata": {},
     "output_type": "execute_result"
    }
   ],
   "source": [
    "players = df[\"Player\"].tolist()\n",
    "players"
   ]
  },
  {
   "cell_type": "code",
   "execution_count": 17,
   "id": "32f9c4b1-2ec9-4a06-bf78-8dc8f5bc564e",
   "metadata": {},
   "outputs": [
    {
     "data": {
      "text/plain": [
       "['.920',\n",
       " '.919',\n",
       " '.916',\n",
       " '.903',\n",
       " '.881',\n",
       " '.908',\n",
       " '.922',\n",
       " '.914',\n",
       " '.750',\n",
       " '.926',\n",
       " '.908',\n",
       " '.873',\n",
       " '.857',\n",
       " '.903',\n",
       " '.833',\n",
       " '.924',\n",
       " '.778',\n",
       " '.915',\n",
       " '.912',\n",
       " '1.000',\n",
       " '.918',\n",
       " '.930',\n",
       " '.922',\n",
       " '.921',\n",
       " '.907',\n",
       " '.882',\n",
       " '.920',\n",
       " '.925',\n",
       " '.918',\n",
       " '.969',\n",
       " '.908',\n",
       " '.919',\n",
       " '.914',\n",
       " '.667',\n",
       " '.918',\n",
       " '.879',\n",
       " '.922',\n",
       " '.906',\n",
       " '.907',\n",
       " '.918',\n",
       " '.920',\n",
       " '.918',\n",
       " '.867',\n",
       " '.909',\n",
       " '.904',\n",
       " '.920',\n",
       " '.915',\n",
       " '.901',\n",
       " '.924',\n",
       " '.906',\n",
       " '.941',\n",
       " '.894',\n",
       " '.929',\n",
       " '.920',\n",
       " '.922',\n",
       " '.915',\n",
       " '.918',\n",
       " '.890',\n",
       " '.916',\n",
       " '.919',\n",
       " '.921',\n",
       " '.930',\n",
       " '.924',\n",
       " '.905',\n",
       " '.912',\n",
       " '.902',\n",
       " '.904',\n",
       " '.922',\n",
       " '.934',\n",
       " '.918',\n",
       " '.919',\n",
       " '.909',\n",
       " '.915',\n",
       " '.908',\n",
       " '.870',\n",
       " '.924',\n",
       " '.906',\n",
       " '.916',\n",
       " '.893',\n",
       " '.884',\n",
       " '.917',\n",
       " '.878',\n",
       " '.750',\n",
       " '.913',\n",
       " '.914',\n",
       " '.910',\n",
       " '.909',\n",
       " '.957',\n",
       " '.667',\n",
       " '.917',\n",
       " '.901',\n",
       " '.922']"
      ]
     },
     "execution_count": 17,
     "metadata": {},
     "output_type": "execute_result"
    }
   ],
   "source": [
    "savePercentages = df[\"SV%\"].tolist()\n",
    "savePercentages "
   ]
  },
  {
   "cell_type": "code",
   "execution_count": 18,
   "id": "d0c36356-eed2-47af-9fb9-77ae8c668ef1",
   "metadata": {},
   "outputs": [],
   "source": [
    "%matplotlib inline"
   ]
  },
  {
   "cell_type": "code",
   "execution_count": 20,
   "id": "e211daf9-a004-4452-ae2a-e2f0cff3192d",
   "metadata": {},
   "outputs": [
    {
     "data": {
      "image/png": "[encoded data removed]",
      "text/plain": [
       "<Figure size 640x480 with 1 Axes>"
      ]
     },
     "metadata": {},
     "output_type": "display_data"
    }
   ],
   "source": [
    "plt.rcdefaults()\n",
    "fig, ax = plt.subplots()\n",
    "ax.barh(players, savePercentages, align='center')\n",
    "ax.set_yticks(savePercentages)\n",
    "ax.set_yticklabels(players)\n",
    "ax.invert_yaxis()  \n",
    "ax.set_xlabel('Save Percetnages')\n",
    "ax.set_ylabel('Players')\n",
    "\n",
    "ax.set_title('Players x Save Percetnages')\n",
    "\n",
    "plt.show()"
   ]
  },
  {
   "cell_type": "code",
   "execution_count": 23,
   "id": "fe6dd377-8bec-4d00-bd2d-54f4fdbc9a7e",
   "metadata": {},
   "outputs": [
    {
     "ename": "TypeError",
     "evalue": "Neither the `x` nor `y` variable appears to be numeric.",
     "output_type": "error",
     "traceback": [
      "\u001b[0;31m---------------------------------------------------------------------------\u001b[0m",
      "\u001b[0;31mTypeError\u001b[0m                                 Traceback (most recent call last)",
      "\u001b[0;32m/tmp/ipykernel_6293/1901311194.py\u001b[0m in \u001b[0;36m<module>\u001b[0;34m\u001b[0m\n\u001b[1;32m      1\u001b[0m \u001b[0;32mimport\u001b[0m \u001b[0mseaborn\u001b[0m \u001b[0;32mas\u001b[0m \u001b[0msns\u001b[0m\u001b[0;34m\u001b[0m\u001b[0;34m\u001b[0m\u001b[0m\n\u001b[0;32m----> 2\u001b[0;31m \u001b[0max\u001b[0m \u001b[0;34m=\u001b[0m \u001b[0msns\u001b[0m\u001b[0;34m.\u001b[0m\u001b[0mbarplot\u001b[0m\u001b[0;34m(\u001b[0m\u001b[0mx\u001b[0m\u001b[0;34m=\u001b[0m\u001b[0;34m\"SV%\"\u001b[0m\u001b[0;34m,\u001b[0m \u001b[0my\u001b[0m\u001b[0;34m=\u001b[0m\u001b[0;34m\"Player\"\u001b[0m\u001b[0;34m,\u001b[0m \u001b[0mdata\u001b[0m\u001b[0;34m=\u001b[0m\u001b[0mdf\u001b[0m\u001b[0;34m[\u001b[0m\u001b[0;34m[\u001b[0m\u001b[0;34m\"Player\"\u001b[0m\u001b[0;34m,\u001b[0m\u001b[0;34m\"SV%\"\u001b[0m\u001b[0;34m]\u001b[0m\u001b[0;34m]\u001b[0m\u001b[0;34m)\u001b[0m\u001b[0;34m\u001b[0m\u001b[0;34m\u001b[0m\u001b[0m\n\u001b[0m",
      "\u001b[0;32m~/.conda/envs/ift6758-conda-env/lib/python3.9/site-packages/seaborn/_decorators.py\u001b[0m in \u001b[0;36minner_f\u001b[0;34m(*args, **kwargs)\u001b[0m\n\u001b[1;32m     44\u001b[0m             )\n\u001b[1;32m     45\u001b[0m         \u001b[0mkwargs\u001b[0m\u001b[0;34m.\u001b[0m\u001b[0mupdate\u001b[0m\u001b[0;34m(\u001b[0m\u001b[0;34m{\u001b[0m\u001b[0mk\u001b[0m\u001b[0;34m:\u001b[0m \u001b[0marg\u001b[0m \u001b[0;32mfor\u001b[0m \u001b[0mk\u001b[0m\u001b[0;34m,\u001b[0m \u001b[0marg\u001b[0m \u001b[0;32min\u001b[0m \u001b[0mzip\u001b[0m\u001b[0;34m(\u001b[0m\u001b[0msig\u001b[0m\u001b[0;34m.\u001b[0m\u001b[0mparameters\u001b[0m\u001b[0;34m,\u001b[0m \u001b[0margs\u001b[0m\u001b[0;34m)\u001b[0m\u001b[0;34m}\u001b[0m\u001b[0;34m)\u001b[0m\u001b[0;34m\u001b[0m\u001b[0;34m\u001b[0m\u001b[0m\n\u001b[0;32m---> 46\u001b[0;31m         \u001b[0;32mreturn\u001b[0m \u001b[0mf\u001b[0m\u001b[0;34m(\u001b[0m\u001b[0;34m**\u001b[0m\u001b[0mkwargs\u001b[0m\u001b[0;34m)\u001b[0m\u001b[0;34m\u001b[0m\u001b[0;34m\u001b[0m\u001b[0m\n\u001b[0m\u001b[1;32m     47\u001b[0m     \u001b[0;32mreturn\u001b[0m \u001b[0minner_f\u001b[0m\u001b[0;34m\u001b[0m\u001b[0;34m\u001b[0m\u001b[0m\n\u001b[1;32m     48\u001b[0m \u001b[0;34m\u001b[0m\u001b[0m\n",
      "\u001b[0;32m~/.conda/envs/ift6758-conda-env/lib/python3.9/site-packages/seaborn/categorical.py\u001b[0m in \u001b[0;36mbarplot\u001b[0;34m(x, y, hue, data, order, hue_order, estimator, ci, n_boot, units, seed, orient, color, palette, saturation, errcolor, errwidth, capsize, dodge, ax, **kwargs)\u001b[0m\n\u001b[1;32m   3180\u001b[0m ):\n\u001b[1;32m   3181\u001b[0m \u001b[0;34m\u001b[0m\u001b[0m\n\u001b[0;32m-> 3182\u001b[0;31m     plotter = _BarPlotter(x, y, hue, data, order, hue_order,\n\u001b[0m\u001b[1;32m   3183\u001b[0m                           \u001b[0mestimator\u001b[0m\u001b[0;34m,\u001b[0m \u001b[0mci\u001b[0m\u001b[0;34m,\u001b[0m \u001b[0mn_boot\u001b[0m\u001b[0;34m,\u001b[0m \u001b[0munits\u001b[0m\u001b[0;34m,\u001b[0m \u001b[0mseed\u001b[0m\u001b[0;34m,\u001b[0m\u001b[0;34m\u001b[0m\u001b[0;34m\u001b[0m\u001b[0m\n\u001b[1;32m   3184\u001b[0m                           \u001b[0morient\u001b[0m\u001b[0;34m,\u001b[0m \u001b[0mcolor\u001b[0m\u001b[0;34m,\u001b[0m \u001b[0mpalette\u001b[0m\u001b[0;34m,\u001b[0m \u001b[0msaturation\u001b[0m\u001b[0;34m,\u001b[0m\u001b[0;34m\u001b[0m\u001b[0;34m\u001b[0m\u001b[0m\n",
      "\u001b[0;32m~/.conda/envs/ift6758-conda-env/lib/python3.9/site-packages/seaborn/categorical.py\u001b[0m in \u001b[0;36m__init__\u001b[0;34m(self, x, y, hue, data, order, hue_order, estimator, ci, n_boot, units, seed, orient, color, palette, saturation, errcolor, errwidth, capsize, dodge)\u001b[0m\n\u001b[1;32m   1582\u001b[0m                  errwidth, capsize, dodge):\n\u001b[1;32m   1583\u001b[0m         \u001b[0;34m\"\"\"Initialize the plotter.\"\"\"\u001b[0m\u001b[0;34m\u001b[0m\u001b[0;34m\u001b[0m\u001b[0m\n\u001b[0;32m-> 1584\u001b[0;31m         self.establish_variables(x, y, hue, data, orient,\n\u001b[0m\u001b[1;32m   1585\u001b[0m                                  order, hue_order, units)\n\u001b[1;32m   1586\u001b[0m         \u001b[0mself\u001b[0m\u001b[0;34m.\u001b[0m\u001b[0mestablish_colors\u001b[0m\u001b[0;34m(\u001b[0m\u001b[0mcolor\u001b[0m\u001b[0;34m,\u001b[0m \u001b[0mpalette\u001b[0m\u001b[0;34m,\u001b[0m \u001b[0msaturation\u001b[0m\u001b[0;34m)\u001b[0m\u001b[0;34m\u001b[0m\u001b[0;34m\u001b[0m\u001b[0m\n",
      "\u001b[0;32m~/.conda/envs/ift6758-conda-env/lib/python3.9/site-packages/seaborn/categorical.py\u001b[0m in \u001b[0;36mestablish_variables\u001b[0;34m(self, x, y, hue, data, orient, order, hue_order, units)\u001b[0m\n\u001b[1;32m    154\u001b[0m \u001b[0;34m\u001b[0m\u001b[0m\n\u001b[1;32m    155\u001b[0m             \u001b[0;31m# Figure out the plotting orientation\u001b[0m\u001b[0;34m\u001b[0m\u001b[0;34m\u001b[0m\u001b[0m\n\u001b[0;32m--> 156\u001b[0;31m             orient = infer_orient(\n\u001b[0m\u001b[1;32m    157\u001b[0m                 \u001b[0mx\u001b[0m\u001b[0;34m,\u001b[0m \u001b[0my\u001b[0m\u001b[0;34m,\u001b[0m \u001b[0morient\u001b[0m\u001b[0;34m,\u001b[0m \u001b[0mrequire_numeric\u001b[0m\u001b[0;34m=\u001b[0m\u001b[0mself\u001b[0m\u001b[0;34m.\u001b[0m\u001b[0mrequire_numeric\u001b[0m\u001b[0;34m\u001b[0m\u001b[0;34m\u001b[0m\u001b[0m\n\u001b[1;32m    158\u001b[0m             )\n",
      "\u001b[0;32m~/.conda/envs/ift6758-conda-env/lib/python3.9/site-packages/seaborn/_core.py\u001b[0m in \u001b[0;36minfer_orient\u001b[0;34m(x, y, orient, require_numeric)\u001b[0m\n\u001b[1;32m   1350\u001b[0m     \u001b[0;32melif\u001b[0m \u001b[0mrequire_numeric\u001b[0m \u001b[0;32mand\u001b[0m \u001b[0;34m\"numeric\"\u001b[0m \u001b[0;32mnot\u001b[0m \u001b[0;32min\u001b[0m \u001b[0;34m(\u001b[0m\u001b[0mx_type\u001b[0m\u001b[0;34m,\u001b[0m \u001b[0my_type\u001b[0m\u001b[0;34m)\u001b[0m\u001b[0;34m:\u001b[0m\u001b[0;34m\u001b[0m\u001b[0;34m\u001b[0m\u001b[0m\n\u001b[1;32m   1351\u001b[0m         \u001b[0merr\u001b[0m \u001b[0;34m=\u001b[0m \u001b[0;34m\"Neither the `x` nor `y` variable appears to be numeric.\"\u001b[0m\u001b[0;34m\u001b[0m\u001b[0;34m\u001b[0m\u001b[0m\n\u001b[0;32m-> 1352\u001b[0;31m         \u001b[0;32mraise\u001b[0m \u001b[0mTypeError\u001b[0m\u001b[0;34m(\u001b[0m\u001b[0merr\u001b[0m\u001b[0;34m)\u001b[0m\u001b[0;34m\u001b[0m\u001b[0;34m\u001b[0m\u001b[0m\n\u001b[0m\u001b[1;32m   1353\u001b[0m \u001b[0;34m\u001b[0m\u001b[0m\n\u001b[1;32m   1354\u001b[0m     \u001b[0;32melse\u001b[0m\u001b[0;34m:\u001b[0m\u001b[0;34m\u001b[0m\u001b[0;34m\u001b[0m\u001b[0m\n",
      "\u001b[0;31mTypeError\u001b[0m: Neither the `x` nor `y` variable appears to be numeric."
     ]
    }
   ],
   "source": [
    "import seaborn as sns\n",
    "ax = sns.barplot(x=\"SV%\", y=\"Player\", data=df[[\"Player\",\"SV%\"]])"
   ]
  },
  {
   "cell_type": "markdown",
   "id": "f55e8e43-f654-4745-8755-91506d0e52ae",
   "metadata": {},
   "source": [
    "# Section II - Data Acquisition\n",
    "\n",
    "1. Create a function or class to download NHL play-by-play data for both the regular season and playoffs. \n",
    "\n",
    "The primary endpoint of interest is:\n",
    "\n",
    "https://statsapi.web.nhl.com/api/v1/game/[GAME_ID]/feed/live/\n",
    "\n",
    "2. Use your tool to download data from the 2016-17 season all the way up to the 2020-21 season. \n",
    "\n",
    "A nice pattern could be to define a function that accepts the target year and a filepath as an argument and then checks at the specified filepath for a file corresponding to the dataset you are going to download. If it exists, it could immediately open up the file and return the saved contents. If not, it could download the contents from the REST API and save it to the file before returning the data. \n",
    "\n",
    "3. This means that the first time you run this function, it will automatically download and cache the data locally, and the next time you run the same function, it will instead load the local data. \n",
    "\n",
    "4. Consider using environment variables to allow each teammate to specify different locations, and having your function automatically retrieve the location specified by the environment variable so you don’t have to fight about paths in your git repository."
   ]
  },
  {
   "cell_type": "code",
   "execution_count": null,
   "id": "326946d1-503a-4472-aa61-7ae6d0712257",
   "metadata": {},
   "outputs": [],
   "source": []
  },
  {
   "cell_type": "code",
   "execution_count": 5,
   "id": "e073771f-37ca-4114-acad-219aa4bd1d88",
   "metadata": {},
   "outputs": [],
   "source": [
    "import requests"
   ]
  },
  {
   "cell_type": "code",
   "execution_count": 6,
   "id": "63201f8b-6ab1-4434-8d47-e2e080229408",
   "metadata": {},
   "outputs": [
    {
     "name": "stdout",
     "output_type": "stream",
     "text": [
      "<Response [200]>\n"
     ]
    }
   ],
   "source": [
    "r = requests.get(\"https://statsapi.web.nhl.com/api/v1/game/2017020001/feed/live/\")\n",
    "print(r)"
   ]
  },
  {
   "cell_type": "code",
   "execution_count": 1,
   "id": "7f30e14c-210d-471d-9e51-110ba964466c",
   "metadata": {},
   "outputs": [
    {
     "name": "stdout",
     "output_type": "stream",
     "text": [
      "Player Status from https://statsapi.web.nhl.com/api/v1/game/10/feed/live\n",
      "Player Status\n"
     ]
    }
   ],
   "source": [
    "\n",
    "import requests\n",
    "\n",
    "class Data:\n",
    "    \n",
    "    data_url_format = ''\n",
    "    \n",
    "    def __init__(self, data_url_format = 'https://statsapi.web.nhl.com/api/v1/game/{gameId}/feed/live'):\n",
    "        self.data_url_format = data_url_format\n",
    "        pass\n",
    "    \n",
    "    def getPlayerStats(self):\n",
    "        try:\n",
    "            print(\"Player Status from \" + self.data_url_format.format(gameId=\"10\") )\n",
    "            \n",
    "        except(e):\n",
    "            print(\"Error connecting to API \" + e )\n",
    "            \n",
    "        else:\n",
    "            print(\"Player Status\")\n",
    "\n",
    "        \n",
    "dataCollector = Data()\n",
    "dataCollector.getPlayerStats()"
   ]
  },
  {
   "cell_type": "markdown",
   "id": "a093fda3-2512-4142-893b-fb0e48eeb92d",
   "metadata": {},
   "source": [
    "# Section III - Interactive Debugging Tool"
   ]
  },
  {
   "cell_type": "code",
   "execution_count": null,
   "id": "acf8082c-6a17-4278-b372-813bc8addbaa",
   "metadata": {},
   "outputs": [],
   "source": []
  },
  {
   "cell_type": "code",
   "execution_count": null,
   "id": "4c359472-4d2a-4401-a130-7ee04b85a607",
   "metadata": {},
   "outputs": [],
   "source": []
  },
  {
   "cell_type": "markdown",
   "id": "788839da-ae9a-4094-ac7a-20deb1e299d3",
   "metadata": {},
   "source": [
    "# Section IV - Tidy Data"
   ]
  },
  {
   "cell_type": "code",
   "execution_count": null,
   "id": "3d9e9672-2d48-472c-bf83-c223f2739e48",
   "metadata": {},
   "outputs": [],
   "source": []
  },
  {
   "cell_type": "code",
   "execution_count": null,
   "id": "b3846898-d455-47aa-b888-d2473ec9404f",
   "metadata": {},
   "outputs": [],
   "source": []
  },
  {
   "cell_type": "markdown",
   "id": "61fcf03b-9fd3-43ed-8187-835a28cf5377",
   "metadata": {},
   "source": [
    "# Section V - Simple Visualizations"
   ]
  },
  {
   "cell_type": "code",
   "execution_count": null,
   "id": "9fb6b254-f9db-48fe-be65-211988453a9e",
   "metadata": {},
   "outputs": [],
   "source": []
  },
  {
   "cell_type": "code",
   "execution_count": null,
   "id": "6f87a2cd-2760-4a0e-8fec-5f70924dd75a",
   "metadata": {},
   "outputs": [],
   "source": []
  },
  {
   "cell_type": "markdown",
   "id": "279561a0-12f6-4c41-a385-b830472a2fed",
   "metadata": {},
   "source": [
    "# Section VI - Advanced Visualizations"
   ]
  },
  {
   "cell_type": "code",
   "execution_count": null,
   "id": "5b25d06c-36a3-45e9-9cbe-8220ba5d639a",
   "metadata": {},
   "outputs": [],
   "source": []
  },
  {
   "cell_type": "code",
   "execution_count": null,
   "id": "2c232e55-27cf-4601-854c-5980692aff41",
   "metadata": {},
   "outputs": [],
   "source": []
  },
  {
   "cell_type": "markdown",
   "id": "f5c379ad-61c8-4ee2-ab3a-27efca7c21c1",
   "metadata": {},
   "source": [
    "# Section VII - Blog Posts"
   ]
  },
  {
   "cell_type": "code",
   "execution_count": null,
   "id": "cc914655-0beb-4f80-b805-bd73ba6f163f",
   "metadata": {},
   "outputs": [],
   "source": []
  }
 ],
 "metadata": {
  "interpreter": {
   "hash": "d6b312fdec107245b268cb5779a4003733e59a784dbac499d035496140d44feb"
  },
  "kernelspec": {
   "display_name": "Python 3 (ipykernel)",
   "language": "python",
   "name": "python3"
  },
  "language_info": {
   "codemirror_mode": {
    "name": "ipython",
    "version": 3
   },
   "file_extension": ".py",
   "mimetype": "text/x-python",
   "name": "python",
   "nbconvert_exporter": "python",
   "pygments_lexer": "ipython3",
   "version": "3.9.7"
  }
 },
 "nbformat": 4,
 "nbformat_minor": 5
}
