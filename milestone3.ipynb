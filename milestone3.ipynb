{
 "cells": [
  {
   "cell_type": "code",
   "execution_count": 1,
   "metadata": {},
   "outputs": [],
   "source": [
    "import requests\n",
    "import json\n",
    "import pickle\n",
    "import pandas as pd"
   ]
  },
  {
   "cell_type": "markdown",
   "id": "add50cf4",
   "metadata": {},
   "source": [
    "## load models from comet"
   ]
  },
  {
   "cell_type": "code",
   "execution_count": null,
   "id": "28932b6a",
   "metadata": {},
   "outputs": [
    {
     "name": "stderr",
     "output_type": "stream",
     "text": [
      "COMET INFO: Downloading registry model 'Q6-Fullens', version '2.0.0', stage None from workspace 'binulal'...\n"
     ]
    },
    {
     "ename": "CometRestApiException",
     "evalue": "GET https://www.comet.ml/api/rest/v2/registry-model/item/download?workspaceName=binulal&modelName=Q6-Fullens&version=2.0.0 failed with status code 400: No such registry model",
     "output_type": "error",
     "traceback": [
      "\u001b[1;31m---------------------------------------------------------------------------\u001b[0m\n",
      "\u001b[1;31mCometRestApiException\u001b[0m                     Traceback (most recent call last)\n",
      "\u001b[1;32m~\\AppData\\Local\\Temp/ipykernel_10344/3436003242.py\u001b[0m in \u001b[0;36m<module>\u001b[1;34m\u001b[0m\n",
      "\u001b[0;32m      2\u001b[0m \u001b[0mapi\u001b[0m \u001b[1;33m=\u001b[0m \u001b[0mAPI\u001b[0m\u001b[1;33m(\u001b[0m\u001b[1;33m)\u001b[0m\u001b[1;33m\u001b[0m\u001b[1;33m\u001b[0m\u001b[0m\n",
      "\u001b[0;32m      3\u001b[0m \u001b[1;31m# Download a Registry Model: eg \"Q6-Full-ens\" registered model name\u001b[0m\u001b[1;33m\u001b[0m\u001b[1;33m\u001b[0m\u001b[0m\n",
      "\u001b[1;32m----> 4\u001b[1;33m api.download_registry_model(\"binulal\", \"Q6-Fullens\", \"2.0.0\",\n",
      "\u001b[0m\u001b[0;32m      5\u001b[0m                             output_path=\"./models\", expand=True)\n",
      "\n",
      "\u001b[1;32m~\\Anaconda3\\envs\\ift6758-conda-env\\lib\\site-packages\\comet_ml\\api.py\u001b[0m in \u001b[0;36mdownload_registry_model\u001b[1;34m(self, workspace, registry_name, version, output_path, expand, stage)\u001b[0m\n",
      "\u001b[0;32m   3798\u001b[0m             \u001b[0mworkspace\u001b[0m\u001b[1;33m,\u001b[0m\u001b[1;33m\u001b[0m\u001b[1;33m\u001b[0m\u001b[0m\n",
      "\u001b[0;32m   3799\u001b[0m         )\n",
      "\u001b[1;32m-> 3800\u001b[1;33m         zip_file = self._client.get_registry_model_zipfile(\n",
      "\u001b[0m\u001b[0;32m   3801\u001b[0m             \u001b[0mworkspace\u001b[0m\u001b[1;33m,\u001b[0m \u001b[0mregistry_name\u001b[0m\u001b[1;33m,\u001b[0m \u001b[0mversion\u001b[0m\u001b[1;33m,\u001b[0m \u001b[0mstage\u001b[0m\u001b[1;33m\u001b[0m\u001b[1;33m\u001b[0m\u001b[0m\n",
      "\u001b[0;32m   3802\u001b[0m         )\n",
      "\n",
      "\u001b[1;32m~\\Anaconda3\\envs\\ift6758-conda-env\\lib\\site-packages\\comet_ml\\connection.py\u001b[0m in \u001b[0;36mget_registry_model_zipfile\u001b[1;34m(self, workspace, registry_name, version, stage)\u001b[0m\n",
      "\u001b[0;32m   3208\u001b[0m             \u001b[0mparams\u001b[0m\u001b[1;33m[\u001b[0m\u001b[1;34m\"stage\"\u001b[0m\u001b[1;33m]\u001b[0m \u001b[1;33m=\u001b[0m \u001b[0mstage\u001b[0m\u001b[1;33m\u001b[0m\u001b[1;33m\u001b[0m\u001b[0m\n",
      "\u001b[0;32m   3209\u001b[0m \u001b[1;33m\u001b[0m\u001b[0m\n",
      "\u001b[1;32m-> 3210\u001b[1;33m         return self.get_from_endpoint(\n",
      "\u001b[0m\u001b[0;32m   3211\u001b[0m             \u001b[1;34m\"registry-model/item/download\"\u001b[0m\u001b[1;33m,\u001b[0m\u001b[1;33m\u001b[0m\u001b[1;33m\u001b[0m\u001b[0m\n",
      "\u001b[0;32m   3212\u001b[0m             \u001b[0mparams\u001b[0m\u001b[1;33m,\u001b[0m\u001b[1;33m\u001b[0m\u001b[1;33m\u001b[0m\u001b[0m\n",
      "\n",
      "\u001b[1;32m~\\Anaconda3\\envs\\ift6758-conda-env\\lib\\site-packages\\comet_ml\\connection.py\u001b[0m in \u001b[0;36mget_from_endpoint\u001b[1;34m(self, endpoint, params, return_type, timeout, stream)\u001b[0m\n",
      "\u001b[0;32m   3710\u001b[0m         \u001b[1;31m#     return_type,\u001b[0m\u001b[1;33m\u001b[0m\u001b[1;33m\u001b[0m\u001b[0m\n",
      "\u001b[0;32m   3711\u001b[0m         \u001b[1;31m# )\u001b[0m\u001b[1;33m\u001b[0m\u001b[1;33m\u001b[0m\u001b[0m\n",
      "\u001b[1;32m-> 3712\u001b[1;33m         retval = super(RestApiClientWithCache, self).get_from_endpoint(\n",
      "\u001b[0m\u001b[0;32m   3713\u001b[0m             \u001b[0mendpoint\u001b[0m\u001b[1;33m,\u001b[0m \u001b[0mparams\u001b[0m\u001b[1;33m,\u001b[0m \u001b[0mreturn_type\u001b[0m\u001b[1;33m,\u001b[0m \u001b[0mtimeout\u001b[0m\u001b[1;33m=\u001b[0m\u001b[0mtimeout\u001b[0m\u001b[1;33m\u001b[0m\u001b[1;33m\u001b[0m\u001b[0m\n",
      "\u001b[0;32m   3714\u001b[0m         )\n",
      "\n",
      "\u001b[1;32m~\\Anaconda3\\envs\\ift6758-conda-env\\lib\\site-packages\\comet_ml\\connection.py\u001b[0m in \u001b[0;36mget_from_endpoint\u001b[1;34m(self, endpoint, params, return_type, timeout, stream)\u001b[0m\n",
      "\u001b[0;32m   1543\u001b[0m         \u001b[1;31m# type: (str, Optional[Dict[str, str]], str, Optional[int], bool) -> Any\u001b[0m\u001b[1;33m\u001b[0m\u001b[1;33m\u001b[0m\u001b[0m\n",
      "\u001b[0;32m   1544\u001b[0m         \u001b[0murl\u001b[0m \u001b[1;33m=\u001b[0m \u001b[0murl_join\u001b[0m\u001b[1;33m(\u001b[0m\u001b[0mself\u001b[0m\u001b[1;33m.\u001b[0m\u001b[0mbase_url\u001b[0m\u001b[1;33m,\u001b[0m \u001b[0mendpoint\u001b[0m\u001b[1;33m)\u001b[0m\u001b[1;33m\u001b[0m\u001b[1;33m\u001b[0m\u001b[0m\n",
      "\u001b[1;32m-> 1545\u001b[1;33m         \u001b[0mresponse\u001b[0m \u001b[1;33m=\u001b[0m \u001b[0mself\u001b[0m\u001b[1;33m.\u001b[0m\u001b[0mget\u001b[0m\u001b[1;33m(\u001b[0m\u001b[0murl\u001b[0m\u001b[1;33m,\u001b[0m \u001b[0mparams\u001b[0m\u001b[1;33m,\u001b[0m \u001b[0mtimeout\u001b[0m\u001b[1;33m=\u001b[0m\u001b[0mtimeout\u001b[0m\u001b[1;33m)\u001b[0m\u001b[1;33m\u001b[0m\u001b[1;33m\u001b[0m\u001b[0m\n",
      "\u001b[0m\u001b[0;32m   1546\u001b[0m \u001b[1;33m\u001b[0m\u001b[0m\n",
      "\u001b[0;32m   1547\u001b[0m         \u001b[1;31m### Return data based on return_type:\u001b[0m\u001b[1;33m\u001b[0m\u001b[1;33m\u001b[0m\u001b[0m\n",
      "\n",
      "\u001b[1;32m~\\Anaconda3\\envs\\ift6758-conda-env\\lib\\site-packages\\comet_ml\\connection.py\u001b[0m in \u001b[0;36mget\u001b[1;34m(self, url, params, timeout)\u001b[0m\n",
      "\u001b[0;32m   1649\u001b[0m         \u001b[0mheaders\u001b[0m \u001b[1;33m=\u001b[0m \u001b[1;33m{\u001b[0m\u001b[0mself\u001b[0m\u001b[1;33m.\u001b[0m\u001b[0mAPI_KEY_HEADER\u001b[0m\u001b[1;33m:\u001b[0m \u001b[0mself\u001b[0m\u001b[1;33m.\u001b[0m\u001b[0mapi_key\u001b[0m\u001b[1;33m}\u001b[0m\u001b[1;33m\u001b[0m\u001b[1;33m\u001b[0m\u001b[0m\n",
      "\u001b[0;32m   1650\u001b[0m \u001b[1;33m\u001b[0m\u001b[0m\n",
      "\u001b[1;32m-> 1651\u001b[1;33m         return super(RestApiClient, self).get(\n",
      "\u001b[0m\u001b[0;32m   1652\u001b[0m             \u001b[0murl\u001b[0m\u001b[1;33m,\u001b[0m \u001b[0mparams\u001b[0m\u001b[1;33m=\u001b[0m\u001b[0mparams\u001b[0m\u001b[1;33m,\u001b[0m \u001b[0mheaders\u001b[0m\u001b[1;33m=\u001b[0m\u001b[0mheaders\u001b[0m\u001b[1;33m,\u001b[0m \u001b[0mtimeout\u001b[0m\u001b[1;33m=\u001b[0m\u001b[0mtimeout\u001b[0m\u001b[1;33m\u001b[0m\u001b[1;33m\u001b[0m\u001b[0m\n",
      "\u001b[0;32m   1653\u001b[0m         )\n",
      "\n",
      "\u001b[1;32m~\\Anaconda3\\envs\\ift6758-conda-env\\lib\\site-packages\\comet_ml\\connection.py\u001b[0m in \u001b[0;36mget\u001b[1;34m(self, url, params, headers, timeout)\u001b[0m\n",
      "\u001b[0;32m   1529\u001b[0m                 \u001b[1;32mraise\u001b[0m \u001b[0mNotFound\u001b[0m\u001b[1;33m(\u001b[0m\u001b[1;34m\"GET\"\u001b[0m\u001b[1;33m,\u001b[0m \u001b[0mresponse\u001b[0m\u001b[1;33m)\u001b[0m\u001b[1;33m\u001b[0m\u001b[1;33m\u001b[0m\u001b[0m\n",
      "\u001b[0;32m   1530\u001b[0m             \u001b[1;32melse\u001b[0m\u001b[1;33m:\u001b[0m\u001b[1;33m\u001b[0m\u001b[1;33m\u001b[0m\u001b[0m\n",
      "\u001b[1;32m-> 1531\u001b[1;33m                 \u001b[1;32mraise\u001b[0m \u001b[0mCometRestApiException\u001b[0m\u001b[1;33m(\u001b[0m\u001b[1;34m\"GET\"\u001b[0m\u001b[1;33m,\u001b[0m \u001b[0mresponse\u001b[0m\u001b[1;33m)\u001b[0m\u001b[1;33m\u001b[0m\u001b[1;33m\u001b[0m\u001b[0m\n",
      "\u001b[0m\u001b[0;32m   1532\u001b[0m \u001b[1;33m\u001b[0m\u001b[0m\n",
      "\u001b[0;32m   1533\u001b[0m         \u001b[1;32mreturn\u001b[0m \u001b[0mresponse\u001b[0m\u001b[1;33m\u001b[0m\u001b[1;33m\u001b[0m\u001b[0m\n",
      "\n",
      "\u001b[1;31mCometRestApiException\u001b[0m: GET https://www.comet.ml/api/rest/v2/registry-model/item/download?workspaceName=binulal&modelName=Q6-Fullens&version=2.0.0 failed with status code 400: No such registry model"
     ]
    }
   ],
   "source": [
    "from comet_ml import API\n",
    "api = API()\n",
    "# Download a Registry Model: eg \"Q6-Full-ens\" registered model name\n",
    "api.download_registry_model(\"binulal\", \"Q6-Fullens\", \"2.0.0\",\n",
    "                            output_path=\"./models\", expand=True)"
   ]
  },
  {
   "cell_type": "markdown",
   "metadata": {},
   "source": [
    "## Testing post functions download_registry_model & predict"
   ]
  },
  {
   "cell_type": "code",
   "execution_count": 5,
   "id": "283e3a61",
   "metadata": {},
   "outputs": [
    {
     "name": "stdout",
     "output_type": "stream",
     "text": [
      "{'Model_downloaded': True, 'model': 'Q6-Fullens', 'version': '2.0.0', 'workspace': 'binulal'}\n"
     ]
    }
   ],
   "source": [
    "req = {\n",
    "    'workspace': \"binulal\",\n",
    "    'model': \"Q6-Fullens\",\n",
    "    'version': \"2.0.0\",\n",
    "}\n",
    "\n",
    "r = requests.post(\n",
    "\t\"http://192.168.2.18/download_registry_model\", \n",
    "\tjson=json.loads(json.dumps(req, indent = 4))\n",
    ")\n",
    "print(r.json())\n"
   ]
  },
  {
   "cell_type": "code",
   "execution_count": 8,
   "id": "81545801",
   "metadata": {},
   "outputs": [],
   "source": [
    "df_prep = pickle.load( open(\"./data/data_test_po_prep.pickle\",'rb'))\n",
    "y = df_prep['isGoal']\n",
    "X = df_prep.drop(['isGoal'], axis=1)\n",
    "\n",
    "r = requests.post(\n",
    "\t\"http://192.168.2.18/predict\", \n",
    "\tjson=json.loads(X.to_json())\n",
    ")\n",
    "#print(r.json())\n"
   ]
  }
 ],
 "metadata": {
  "interpreter": {
   "hash": "23939f1a28a61926cdc50c8d99e2a284e82096ec4e628366901ade2487d139b3"
  },
  "kernelspec": {
   "display_name": "Python 3.9.7 64-bit ('ift6758-conda-env': conda)",
   "language": "python",
   "name": "python3"
  },
  "language_info": {
   "codemirror_mode": {
    "name": "ipython",
    "version": 3
   },
   "file_extension": ".py",
   "mimetype": "text/x-python",
   "name": "python",
   "nbconvert_exporter": "python",
   "pygments_lexer": "ipython3",
   "version": "3.9.7"
  },
  "orig_nbformat": 4
 },
 "nbformat": 4,
 "nbformat_minor": 2
}
