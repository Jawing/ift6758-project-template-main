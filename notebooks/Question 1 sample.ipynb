{
 "cells": [
  {
   "cell_type": "markdown",
   "id": "3221f910",
   "metadata": {},
   "source": [
    "# Sample code for Question 1\n",
    "\n",
    "This notebook shows how you can use the provided Python function to pull player stats from an online website.\n",
    "This function lives in a custom package that is provided to you in this repository.\n",
    "You are encouraged to leverage this package as a skeleton and add all of your reusable code, functions, etc. into relevant modules.\n",
    "This makes collaboration much easier as the package could be seen as a \"single source of truth\" to pull data, create visualizations, etc. rather than relying on a jumble of notebooks.\n",
    "You can still run into trouble if branches are not frequently merged as work progresses, so try to not let your branches diverge too much."
   ]
  },
  {
   "cell_type": "code",
   "execution_count": 12,
   "id": "be36d6d5",
   "metadata": {},
   "outputs": [],
   "source": [
    "from ift6758.data import get_player_stats\n",
    "import pandas as pd\n",
    "import numpy as np"
   ]
  },
  {
   "cell_type": "markdown",
   "id": "88c1bfb3",
   "metadata": {},
   "source": [
    "If the above doesn't work for you, make sure you've installed the repo as specified in the readme file. \n",
    "Essentially you must make sure that your environment is setup (either through conda or virtualenv), and then install it using:\n",
    "\n",
    "```bash\n",
    "pip install -e /path/to/repo \n",
    "```\n",
    "\n",
    "The nice thing using this approach is if you have your environment activated, you can import modules from anywhere on your system!"
   ]
  },
  {
   "cell_type": "code",
   "execution_count": 13,
   "id": "0d5502ae",
   "metadata": {},
   "outputs": [
    {
     "name": "stdout",
     "output_type": "stream",
     "text": [
      "Retrieving data from 'https://www.hockey-reference.com/leagues/NHL_2016_goalies.html'...\n"
     ]
    }
   ],
   "source": [
    "df = get_player_stats(2016, 'goalies')"
   ]
  },
  {
   "cell_type": "markdown",
   "id": "4b3e6b42",
   "metadata": {},
   "source": [
    "If you're curious, this function uses the `pd.read_html()` method ([doc](https://pandas.pydata.org/pandas-docs/stable/reference/api/pandas.read_html.html)), which internally uses [Beautiful Soup](https://www.crummy.com/software/BeautifulSoup/bs4/doc/) to parse HTML data."
   ]
  },
  {
   "cell_type": "code",
   "execution_count": 14,
   "id": "e9dd59a2",
   "metadata": {},
   "outputs": [
    {
     "data": {
      "text/plain": "  Rk             Player Age   Tm  GP  GS   W   L T/O   GA  ...   MIN  QS  \\\n0  1         Jake Allen  25  STL  47  44  26  15   3  101  ...  2583  26   \n1  2  Frederik Andersen  26  ANA  43  37  22   9   7   88  ...  2298  24   \n2  3     Craig Anderson  34  OTT  60  60  31  23   5  161  ...  3477  31   \n3  4    Richard Bachman  28  VAN   1   1   1   0   0    3  ...    60   0   \n4  5   Niklas Bäckström  37  CGY   4   3   2   2   0   13  ...   233   2   \n\n    QS% RBS GA%-  GSAA  G  A PTS PIM  \n0  .591   6   94  6.28  0  0   0   0  \n1  .649   5   95  4.46  0  1   1   2  \n2  .517   8   99  2.05  0  2   2   0  \n3  .000   0  NaN   NaN  0  0   0   0  \n4  .667   1  NaN   NaN  0  0   0   0  \n\n[5 rows x 26 columns]",
      "text/html": "<div>\n<style scoped>\n    .dataframe tbody tr th:only-of-type {\n        vertical-align: middle;\n    }\n\n    .dataframe tbody tr th {\n        vertical-align: top;\n    }\n\n    .dataframe thead th {\n        text-align: right;\n    }\n</style>\n<table border=\"1\" class=\"dataframe\">\n  <thead>\n    <tr style=\"text-align: right;\">\n      <th></th>\n      <th>Rk</th>\n      <th>Player</th>\n      <th>Age</th>\n      <th>Tm</th>\n      <th>GP</th>\n      <th>GS</th>\n      <th>W</th>\n      <th>L</th>\n      <th>T/O</th>\n      <th>GA</th>\n      <th>...</th>\n      <th>MIN</th>\n      <th>QS</th>\n      <th>QS%</th>\n      <th>RBS</th>\n      <th>GA%-</th>\n      <th>GSAA</th>\n      <th>G</th>\n      <th>A</th>\n      <th>PTS</th>\n      <th>PIM</th>\n    </tr>\n  </thead>\n  <tbody>\n    <tr>\n      <th>0</th>\n      <td>1</td>\n      <td>Jake Allen</td>\n      <td>25</td>\n      <td>STL</td>\n      <td>47</td>\n      <td>44</td>\n      <td>26</td>\n      <td>15</td>\n      <td>3</td>\n      <td>101</td>\n      <td>...</td>\n      <td>2583</td>\n      <td>26</td>\n      <td>.591</td>\n      <td>6</td>\n      <td>94</td>\n      <td>6.28</td>\n      <td>0</td>\n      <td>0</td>\n      <td>0</td>\n      <td>0</td>\n    </tr>\n    <tr>\n      <th>1</th>\n      <td>2</td>\n      <td>Frederik Andersen</td>\n      <td>26</td>\n      <td>ANA</td>\n      <td>43</td>\n      <td>37</td>\n      <td>22</td>\n      <td>9</td>\n      <td>7</td>\n      <td>88</td>\n      <td>...</td>\n      <td>2298</td>\n      <td>24</td>\n      <td>.649</td>\n      <td>5</td>\n      <td>95</td>\n      <td>4.46</td>\n      <td>0</td>\n      <td>1</td>\n      <td>1</td>\n      <td>2</td>\n    </tr>\n    <tr>\n      <th>2</th>\n      <td>3</td>\n      <td>Craig Anderson</td>\n      <td>34</td>\n      <td>OTT</td>\n      <td>60</td>\n      <td>60</td>\n      <td>31</td>\n      <td>23</td>\n      <td>5</td>\n      <td>161</td>\n      <td>...</td>\n      <td>3477</td>\n      <td>31</td>\n      <td>.517</td>\n      <td>8</td>\n      <td>99</td>\n      <td>2.05</td>\n      <td>0</td>\n      <td>2</td>\n      <td>2</td>\n      <td>0</td>\n    </tr>\n    <tr>\n      <th>3</th>\n      <td>4</td>\n      <td>Richard Bachman</td>\n      <td>28</td>\n      <td>VAN</td>\n      <td>1</td>\n      <td>1</td>\n      <td>1</td>\n      <td>0</td>\n      <td>0</td>\n      <td>3</td>\n      <td>...</td>\n      <td>60</td>\n      <td>0</td>\n      <td>.000</td>\n      <td>0</td>\n      <td>NaN</td>\n      <td>NaN</td>\n      <td>0</td>\n      <td>0</td>\n      <td>0</td>\n      <td>0</td>\n    </tr>\n    <tr>\n      <th>4</th>\n      <td>5</td>\n      <td>Niklas Bäckström</td>\n      <td>37</td>\n      <td>CGY</td>\n      <td>4</td>\n      <td>3</td>\n      <td>2</td>\n      <td>2</td>\n      <td>0</td>\n      <td>13</td>\n      <td>...</td>\n      <td>233</td>\n      <td>2</td>\n      <td>.667</td>\n      <td>1</td>\n      <td>NaN</td>\n      <td>NaN</td>\n      <td>0</td>\n      <td>0</td>\n      <td>0</td>\n      <td>0</td>\n    </tr>\n  </tbody>\n</table>\n<p>5 rows × 26 columns</p>\n</div>"
     },
     "execution_count": 14,
     "metadata": {},
     "output_type": "execute_result"
    }
   ],
   "source": [
    "df.head()"
   ]
  },
  {
   "cell_type": "markdown",
   "source": [],
   "metadata": {
    "collapsed": false,
    "pycharm": {
     "name": "#%% md\n"
    }
   }
  }
 ],
 "metadata": {
  "interpreter": {
   "hash": "d6b312fdec107245b268cb5779a4003733e59a784dbac499d035496140d44feb"
  },
  "kernelspec": {
   "display_name": "Python 3 (ipykernel)",
   "language": "python",
   "name": "python3"
  },
  "language_info": {
   "codemirror_mode": {
    "name": "ipython",
    "version": 3
   },
   "file_extension": ".py",
   "mimetype": "text/x-python",
   "name": "python",
   "nbconvert_exporter": "python",
   "pygments_lexer": "ipython3",
   "version": "3.9.7"
  }
 },
 "nbformat": 4,
 "nbformat_minor": 5
}