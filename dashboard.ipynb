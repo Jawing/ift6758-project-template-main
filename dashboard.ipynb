{
 "cells": [
  {
   "cell_type": "code",
   "execution_count": 1,
   "id": "5e7d7c9f-6547-4460-b680-d7001cbc08d6",
   "metadata": {},
   "outputs": [],
   "source": [
    "import os\n",
    "\n",
    "import numpy as np \n",
    "import pandas as pd\n",
    "pd.options.display.max_columns = None\n",
    "\n",
    "\n",
    "import matplotlib.pyplot as plt\n",
    "plt.rcParams['figure.figsize'] = [14, 10]\n",
    "plt.rcParams['figure.dpi'] = 80\n",
    "\n",
    "import seaborn as sns\n",
    "sns.set_theme(style=\"whitegrid\")\n",
    "sns.set_context(\"paper\")\n",
    "\n",
    "import matplotlib.image as mpimg\n",
    "import ipywidgets as widgets\n",
    "from IPython.display import display"
   ]
  },
  {
   "cell_type": "code",
   "execution_count": 2,
   "id": "727adc65-5458-4568-9733-6586b7eb6280",
   "metadata": {},
   "outputs": [
    {
     "name": "stderr",
     "output_type": "stream",
     "text": [
      "COMET INFO: Comet API key is valid\n"
     ]
    }
   ],
   "source": [
    "import comet_ml\n",
    "comet_ml.init()"
   ]
  },
  {
   "cell_type": "code",
   "execution_count": 12,
   "id": "7b88a643-4b48-4b16-8958-41f43bdbac9b",
   "metadata": {},
   "outputs": [
    {
     "data": {
      "application/vnd.jupyter.widget-view+json": {
       "model_id": "5a8b72380a9b45c6b80d4be5aa085807",
       "version_major": 2,
       "version_minor": 0
      },
      "text/plain": [
       "interactive(children=(Dropdown(description='workspace', options=('binulal',), value='binulal'), Output()), _do…"
      ]
     },
     "metadata": {},
     "output_type": "display_data"
    }
   ],
   "source": [
    "api = comet_ml.api.API()\n",
    "comet_wspaces = api.get()\n",
    "\n",
    "@widgets.interact(workspace=comet_wspaces)\n",
    "def showWorkspaces( workspace=\"binulal\" ):\n",
    "    comet_experiments = api.get_experiments(workspace)\n",
    "    @widgets.interact( experiment = comet_experiments )\n",
    "    def showExperiments( experiment=\"\" ):\n",
    "        comet_models = experiment.get_model_names()\n",
    "        print(comet_models)\n",
    "        pass\n",
    "    \n",
    "    \n",
    "    \n",
    "    "
   ]
  },
  {
   "cell_type": "code",
   "execution_count": null,
   "id": "a70d38b2-0984-4bbe-9c64-c265aec23ec1",
   "metadata": {},
   "outputs": [],
   "source": []
  }
 ],
 "metadata": {
  "kernelspec": {
   "display_name": "Python 3 (ipykernel)",
   "language": "python",
   "name": "python3"
  },
  "language_info": {
   "codemirror_mode": {
    "name": "ipython",
    "version": 3
   },
   "file_extension": ".py",
   "mimetype": "text/x-python",
   "name": "python",
   "nbconvert_exporter": "python",
   "pygments_lexer": "ipython3",
   "version": "3.9.7"
  }
 },
 "nbformat": 4,
 "nbformat_minor": 5
}
