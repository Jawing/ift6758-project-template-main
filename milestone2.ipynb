{
 "cells": [
  {
   "cell_type": "markdown",
   "id": "0addf8bd-df06-4754-bf8a-d3bd489d0078",
   "metadata": {
    "tags": []
   },
   "source": [
    "# Milestone 2"
   ]
  },
  {
   "cell_type": "code",
   "execution_count": 1,
   "id": "95fef004-9d5b-4259-ace2-a25e77a70f11",
   "metadata": {},
   "outputs": [],
   "source": [
    "# for auto-reloading extenrnal modules\n",
    "# see http://stackoverflow.com/questions/1907993/autoreload-of-modules-in-ipython\n",
    "%load_ext autoreload\n",
    "%autoreload 2"
   ]
  },
  {
   "cell_type": "code",
   "execution_count": 2,
   "id": "d9f87136-da0f-4c2f-a54d-c96a1cc03ca6",
   "metadata": {},
   "outputs": [],
   "source": [
    "import os\n",
    "\n",
    "import numpy as np \n",
    "import pandas as pd\n",
    "import seaborn as sns\n",
    "\n",
    "pd.options.display.max_columns = None"
   ]
  },
  {
   "cell_type": "code",
   "execution_count": 3,
   "id": "b6f58cdb-e802-4e2f-9cee-7e2d2b3818b5",
   "metadata": {},
   "outputs": [],
   "source": [
    "import matplotlib.pyplot as plt\n",
    "\n",
    "plt.rcParams['figure.figsize'] = [14, 10]\n",
    "plt.rcParams['figure.dpi'] = 100 "
   ]
  },
  {
   "cell_type": "markdown",
   "id": "17e02ccc-88c3-437e-9b19-25be57a1c9ae",
   "metadata": {},
   "source": [
    "## 1. Experiment Tracking (10%)"
   ]
  },
  {
   "cell_type": "markdown",
   "id": "1268e5c9-3b5b-40ee-a4f2-be2588faf307",
   "metadata": {},
   "source": [
    "Please do this to install comet_ml pip <br>\n",
    "> conda activate ift6758-conda-env <br>\n",
    "> conda install pip<br>\n",
    "> which pip<br>\n",
    "> pip install comet_ml<br>\n",
    "\n"
   ]
  },
  {
   "cell_type": "code",
   "execution_count": 4,
   "id": "1b0da272-c2b0-4f43-a1b4-d3f29db21620",
   "metadata": {},
   "outputs": [
    {
     "name": "stderr",
     "output_type": "stream",
     "text": [
      "COMET INFO: Comet API key is valid\n",
      "COMET WARNING: As you are running in a Jupyter environment, you will need to call `experiment.end()` when finished to ensure all metrics and code are logged before exiting.\n",
      "COMET INFO: Experiment is live on comet.ml https://www.comet.ml/binulal/milestone-2/55016ec0a6be4614bccf8a542895ba6a\n",
      "\n"
     ]
    }
   ],
   "source": [
    "import comet_ml\n",
    "comet_ml.init()\n",
    "\n",
    "from comet_ml import Experiment\n",
    "experiment = Experiment(\n",
    "    project_name=\"milestone-2\",\n",
    "    workspace=\"binulal\",\n",
    ")"
   ]
  },
  {
   "cell_type": "markdown",
   "id": "4facd3f4-47ad-4540-af2a-19af4b9c6d13",
   "metadata": {},
   "source": [
    "## 2. Feature Engineering - I (10%)"
   ]
  },
  {
   "cell_type": "markdown",
   "id": "c9b6baa7-ce83-4500-a72b-157bc7eeb3fb",
   "metadata": {},
   "source": [
    "* Acquire all of the raw play-by-play data for the 2015/16 season all the way to the 2019/20 season (inclusive).\n",
    "* Set aside all of the 2019/20 data as your final test set. \n",
    "* You will use the 2015/16 - 2018/19 regular season data to create your training and validation sets. \n",
    "* Until Part 7, any reference to the “dataset” will exclusively refer to the 2015/16 - 2018/19 data\n"
   ]
  },
  {
   "cell_type": "code",
   "execution_count": 5,
   "id": "a6060861-f7c1-453e-a194-cd5bb008500c",
   "metadata": {},
   "outputs": [],
   "source": [
    "from ift6758.data.functions import loadstats\n",
    "from ift6758.data.tidyData_adv import tidyData_adv"
   ]
  },
  {
   "cell_type": "code",
   "execution_count": 6,
   "id": "190d3633-be94-4ba9-b02b-bf82de4a34a6",
   "metadata": {},
   "outputs": [
    {
     "name": "stdout",
     "output_type": "stream",
     "text": [
      "Error code: 404 at gameID:2015021231. Game not found.\n",
      "size of data in regular season: 1230\n",
      "Error code: 404 at gameID:2015030126. Game not found.\n",
      "Error code: 404 at gameID:2015030137. Game not found.\n",
      "Error code: 404 at gameID:2015030146. Game not found.\n",
      "Error code: 404 at gameID:2015030157. Game not found.\n",
      "Error code: 404 at gameID:2015030187. Game not found.\n",
      "Error code: 404 at gameID:2015030216. Game not found.\n",
      "Error code: 404 at gameID:2015030417. Game not found.\n",
      "size of data in regular season & playoffs: 1325\n",
      "Error code: 404 at gameID:2016021231. Game not found.\n",
      "size of data in regular season: 1230\n",
      "Error code: 404 at gameID:2016030147. Game not found.\n",
      "Error code: 404 at gameID:2016030176. Game not found.\n",
      "size of data in regular season & playoffs: 1332\n",
      "size of data in regular season: 1271\n",
      "size of data in regular season & playoffs: 1376\n",
      "size of data in regular season: 1271\n",
      "size of data in regular season & playoffs: 1376\n"
     ]
    }
   ],
   "source": [
    "\n",
    "dfs_2015 = loadstats(2015,'./data/')\n",
    "df_2015 = tidyData_adv(dfs_2015)\n",
    "\n",
    "dfs_2016 = loadstats(2016,'./data/')\n",
    "df_2016 = tidyData_adv(dfs_2016)\n",
    "\n",
    "dfs_2017 = loadstats(2017,'./data/')\n",
    "df_2017 = tidyData_adv(dfs_2017)\n",
    "\n",
    "dfs_2018 = loadstats(2018,'./data/')\n",
    "df_2018 = tidyData_adv(dfs_2018)\n",
    "\n",
    "# dfs_2019 = loadstats(2019,'./data/')\n",
    "# df_2019 = tidyData_adv(dfs_2019) <---- do this on section# 7"
   ]
  },
  {
   "cell_type": "code",
   "execution_count": 7,
   "id": "49bc16cf-ad87-46c0-9e50-739f57a8df57",
   "metadata": {},
   "outputs": [],
   "source": [
    "df = df_2015.append(df_2016, ignore_index=True).append(df_2017, ignore_index=True).append(df_2018, ignore_index=True)"
   ]
  },
  {
   "cell_type": "code",
   "execution_count": 8,
   "id": "bd76b67d-1320-469a-b714-a19947759d2c",
   "metadata": {},
   "outputs": [],
   "source": [
    "import matplotlib.pyplot as plt\n",
    "import matplotlib.image as mpimg\n",
    "import ipywidgets as widgets\n",
    "from IPython.display import display"
   ]
  },
  {
   "cell_type": "markdown",
   "id": "3d06efaf-478b-41d6-ae1f-1ef5d280a88d",
   "metadata": {},
   "source": [
    "https://kapernikov.com/ipywidgets-with-matplotlib/"
   ]
  },
  {
   "cell_type": "code",
   "execution_count": 9,
   "id": "91fb167e-60c5-461b-990b-87049f5db77f",
   "metadata": {},
   "outputs": [
    {
     "data": {
      "application/vnd.jupyter.widget-view+json": {
       "model_id": "a0f5f260da214232b21090904c15cda6",
       "version_major": 2,
       "version_minor": 0
      },
      "text/plain": [
       "interactive(children=(Dropdown(description='gameid', options=('2015020001', '2015020002', '2015020003', '20150…"
      ]
     },
     "metadata": {},
     "output_type": "display_data"
    }
   ],
   "source": [
    "dfs_tidy = df\n",
    "gameIds = np.unique(dfs_tidy.game_id )\n",
    "\n",
    "@widgets.interact(gameid=gameIds)\n",
    "def showTeams( gameid=\"2015020001\" ):\n",
    "    teams = np.unique(dfs_tidy[dfs_tidy.game_id == gameid].teamInfo)\n",
    "    periods = np.unique(dfs_tidy[dfs_tidy.game_id == gameid].period)\n",
    "    #print(teams)\n",
    "    @widgets.interact(team=teams, period=periods, showGoalsOnly=False)\n",
    "    def teams(team=\"Montréal Canadiens\", period=1, showGoalsOnly=False):\n",
    "        #print(gameid, \" \", team )\n",
    "        img = mpimg.imread('figures/nhl_rink.png')\n",
    "        fig, ax = plt.subplots(figsize=(20, 8.5))\n",
    "        #fig = plt.figure( figsize=(20, 8.5))\n",
    "        ax.imshow(img, extent=[-100, 100, -42.5, 42.5])\n",
    "        [l.remove() for l in ax.lines]\n",
    "        if showGoalsOnly:\n",
    "            plotDF = dfs_tidy[ (dfs_tidy.game_id == gameid) & (dfs_tidy.period == period) & (dfs_tidy.teamInfo == team) & (dfs_tidy.isGoal)]\n",
    "        else:\n",
    "            plotDF = dfs_tidy[ (dfs_tidy.game_id == gameid) & (dfs_tidy.period == period) & (dfs_tidy.teamInfo == team)]\n",
    "        ax.plot( plotDF['coordinates_x'], plotDF['coordinates_y'], 'bo')\n",
    "        home_team = np.unique(dfs_tidy[ (dfs_tidy.game_id == gameid) & (dfs_tidy.period == period) & (dfs_tidy.teamInfo == team)].homeTeam)[0]\n",
    "        away_team = np.unique(dfs_tidy[ (dfs_tidy.game_id == gameid) & (dfs_tidy.period == period) & (dfs_tidy.teamInfo == team)].awayTeam)[0]\n",
    "        home_side = np.unique(dfs_tidy[ (dfs_tidy.game_id == gameid) & (dfs_tidy.period == period) & (dfs_tidy.teamInfo == team)].homeSide)[0]\n",
    "        @widgets.interact(homeTeam=home_team, awayTeam=away_team, homeSide=home_side)\n",
    "        def teamInfo(homeTeam=home_team, awayTeam=away_team, homeSide=home_side):\n",
    "            return homeTeam, awayTeam, homeSide\n",
    "        \n",
    "        "
   ]
  },
  {
   "cell_type": "code",
   "execution_count": 10,
   "id": "56652442-db51-453d-9f22-e6a2cedc2c50",
   "metadata": {},
   "outputs": [
    {
     "data": {
      "text/plain": [
       "game_id                        2015020001\n",
       "event_idx                               9\n",
       "speed                            7.211103\n",
       "periodSeconds_last                    7.0\n",
       "eventType_last                   GIVEAWAY\n",
       "rebound                             False\n",
       "period                                  1\n",
       "periodType                        REGULAR\n",
       "periodTime                          01:05\n",
       "periodSeconds                        65.0\n",
       "teamInfo              Toronto Maple Leafs\n",
       "isGoal                              False\n",
       "shotType                        Snap Shot\n",
       "coordinates_x                       -79.0\n",
       "coordinates_y                         0.0\n",
       "coordinates_x_last                  -37.0\n",
       "coordinates_y_last                  -28.0\n",
       "distance_last                   50.477718\n",
       "dist_goal                            11.0\n",
       "angle_goal                           -0.0\n",
       "angle_change                          0.0\n",
       "angle_speed                          <NA>\n",
       "shooter                       Nazem Kadri\n",
       "goalie                        Carey Price\n",
       "emptyNet                            False\n",
       "strength                             <NA>\n",
       "homeTeam              Toronto Maple Leafs\n",
       "awayTeam               Montréal Canadiens\n",
       "homeSide                            right\n",
       "Name: 1, dtype: object"
      ]
     },
     "execution_count": 10,
     "metadata": {},
     "output_type": "execute_result"
    }
   ],
   "source": [
    "df.iloc[1]"
   ]
  },
  {
   "cell_type": "markdown",
   "id": "7b6a638d-2348-4128-9858-327d3500f109",
   "metadata": {},
   "source": [
    "### A histogram of shot counts (goals and no-goals separated), binned by distance"
   ]
  },
  {
   "cell_type": "code",
   "execution_count": 11,
   "id": "0055cece-53fe-4964-9767-080430b74bab",
   "metadata": {},
   "outputs": [],
   "source": [
    "data = df[[\"dist_goal\", \"isGoal\"]].dropna()"
   ]
  },
  {
   "cell_type": "code",
   "execution_count": 18,
   "id": "5f28c465-f441-4042-9c40-a33129649d8a",
   "metadata": {},
   "outputs": [
    {
     "data": {
      "image/png": "[encoded data removed]",
      "text/plain": [
       "<Figure size 1400x1000 with 1 Axes>"
      ]
     },
     "metadata": {},
     "output_type": "display_data"
    }
   ],
   "source": [
    "import seaborn as sns\n",
    "sns.set_theme(style=\"whitegrid\")\n",
    "ax = sns.histplot( data, x = \"dist_goal\", hue=\"isGoal\", bins=40)\n",
    "ax.set(xlabel='Shot Distance', ylabel='Number of Goals')\n",
    "ax.get_figure().savefig(\"m2_q2_1_dist_to_goal.png\")"
   ]
  },
  {
   "cell_type": "markdown",
   "id": "c266410d-2161-4eb2-bb3b-0a6c554075dc",
   "metadata": {},
   "source": [
    "### A histogram of shot counts (goals and no-goals separated), binned by angle"
   ]
  },
  {
   "cell_type": "code",
   "execution_count": 19,
   "id": "ddbfb376-0253-4e7a-912f-34a5381ccc5f",
   "metadata": {},
   "outputs": [],
   "source": [
    "data2 = data = df[[\"angle_goal\", \"isGoal\"]].dropna()"
   ]
  },
  {
   "cell_type": "code",
   "execution_count": 21,
   "id": "1e3a821c-1f30-4683-bb84-dcea24b475fd",
   "metadata": {},
   "outputs": [
    {
     "data": {
      "image/png": "[encoded data removed]",
      "text/plain": [
       "<Figure size 1400x1000 with 1 Axes>"
      ]
     },
     "metadata": {},
     "output_type": "display_data"
    }
   ],
   "source": [
    "import seaborn as sns\n",
    "ax = sns.histplot( data2, x = \"angle_goal\", hue=\"isGoal\", bins=40)\n",
    "ax.set(xlabel='Shot Angle', ylabel='Number of Goals')\n",
    "ax.get_figure().savefig(\"m2_q2_1_angle_to_goal.png\")"
   ]
  },
  {
   "cell_type": "code",
   "execution_count": null,
   "id": "c676bb5c-c835-4787-9642-b88a6b671548",
   "metadata": {},
   "outputs": [],
   "source": [
    "import plotly.express as px\n",
    "\n",
    "fig = px.histogram(data2, x = \"angle_goal\", color = \"isGoal\", nbins=40, barmode=\"overlay\")\n",
    "fig.show()"
   ]
  },
  {
   "cell_type": "markdown",
   "id": "dae3c139-2573-43e6-b32a-c668d9e02a20",
   "metadata": {},
   "source": [
    "### A 2D histogram where one axis is the distance and the other is the angle. You do not need to separate goals and no-goals."
   ]
  },
  {
   "cell_type": "code",
   "execution_count": null,
   "id": "00f63629-3246-4747-9830-977da8a561ee",
   "metadata": {},
   "outputs": [],
   "source": [
    "data3 = df[[\"dist_goal\", \"angle_goal\", \"isGoal\"]]#.dropna()"
   ]
  },
  {
   "cell_type": "code",
   "execution_count": null,
   "id": "4fc45ba4-d81e-4cc4-8ed1-8dc3407e0921",
   "metadata": {},
   "outputs": [],
   "source": [
    "data3.head()"
   ]
  },
  {
   "cell_type": "code",
   "execution_count": null,
   "id": "00688e65-4173-4572-9ec0-96329e09da42",
   "metadata": {},
   "outputs": [],
   "source": [
    "import seaborn as sns\n",
    "#ax = sns.histplot( data2, x = \"angle_goal\", hue=\"isGoal\", bins=40)\n",
    "ax = sns.jointplot( data = data3, x = \"angle_goal\", y = \"dist_goal\", dropna=True)"
   ]
  },
  {
   "cell_type": "code",
   "execution_count": null,
   "id": "0e6c03e6-2cf7-4d3f-be39-6c4a93401aa8",
   "metadata": {},
   "outputs": [],
   "source": [
    "import seaborn as sns\n",
    "#ax = sns.histplot( data2, x = \"angle_goal\", hue=\"isGoal\", bins=40)\n",
    "ax = sns.jointplot( data = data3, x = \"angle_goal\", y = \"dist_goal\", dropna=True, hue=\"isGoal\")"
   ]
  },
  {
   "cell_type": "markdown",
   "id": "80fbffd9-e98f-467b-8c13-4b7f0e1ae29a",
   "metadata": {},
   "source": [
    "### Relate the goal rate, i.e. #goals / (#no_goals + #goals), to the distance, "
   ]
  },
  {
   "cell_type": "code",
   "execution_count": null,
   "id": "da152037-e15e-43ff-8414-e0ec7d7dca72",
   "metadata": {},
   "outputs": [],
   "source": [
    "data3[ data3.isGoal == True ].head()"
   ]
  },
  {
   "cell_type": "code",
   "execution_count": null,
   "id": "859380db-8642-4ee1-805a-db47d9208e52",
   "metadata": {},
   "outputs": [],
   "source": [
    "data3 = data3.dropna()\n",
    "maxDist = int(data3[\"dist_goal\"].max())\n",
    "bins = list(range(0, maxDist+20, 10))\n",
    "groups = data3.groupby( [ 'isGoal',  pd.cut( data3[\"dist_goal\"], bins )] )\n",
    "result = groups.size().unstack().T\n",
    "result"
   ]
  },
  {
   "cell_type": "code",
   "execution_count": null,
   "id": "0609e639-e684-49e6-ab24-0b8223ad77df",
   "metadata": {},
   "outputs": [],
   "source": [
    "result[\"goalRate\"] = result.apply( lambda x : x[True] / (x.sum() + 1e-8), axis = 1, result_type='expand')\n",
    "result.reset_index(inplace=True)"
   ]
  },
  {
   "cell_type": "code",
   "execution_count": null,
   "id": "385e40ff-e127-44b2-939b-fe4c40f75afc",
   "metadata": {},
   "outputs": [],
   "source": [
    "result.dtypes"
   ]
  },
  {
   "cell_type": "code",
   "execution_count": null,
   "id": "e424164b-a84a-44b7-8050-480d0c7f9233",
   "metadata": {},
   "outputs": [],
   "source": [
    "import seaborn as sns\n",
    "sns.set_theme(style=\"whitegrid\")\n",
    "plt.xticks(rotation=60)\n",
    "ax = sns.barplot( x=\"dist_goal\", y = \"goalRate\" , data = result)\n",
    "ax.set(xlabel='Shot Distance', ylabel='Goal Ratio')\n",
    "ax.get_figure().savefig(\"shot-dist-goal-ratio.png\")"
   ]
  },
  {
   "cell_type": "code",
   "execution_count": null,
   "id": "274a965e-8a46-45ae-947f-5078a21ed60c",
   "metadata": {},
   "outputs": [],
   "source": [
    "data3 = data3.dropna()\n",
    "minAng = int(data3[\"angle_goal\"].min())\n",
    "maxAng = int(data3[\"angle_goal\"].max())\n",
    "\n",
    "bins = list(range(minAng, maxAng + 20, 20))\n",
    "groups = data3.groupby( [ 'isGoal',  pd.cut( data3[\"angle_goal\"], bins )] )\n",
    "result = groups.size().unstack().T\n",
    "result"
   ]
  },
  {
   "cell_type": "code",
   "execution_count": null,
   "id": "ebcf2475-bd21-4238-96ba-29c7e16ab85c",
   "metadata": {},
   "outputs": [],
   "source": [
    "result[\"AngleGoalRate\"] = result.apply( lambda x : x[True] / (x.sum() + 1e-8), axis = 1, result_type='expand')\n",
    "result.reset_index(inplace=True)"
   ]
  },
  {
   "cell_type": "code",
   "execution_count": null,
   "id": "188142df-05b7-4198-a31d-fae25a4f840f",
   "metadata": {},
   "outputs": [],
   "source": [
    "result"
   ]
  },
  {
   "cell_type": "code",
   "execution_count": null,
   "id": "c6bc9c9e-1981-46fc-b0fb-f08362a0188a",
   "metadata": {},
   "outputs": [],
   "source": [
    "import seaborn as sns\n",
    "sns.set_theme(style=\"whitegrid\")\n",
    "plt.xticks(rotation=60)\n",
    "ax = sns.barplot( x=\"angle_goal\", y = \"AngleGoalRate\" , data = result)\n",
    "ax.set(xlabel='Shot Angle', ylabel='Goal Ratio')\n",
    "ax.get_figure().savefig(\"shot-angle-goal-ratio.png\")"
   ]
  },
  {
   "cell_type": "markdown",
   "id": "71aacb92-0103-46c3-975b-f3f69422281e",
   "metadata": {},
   "source": [
    "### Relate the goal rate, i.e. #goals / (#no_goals + #goals), to the angle of the shot."
   ]
  },
  {
   "cell_type": "code",
   "execution_count": null,
   "id": "d4664576-0ed6-4f57-bde7-a95fc3d6fd1c",
   "metadata": {},
   "outputs": [],
   "source": []
  },
  {
   "cell_type": "markdown",
   "id": "71c0b1d8-f7b7-4177-ae99-870fbdb2e29b",
   "metadata": {},
   "source": [
    "## ROUGH WORK BELOW THIS POINT"
   ]
  },
  {
   "cell_type": "code",
   "execution_count": null,
   "id": "3bdc54c8-3644-4be6-86e0-b72e8def67c4",
   "metadata": {},
   "outputs": [],
   "source": []
  },
  {
   "cell_type": "code",
   "execution_count": null,
   "id": "e2f9fa24-abf2-455f-bda3-c2d26e5dd8c3",
   "metadata": {},
   "outputs": [],
   "source": [
    "sns.scatterplot(data=df_2015, x='coordinates_x', y='coordinates_y')"
   ]
  },
  {
   "cell_type": "code",
   "execution_count": null,
   "id": "ad01941a-e508-4c02-88e2-c798b10f14e6",
   "metadata": {},
   "outputs": [],
   "source": [
    "# from ift6758.data.functions import fixCoOrdinates\n",
    "pd.set_option('max_columns', None)\n",
    "dfs_tidy = df_2015 \n",
    "\n",
    "# #convert to small image bin coordinates\n",
    "# dfs_tidy = dfs_tidy[dfs_tidy['coordinates_x'].notna()]#exclude na coordinates\n",
    "# dfs_tidy = dfs_tidy[dfs_tidy['coordinates_y'].notna()]#exclude na coordinates\n",
    "   \n",
    "# #fix and rotate coordinates to relative sides\n",
    "# #dfs_tidy_new = dfs_tidy.apply(fixCoOrdinates, axis=1, result_type=\"expand\")\n",
    "# #dfs_tidy.drop( dfs_tidy_new.columns, axis='columns', inplace=True )\n",
    "# #dfs_tidy = dfs_tidy.join(dfs_tidy_new)\n",
    "\n",
    "# dfs_tidy[['coordinates_x', 'coordinates_y']]\n",
    "\n",
    "#cords = \n",
    "#sns.scatterplot(data=cords, x='coordinates_x', y='coordinates_y')\n",
    "\n",
    "dfs_tidy[dfs_tidy['rebound']==True].head()"
   ]
  },
  {
   "cell_type": "code",
   "execution_count": null,
   "id": "9e307fd5-dea9-49a6-b395-1df31273fcd4",
   "metadata": {},
   "outputs": [],
   "source": [
    "periods = np.unique(dfs_tidy.period)\n",
    "periods"
   ]
  },
  {
   "cell_type": "code",
   "execution_count": null,
   "id": "bbd8c574-1c28-4e7a-a9dd-046c3d28f517",
   "metadata": {},
   "outputs": [],
   "source": [
    "teams = np.unique(dfs_tidy.teamInfo )\n",
    "teams"
   ]
  },
  {
   "cell_type": "code",
   "execution_count": null,
   "id": "e0c0d910-c501-48ab-9c13-70488a710e1c",
   "metadata": {},
   "outputs": [],
   "source": [
    "periods = np.unique(dfs_tidy.period)\n",
    "teams = np.unique(dfs_tidy.teamInfo )\n",
    "gameIds = np.unique(dfs_tidy.game_id )\n",
    "\n",
    "@widgets.interact(gameid=gameIds, period=periods, team=teams, goal=True)\n",
    "def update(gameid=\"2015020001\",  period = 1, team=\"Toronto Maple Leafs\", goal=True):\n",
    "    \"\"\"Remove old lines from plot and plot new one\"\"\"\n",
    "    img = mpimg.imread('figures/nhl_rink.png')\n",
    "    fig, ax = plt.subplots(figsize=(20, 8.5))\n",
    "    #fig = plt.figure( figsize=(20, 8.5))\n",
    "    ax.imshow(img, extent=[-100, 100, -42.5, 42.5])\n",
    "    [l.remove() for l in ax.lines]\n",
    "    plotDF = dfs_tidy[ (dfs_tidy.game_id == gameid) & (dfs_tidy.period == period) & (dfs_tidy.teamInfo == team) & (dfs_tidy.isGoal == goal)]\n",
    "    ax.plot( plotDF['coordinates_x'], plotDF['coordinates_y'], 'bo')\n"
   ]
  },
  {
   "cell_type": "code",
   "execution_count": null,
   "id": "8b0d3208-1438-4841-8ed8-16fb42d40746",
   "metadata": {},
   "outputs": [],
   "source": [
    "sns.scatterplot(data=dfs_tidy[:5], x='coordinates_x', y='coordinates_y')"
   ]
  },
  {
   "cell_type": "code",
   "execution_count": null,
   "id": "79665bb8-6aa0-4997-b320-a20166a98b65",
   "metadata": {},
   "outputs": [],
   "source": [
    "sns.scatterplot(data=df_2016, x='coordinates_x', y='coordinates_y')"
   ]
  },
  {
   "cell_type": "code",
   "execution_count": null,
   "id": "c6ca3fbc-96a2-4365-99b8-9f2f42b05c6d",
   "metadata": {},
   "outputs": [],
   "source": [
    "sns.scatterplot(data=df_2017, x='coordinates_x', y='coordinates_y')"
   ]
  },
  {
   "cell_type": "code",
   "execution_count": null,
   "id": "b1614ba1-43da-4257-8e21-1d9f0559d1d7",
   "metadata": {},
   "outputs": [],
   "source": [
    "df = df_2015.append(df_2016, ignore_index=True).append(df_2017, ignore_index=True).append(df_2018, ignore_index=True)#.dropna()\n",
    "\n",
    "data = df[[\"dist_goal\", \"isGoal\"]].dropna()"
   ]
  },
  {
   "cell_type": "code",
   "execution_count": null,
   "id": "2f3ae3d2-ae50-428c-8237-155ceffaed19",
   "metadata": {},
   "outputs": [],
   "source": [
    "print(df_2015.shape)\n",
    "print(df_2016.shape)\n",
    "print(df_2017.shape)\n",
    "print(df_2018.shape)\n",
    "print(data.shape)"
   ]
  },
  {
   "cell_type": "code",
   "execution_count": null,
   "id": "572b8c0e-98c1-4857-bbf3-a466de103983",
   "metadata": {},
   "outputs": [],
   "source": [
    "data.info()"
   ]
  },
  {
   "cell_type": "markdown",
   "id": "479bf5ff-0067-4136-a6f4-ede56134eb01",
   "metadata": {},
   "source": [
    "#### Using your training dataset create a tidied dataset for each SHOT event, with the following columns (you can name them however you want):\n",
    "* Distance from net\n",
    "* Angle from net\n",
    "* Is goal (0 or 1)\n",
    "* Empty Net (0 or 1; you can assume NaNs are 0)\n",
    "\n",
    "\n",
    "You can approximate the net as a single point (i.e. you don’t need to account for the width of the net when computing the distance or angle). \n",
    "\n",
    "You should be able to create this easily using the functionality you implemented for tidying data in Milestone 1, as you will only need the (x, y) coordinates for each shot event. \n"
   ]
  },
  {
   "cell_type": "code",
   "execution_count": null,
   "id": "c756552a-8dc3-4467-8567-802f24b393a6",
   "metadata": {},
   "outputs": [],
   "source": [
    "# opponent_coordinate = [-90,0]\n",
    "\n",
    "# playerXYCoordDF = df[[\"coordinates_x\",\"coordinates_y\"]]\n",
    "# playerXYCoordDF.head()\n",
    "\n",
    "# playerXY_DF = playerXYCoordDF.apply( lambda x : pd.Series( opponent_coordinate, index = ['opponent_x', 'opponent_y'] ), axis=1, result_type=\"expand\")\n",
    "# playerXY_DF.head()\n",
    "\n",
    "# playerXY_DF2 = playerXYCoordDF.join(playerXY_DF)\n",
    "\n",
    "# # playerXY_DF3 \n",
    "# df[\"Distance\"]  = playerXY_DF2.apply( lambda row : np.sqrt((row.opponent_x - row.coordinates_x)**2 +  row.coordinates_y**2) if (row.coordinates_x < 0) else np.sqrt((-row.opponent_x - row.coordinates_x)**2 + row.coordinates_y**2), axis=1 , result_type=\"expand\" )\n"
   ]
  },
  {
   "cell_type": "code",
   "execution_count": null,
   "id": "2eb7431d-c956-4db5-afc4-9bdcf8f5c1be",
   "metadata": {},
   "outputs": [],
   "source": [
    "df.head()"
   ]
  },
  {
   "cell_type": "markdown",
   "id": "ddb3a30d-52c8-44a6-a738-20b048c6ac22",
   "metadata": {},
   "source": [
    "Create and include the following figures in your blogpost and briefly discuss your observations (few sentences):\n",
    "\n",
    "* A histogram of shot counts (goals and no-goals separated), binned by distance\n",
    "* A histogram of shot counts (goals and no-goals separated), binned by angle\n",
    "* A 2D histogram where one axis is the distance and the other is the angle. You do not need to separate goals and no-goals.\n",
    " Hint: check out jointplots. \n",
    "*As always, make sure all of your axes are labeled correctly, and you make the appropriate choice of axis scale.\n"
   ]
  },
  {
   "cell_type": "code",
   "execution_count": null,
   "id": "4890434e-9373-4d00-9ec2-48cf885625b3",
   "metadata": {},
   "outputs": [],
   "source": [
    "import seaborn as sns\n",
    "#ax = sns.histplot( df[[\"dist_goal\"]], bins=20)\n",
    "ax = sns.histplot( data, x = \"dist_goal\", bins=20)"
   ]
  },
  {
   "cell_type": "code",
   "execution_count": null,
   "id": "de0d0203-94eb-4049-9fbf-1d8b04f56ba6",
   "metadata": {},
   "outputs": [],
   "source": [
    "ax = sns.histplot( data, x = \"dist_goal\", hue=\"isGoal\", bins=20)"
   ]
  },
  {
   "cell_type": "code",
   "execution_count": null,
   "id": "b3f23342-03fa-4db5-b4b5-f2d19ec27fce",
   "metadata": {},
   "outputs": [],
   "source": [
    "import plotly.express as px\n",
    "\n",
    "fig = px.histogram(data, x = \"dist_goal\", color = \"isGoal\", nbins=20, barmode=\"overlay\")\n",
    "fig.show()"
   ]
  },
  {
   "cell_type": "code",
   "execution_count": null,
   "id": "9cd4fa8b-abbf-4cbf-a1b7-84b6d9d9bb10",
   "metadata": {},
   "outputs": [],
   "source": [
    "data[data[\"isGoal\"] == False].dist_goal"
   ]
  },
  {
   "cell_type": "markdown",
   "id": "8339a5c6-c19d-4b5a-bd39-8292ae881f67",
   "metadata": {},
   "source": [
    "## 3. Baseline Models (15%)"
   ]
  },
  {
   "cell_type": "code",
   "execution_count": null,
   "id": "ef74b6e6",
   "metadata": {},
   "outputs": [],
   "source": [
    "from sklearn.model_selection import train_test_split\n",
    "from sklearn.linear_model import LogisticRegression\n",
    "from sklearn.metrics import f1_score, precision_score, recall_score, confusion_matrix\n",
    "from sklearn.metrics import roc_curve, auc\n",
    "from sklearn.metrics import roc_auc_score\n",
    "from sklearn.calibration import calibration_curve, CalibrationDisplay\n",
    "import matplotlib.pyplot as plt"
   ]
  },
  {
   "cell_type": "code",
   "execution_count": null,
   "id": "fe747119",
   "metadata": {},
   "outputs": [],
   "source": [
    "data_distance = df[[\"dist_goal\", \"isGoal\"]].dropna()\n",
    "data_angle = df[[\"angle_goal\", \"isGoal\"]].dropna()\n",
    "data_angle_distance = df[[\"dist_goal\",\"angle_goal\", \"isGoal\"]].dropna()\n",
    "X = data_distance[[\"dist_goal\"]]\n",
    "y = data_distance[\"isGoal\"].apply( lambda x : 1 if x else 0 )"
   ]
  },
  {
   "cell_type": "code",
   "execution_count": null,
   "id": "4ec85e36-5fc3-416c-b94f-78454623fa45",
   "metadata": {},
   "outputs": [],
   "source": [
    "def plot(fpr, tpr, roc_auc):\n",
    "    \n",
    "    plt.figure()\n",
    "    lw = 2\n",
    "    plt.plot(\n",
    "        fpr[0],\n",
    "        tpr[0],\n",
    "        color=\"darkorange\",\n",
    "        lw=lw,\n",
    "        label=\"ROC curve (area = %0.2f)\" % roc_auc[0],\n",
    "    )\n",
    "    plt.plot(\n",
    "        fpr[1],\n",
    "        tpr[1],\n",
    "        color=\"royalblue\",\n",
    "        lw=lw,\n",
    "        label=\"ROC curve (area = %0.2f)\" % roc_auc[1],\n",
    "    )\n",
    "    plt.plot(\n",
    "        fpr[2],\n",
    "        tpr[2],\n",
    "        color=\"darkgreen\",\n",
    "        lw=lw,\n",
    "        label=\"ROC curve (area = %0.2f)\" % roc_auc[2],\n",
    "    )\n",
    "    plt.plot(\n",
    "        fpr[3],\n",
    "        tpr[3],\n",
    "        color=\"black\",\n",
    "        lw=lw,\n",
    "        label=\"ROC curve (area = %0.2f)\" % roc_auc[3],\n",
    "    )\n",
    "    plt.plot([0, 1], [0, 1], color=\"navy\", lw=lw, linestyle=\"--\")\n",
    "    plt.xlim([0.0, 1.0])\n",
    "    plt.ylim([0.0, 1.05])\n",
    "    plt.xlabel(\"False Positive Rate\")\n",
    "    plt.ylabel(\"True Positive Rate\")\n",
    "    plt.title(\"Receiver operating characteristic example\")\n",
    "    plt.legend(loc=\"lower right\")\n",
    "    plt.show()"
   ]
  },
  {
   "cell_type": "code",
   "execution_count": null,
   "id": "85699657",
   "metadata": {},
   "outputs": [],
   "source": [
    "def calibration(y_test, y_labels, n_bins = 100):\n",
    "    plt.figure()\n",
    "    ax = plt.axes()\n",
    "    for y_true, y_pred in zip(y_test, y_labels):\n",
    "        disp = CalibrationDisplay.from_predictions(y_true, y_pred,n_bins=n_bins,ax=ax)"
   ]
  },
  {
   "cell_type": "code",
   "execution_count": null,
   "id": "b6a9c38f",
   "metadata": {},
   "outputs": [],
   "source": [
    "def goal_rate():\n",
    "    "
   ]
  },
  {
   "cell_type": "code",
   "execution_count": null,
   "id": "0e5c6cff",
   "metadata": {},
   "outputs": [],
   "source": [
    "def cumulative():"
   ]
  },
  {
   "cell_type": "code",
   "execution_count": null,
   "id": "3e9c4989-0235-4d9b-86cd-4ad93abbd09a",
   "metadata": {},
   "outputs": [],
   "source": [
    "X_train_d, X_test_d, y_train_d, y_test_d = train_test_split(X, y, test_size=0.33, random_state=42)"
   ]
  },
  {
   "cell_type": "code",
   "execution_count": null,
   "id": "a0343de8-c151-45bc-826c-317bd8af212e",
   "metadata": {},
   "outputs": [],
   "source": [
    "X.shape"
   ]
  },
  {
   "cell_type": "markdown",
   "id": "8ab8b98f-73a5-4ca0-af1c-7d962311820d",
   "metadata": {},
   "source": [
    "* Logistic Regression"
   ]
  },
  {
   "cell_type": "code",
   "execution_count": null,
   "id": "768edaca-d66e-4400-b1df-1c56abe8b19c",
   "metadata": {},
   "outputs": [],
   "source": [
    "y.shape"
   ]
  },
  {
   "cell_type": "code",
   "execution_count": null,
   "id": "ade19f14-bd4d-47dd-bc3e-2f185eed2864",
   "metadata": {},
   "outputs": [],
   "source": [
    "clf = LogisticRegression(random_state=0).fit(X_train_d, y_train_d)"
   ]
  },
  {
   "cell_type": "code",
   "execution_count": null,
   "id": "c4025245-e2ee-45da-81a4-4a2fd306a50c",
   "metadata": {},
   "outputs": [],
   "source": [
    "y_pred = clf.predict(X_test_d)"
   ]
  },
  {
   "cell_type": "code",
   "execution_count": null,
   "id": "17d06b03-ecc4-4fa1-a4cb-4dd38a85b222",
   "metadata": {},
   "outputs": [],
   "source": [
    "clf.predict_proba(X_test_d)"
   ]
  },
  {
   "cell_type": "code",
   "execution_count": null,
   "id": "303e4dc3-a4f5-4d8c-9aa7-5755f7f52771",
   "metadata": {},
   "outputs": [],
   "source": [
    "#clf.score(X_train, y_train)"
   ]
  },
  {
   "cell_type": "code",
   "execution_count": null,
   "id": "0c4f6b38-023a-4760-ad74-81f8dc87a2fb",
   "metadata": {},
   "outputs": [],
   "source": [
    "clf.score(X_test_d, y_test_d)"
   ]
  },
  {
   "cell_type": "code",
   "execution_count": null,
   "id": "8bcfa253",
   "metadata": {},
   "outputs": [],
   "source": [
    "prob_true_distance, prob_pred_distance = calibration_curve(y_test_d, clf.predict_proba(X_test_d)[:,1], n_bins=100)\n",
    "disp_distance = CalibrationDisplay(prob_true_distance, prob_pred_distance, clf.predict_proba(X_test_d)[:,1])\n",
    "disp_distance.plot()"
   ]
  },
  {
   "cell_type": "markdown",
   "id": "62803b57",
   "metadata": {},
   "source": [
    "#### TODO - 1) The goal rate (#goals / (#no_goals + #goals)) as a function of the shot probability model percentile, i.e. if a value is the 70th percentile, it is above 70% of the data. 2) #The cumulative proportion of goals (not shots) as a function of the shot probability model percentile.\n"
   ]
  },
  {
   "cell_type": "code",
   "execution_count": null,
   "id": "8b969860-71dd-41f4-89f4-6b61014414c2",
   "metadata": {},
   "outputs": [],
   "source": [
    "f1 = f1_score(y_test_d, y_pred)\n",
    "precision = precision_score(y_test_d, y_pred)\n",
    "recall = recall_score(y_test_d, y_pred)"
   ]
  },
  {
   "cell_type": "code",
   "execution_count": null,
   "id": "c8d45a6c-2c65-4d5e-9dbd-7b5e4d2ad64e",
   "metadata": {},
   "outputs": [],
   "source": [
    "metrics = {\"f1\":f1,\n",
    "\"recall\":recall,\n",
    "\"precision\":precision\n",
    "}\n",
    "\n",
    "experiment.log_dataset_hash(X_train)\n",
    "experiment.log_metrics(metrics)"
   ]
  },
  {
   "cell_type": "code",
   "execution_count": null,
   "id": "b3d1f245-ff95-42ef-961a-8a63da12e0a5",
   "metadata": {},
   "outputs": [],
   "source": [
    "experiment.end()"
   ]
  },
  {
   "cell_type": "markdown",
   "id": "f1743995",
   "metadata": {},
   "source": [
    "###### Logistic Regression, trained on angle only"
   ]
  },
  {
   "cell_type": "code",
   "execution_count": null,
   "id": "0cf1c9a1",
   "metadata": {},
   "outputs": [],
   "source": [
    "X_angle = data_angle[[\"angle_goal\"]]\n",
    "y_angle = data_angle[\"isGoal\"].apply( lambda x : 1 if x else 0 )"
   ]
  },
  {
   "cell_type": "code",
   "execution_count": null,
   "id": "e085944d",
   "metadata": {},
   "outputs": [],
   "source": [
    "X_train_a, X_test_a, y_train_a, y_test_a = train_test_split(X_angle, y_angle, test_size=0.33, random_state=42)"
   ]
  },
  {
   "cell_type": "code",
   "execution_count": null,
   "id": "092b61e6",
   "metadata": {},
   "outputs": [],
   "source": [
    "clf_angle = LogisticRegression(random_state=0).fit(X_train_a, y_train_a)"
   ]
  },
  {
   "cell_type": "code",
   "execution_count": null,
   "id": "2620fed4",
   "metadata": {},
   "outputs": [],
   "source": [
    "y_pred_angle = clf_angle.predict(X_test_a)"
   ]
  },
  {
   "cell_type": "code",
   "execution_count": null,
   "id": "3d0c3c2f",
   "metadata": {},
   "outputs": [],
   "source": [
    "clf_angle.predict_proba(X_test_a)"
   ]
  },
  {
   "cell_type": "code",
   "execution_count": null,
   "id": "df83d0a4",
   "metadata": {},
   "outputs": [],
   "source": [
    "clf_angle.score(X_test_a, y_test_a)"
   ]
  },
  {
   "cell_type": "code",
   "execution_count": null,
   "id": "0c44feca",
   "metadata": {},
   "outputs": [],
   "source": [
    "f1_angle = f1_score(y_test_a, y_pred_angle)\n",
    "precision_angle = precision_score(y_test_a, y_pred_angle)\n",
    "recall_angle = recall_score(y_test_a, y_pred_angle)"
   ]
  },
  {
   "cell_type": "code",
   "execution_count": null,
   "id": "9049be5e",
   "metadata": {},
   "outputs": [],
   "source": [
    "metrics = {\"f1\":f1_angle,\n",
    "\"recall\":recall_angle,\n",
    "\"precision\":precision_angle\n",
    "}\n",
    "\n",
    "experiment.log_dataset_hash(X_train)\n",
    "experiment.log_metrics(metrics)"
   ]
  },
  {
   "cell_type": "code",
   "execution_count": null,
   "id": "9b35dc0c",
   "metadata": {},
   "outputs": [],
   "source": [
    "prob_true_angle, prob_pred_angle = calibration_curve(y_test_a, clf_angle.predict_proba(X_test_a)[:,1], n_bins=300)\n",
    "disp_angle = CalibrationDisplay(prob_true_angle, prob_pred_angle, clf_angle.predict_proba(X_test_a)[:,1])\n",
    "disp_angle.plot()"
   ]
  },
  {
   "cell_type": "markdown",
   "id": "136b55a7",
   "metadata": {},
   "source": [
    "# Logistic Regression, trained on both distance and angle"
   ]
  },
  {
   "cell_type": "code",
   "execution_count": null,
   "id": "6459271d",
   "metadata": {},
   "outputs": [],
   "source": [
    "X_angle_distance = data_angle_distance[[\"dist_goal\",\"angle_goal\"]]\n",
    "y_angle_distance = data_angle_distance[\"isGoal\"].apply( lambda x : 1 if x else 0 )"
   ]
  },
  {
   "cell_type": "code",
   "execution_count": null,
   "id": "54f3331e",
   "metadata": {},
   "outputs": [],
   "source": [
    "X_train_ad, X_test_ad, y_train_ad, y_test_ad = train_test_split(X_angle_distance, y_angle_distance, test_size=0.33, random_state=42)"
   ]
  },
  {
   "cell_type": "code",
   "execution_count": null,
   "id": "d05f3775",
   "metadata": {},
   "outputs": [],
   "source": [
    "clf_angle_distance = LogisticRegression(random_state=0).fit(X_train_ad, y_train_ad)"
   ]
  },
  {
   "cell_type": "code",
   "execution_count": null,
   "id": "d90915bf",
   "metadata": {},
   "outputs": [],
   "source": [
    "y_pred_angle_distance = clf_angle_distance.predict(X_test_ad)"
   ]
  },
  {
   "cell_type": "code",
   "execution_count": null,
   "id": "93354132",
   "metadata": {},
   "outputs": [],
   "source": [
    "clf_angle_distance.score(X_test_ad, y_test_ad)"
   ]
  },
  {
   "cell_type": "code",
   "execution_count": null,
   "id": "3f50c19b",
   "metadata": {},
   "outputs": [],
   "source": [
    "f1_angle_distance = f1_score(y_test_ad, y_pred_angle_distance)\n",
    "precision_angle_distance = precision_score(y_test_ad, y_pred_angle_distance)\n",
    "recall_angle_distance = recall_score(y_test_ad, y_pred_angle_distance)"
   ]
  },
  {
   "cell_type": "code",
   "execution_count": null,
   "id": "cecd519c",
   "metadata": {},
   "outputs": [],
   "source": [
    "prob_true_angle_distance, prob_pred_angle_distance = calibration_curve(y_test_ad, clf_angle_distance.predict_proba(X_test_ad)[:,1], n_bins=300)\n",
    "disp_angle_d = CalibrationDisplay(prob_true_angle_distance, prob_pred_angle_distance, clf_angle_distance.predict_proba(X_test_ad)[:,1])\n",
    "disp_angle_d.plot()"
   ]
  },
  {
   "cell_type": "markdown",
   "id": "8568cda5",
   "metadata": {},
   "source": [
    "## Doing Random baseline: rather than training a classifier, the predicted probability is sampled from a uniform distribution, i.e. yiU(0,1)"
   ]
  },
  {
   "cell_type": "code",
   "execution_count": null,
   "id": "90216cdd",
   "metadata": {},
   "outputs": [],
   "source": [
    "one = np.random.uniform(low=0.0, high=1.0, size= X_test.shape[0])\n",
    "zero = 1 - one"
   ]
  },
  {
   "cell_type": "code",
   "execution_count": null,
   "id": "eff63050",
   "metadata": {},
   "outputs": [],
   "source": [
    "print(one.shape, zero.shape)"
   ]
  },
  {
   "cell_type": "code",
   "execution_count": null,
   "id": "c2435b68",
   "metadata": {},
   "outputs": [],
   "source": [
    "from sklearn.metrics import accuracy_score"
   ]
  },
  {
   "cell_type": "code",
   "execution_count": null,
   "id": "f9e1d28a",
   "metadata": {},
   "outputs": [],
   "source": [
    "print(zero)"
   ]
  },
  {
   "cell_type": "code",
   "execution_count": null,
   "id": "fc807a8e",
   "metadata": {},
   "outputs": [],
   "source": [
    "fpr_random, tpr_random, threshold_random = roc_curve(y_test, zero)\n",
    "roc_auc_random = auc(fpr_random, tpr_random)\n",
    "plot(fpr_random, tpr_random, roc_auc_random)"
   ]
  },
  {
   "cell_type": "code",
   "execution_count": null,
   "id": "6ab063cd",
   "metadata": {},
   "outputs": [],
   "source": [
    "prob_true_random, prob_pred_random = calibration_curve(y_test_a, one, n_bins=100)\n",
    "disp_angle_r = CalibrationDisplay(prob_true_random, prob_pred_random, zero)\n",
    "disp_angle_r.plot()"
   ]
  },
  {
   "cell_type": "code",
   "execution_count": null,
   "id": "3f08c04b",
   "metadata": {},
   "outputs": [],
   "source": [
    "plot([fpr_distance,fpr_angle, fpr_ad, fpr_random], [tpr_distance,tpr_angle,tpr_ad, tpr_random], [roc_auc_distance, roc_auc_angle, roc_auc_ad,roc_auc_random])"
   ]
  },
  {
   "cell_type": "code",
   "execution_count": null,
   "id": "214ce37e",
   "metadata": {},
   "outputs": [],
   "source": [
    "calibration([y_test_d,y_test_a,y_test_ad,y_test_a],[clf.predict_proba(X_test_d)[:,1], clf_angle.predict_proba(X_test_a)[:,1], clf_angle_distance.predict_proba(X_test_ad)[:,1], one], 300)\n",
    "            \n",
    "            "
   ]
  },
  {
   "cell_type": "markdown",
   "id": "ba1e7579-74cc-488a-a038-fd836627d7a6",
   "metadata": {},
   "source": [
    "## 4. Feature Engineering - II (20% + bonus 5%) "
   ]
  },
  {
   "cell_type": "code",
   "execution_count": null,
   "id": "77a3a030",
   "metadata": {},
   "outputs": [],
   "source": []
  },
  {
   "cell_type": "code",
   "execution_count": null,
   "id": "cd3d6dbd",
   "metadata": {},
   "outputs": [],
   "source": []
  },
  {
   "cell_type": "code",
   "execution_count": null,
   "id": "fa4dc77a",
   "metadata": {},
   "outputs": [],
   "source": []
  },
  {
   "cell_type": "code",
   "execution_count": null,
   "id": "9c75a9cb-66a8-45b6-a034-f7fe5863f810",
   "metadata": {},
   "outputs": [],
   "source": []
  },
  {
   "cell_type": "code",
   "execution_count": null,
   "id": "d248c0df-e437-4a70-ac79-cd195698e202",
   "metadata": {},
   "outputs": [],
   "source": []
  },
  {
   "cell_type": "markdown",
   "id": "92d7d7dc-75a4-4184-8d3d-b2d029f5ce3c",
   "metadata": {},
   "source": [
    "## 5. Advanced Models (20%)"
   ]
  },
  {
   "cell_type": "markdown",
   "id": "6b07ee95",
   "metadata": {},
   "source": [
    "### Now that we have many features to work with, let's see if this puts us ahead of our simple logistic regression models in part 3. We will be focusing on XGBoost models for this section; you will have free reign to try whatever you would like in the next section.\n",
    "\n",
    "#### Train an XGBoost classifier using the same dataset using only the distance and angle features (similar to part 3). Don’t worry about hyperparameter tuning yet, this will just serve as a comparison to the baseline before we add more features. Add the corresponding curves to the four figures in your blog post. Briefly (few sentences) discuss your training/validation setup, and compare the results to the Logistic Regression baseline. Include a link to the relevant comet.ml entry for this experiment, but you do not need to log this model to the model registry.\n"
   ]
  },
  {
   "cell_type": "code",
   "execution_count": null,
   "id": "6ff5c75b-9ee0-484c-b12f-ae4433fb70eb",
   "metadata": {},
   "outputs": [],
   "source": [
    "from xgboost import XGBClassifier   "
   ]
  },
  {
   "cell_type": "code",
   "execution_count": null,
   "id": "93b9ae7c",
   "metadata": {},
   "outputs": [],
   "source": [
    "xgb_clf = XGBClassifier()\n",
    "X_angle_distance_rf = data_angle_distance[[\"dist_goal\",\"angle_goal\"]]\n",
    "y_angle_distance_rf = data_angle_distance[\"isGoal\"].apply( lambda x : 1 if x else 0 )\n",
    "\n",
    "X_rf = X_angle_distance_rf.astype('float')\n",
    "y_rf = y_angle_distance_rf.astype('int')\n",
    "X_train_ad_rf, X_test_ad_rf, y_train_ad_rf, y_test_ad_rf = train_test_split(X_angle_distance_rf, y_angle_distance_rf, test_size=0.33, random_state=42)\n",
    "\n",
    "xgb_clf.fit(X_rf, y_rf )"
   ]
  },
  {
   "cell_type": "code",
   "execution_count": null,
   "id": "3ba7fabb",
   "metadata": {},
   "outputs": [],
   "source": [
    "y_pred_xg = xgb_clf.predict(X_test_ad_rf)"
   ]
  },
  {
   "cell_type": "code",
   "execution_count": null,
   "id": "b9fbf94d",
   "metadata": {},
   "outputs": [],
   "source": [
    "xgb_clf.predict_proba(X_test_ad_rf)"
   ]
  },
  {
   "cell_type": "code",
   "execution_count": null,
   "id": "fbbb12b6",
   "metadata": {},
   "outputs": [],
   "source": [
    "xgb_clf.score(X_test_ad_rf, y_test_ad_rf)"
   ]
  },
  {
   "cell_type": "code",
   "execution_count": null,
   "id": "0cd35a3e",
   "metadata": {},
   "outputs": [],
   "source": [
    "f1_ad_rf = f1_score(y_test_ad_rf, y_pred_xg)\n",
    "precision_angle_rf = precision_score(y_test_ad_rf, y_pred_xg)\n",
    "recall_angle_rf = recall_score(y_test_ad_rf, y_pred_xg)"
   ]
  },
  {
   "cell_type": "code",
   "execution_count": null,
   "id": "ae3b569f",
   "metadata": {},
   "outputs": [],
   "source": [
    "print(f1_ad_rf, precision_angle_rf, recall_angle_rf )"
   ]
  },
  {
   "cell_type": "code",
   "execution_count": null,
   "id": "7c3e3d48",
   "metadata": {},
   "outputs": [],
   "source": []
  },
  {
   "cell_type": "code",
   "execution_count": null,
   "id": "7be4547e",
   "metadata": {},
   "outputs": [],
   "source": []
  },
  {
   "cell_type": "markdown",
   "id": "fc7a4c9e",
   "metadata": {},
   "source": [
    "#### Now, train an XGBoost classifier using all of the features you created in Part 4 and do some hyperparameter tuning to try to find the best performing model with all of these features. In your blog post, discuss your hyperparameter tuning setup, and include figures to substantiate your choice of hyperparameters. For example, you could select appropriate metrics and do a grid search with cross validation. Once tuned, include curves corresponding to the best model to the four figures in your blog post, and briefly compare the results to the XGBoost baseline. Include a link to the relevant comet.ml entry for this experiment, and log this model to the model registry.\n",
    " "
   ]
  },
  {
   "cell_type": "code",
   "execution_count": null,
   "id": "662222be",
   "metadata": {},
   "outputs": [],
   "source": [
    "data_xgboost = df\n",
    "data_xgboost.head(5)"
   ]
  },
  {
   "cell_type": "code",
   "execution_count": null,
   "id": "f7e10423",
   "metadata": {},
   "outputs": [],
   "source": [
    "data_xgboost.dtypes"
   ]
  },
  {
   "cell_type": "code",
   "execution_count": null,
   "id": "dba6a14c",
   "metadata": {},
   "outputs": [],
   "source": [
    "# Changing categorical \n",
    "data_xgboost = data_xgboost.dropna()\n",
    "data_xgboost[\"rebound\"] = data_xgboost[\"rebound\"].apply( lambda x : 1 if x else 0 )\n",
    "\n",
    "X_xg = data_xgboost[[\"periodSeconds\", \"period\", \"coordinates_x\", \"coordinates_y\",\"dist_goal\", \"angle_goal\", \"shotType\", \"eventType_last\", \"coordinates_x_last\",\"coordinates_y_last\", \"distance_last\",\"periodSeconds_last\",\"rebound\",\"angle_change\",\"speed\" ]]\n",
    "y_xg = data_xgboost[\"isGoal\"].apply( lambda x : 1 if x else 0 )\n",
    "\n",
    "\n"
   ]
  },
  {
   "cell_type": "code",
   "execution_count": null,
   "id": "43fc4a89",
   "metadata": {},
   "outputs": [],
   "source": [
    "X_xg"
   ]
  },
  {
   "cell_type": "code",
   "execution_count": null,
   "id": "054be11f",
   "metadata": {},
   "outputs": [],
   "source": [
    "X_xg.isna().sum()"
   ]
  },
  {
   "cell_type": "code",
   "execution_count": null,
   "id": "ae18712b",
   "metadata": {},
   "outputs": [],
   "source": [
    "df = pd.get_dummies(X_xg[[\"shotType\", \"eventType_last\"]])\n",
    "df"
   ]
  },
  {
   "cell_type": "code",
   "execution_count": null,
   "id": "0f5d57ef",
   "metadata": {},
   "outputs": [],
   "source": []
  },
  {
   "cell_type": "code",
   "execution_count": null,
   "id": "2c189f4b",
   "metadata": {},
   "outputs": [],
   "source": [
    "X_xg_new = pd.concat([X_xg,df], axis = 1)"
   ]
  },
  {
   "cell_type": "code",
   "execution_count": null,
   "id": "9854cd09",
   "metadata": {},
   "outputs": [],
   "source": []
  },
  {
   "cell_type": "code",
   "execution_count": null,
   "id": "1fb800c9",
   "metadata": {},
   "outputs": [],
   "source": [
    "X_xg_new"
   ]
  },
  {
   "cell_type": "code",
   "execution_count": null,
   "id": "82f3cf9c",
   "metadata": {},
   "outputs": [],
   "source": [
    "X_xg_new_1 = X_xg_new.drop(['shotType', 'eventType_last'], axis = 1)"
   ]
  },
  {
   "cell_type": "code",
   "execution_count": null,
   "id": "0ca55625",
   "metadata": {},
   "outputs": [],
   "source": [
    "X_xg = X_xg_new_1.astype('float')\n",
    "y_xg = y_xg.astype('int')"
   ]
  },
  {
   "cell_type": "code",
   "execution_count": null,
   "id": "fa4c785f",
   "metadata": {},
   "outputs": [],
   "source": [
    "X_train_xg, X_test_xg, y_train_xg, y_test_xg = train_test_split(X_xg, y_xg, test_size=0.33, random_state=42)"
   ]
  },
  {
   "cell_type": "code",
   "execution_count": null,
   "id": "7a104a8e",
   "metadata": {},
   "outputs": [],
   "source": [
    "xgb_xg_new = XGBClassifier()"
   ]
  },
  {
   "cell_type": "code",
   "execution_count": null,
   "id": "c6b3a2a3",
   "metadata": {},
   "outputs": [],
   "source": [
    "xgb_xg_new.fit(X_train_xg,y_train_xg)"
   ]
  },
  {
   "cell_type": "code",
   "execution_count": null,
   "id": "b48b10bc",
   "metadata": {},
   "outputs": [],
   "source": [
    "y_pred_xg_1 = xgb_xg_new.predict(X_test_xg)"
   ]
  },
  {
   "cell_type": "code",
   "execution_count": null,
   "id": "face01f0",
   "metadata": {},
   "outputs": [],
   "source": [
    "xgb_xg_new.score(X_test_xg, y_test_xg)"
   ]
  },
  {
   "cell_type": "code",
   "execution_count": null,
   "id": "7bb28f06",
   "metadata": {},
   "outputs": [],
   "source": [
    "from sklearn.metrics import classification_report"
   ]
  },
  {
   "cell_type": "code",
   "execution_count": null,
   "id": "850621fb",
   "metadata": {},
   "outputs": [],
   "source": [
    "print(classification_report(y_test_xg, y_pred_xg_1))"
   ]
  },
  {
   "cell_type": "markdown",
   "id": "fded8014-4d75-4986-b03f-161b12a23c0d",
   "metadata": {},
   "source": [
    "## 6. Give it your best shot! (25%)\n",
    "ruff draft\n",
    "final model selection and evaluation are from q6_..py files"
   ]
  },
  {
   "cell_type": "code",
   "execution_count": null,
   "id": "c1f9614e",
   "metadata": {},
   "outputs": [],
   "source": [
    "#import model tracking\n",
    "import comet_ml\n",
    "comet_ml.init()\n",
    "\n",
    "from comet_ml import Experiment\n",
    "experiment = Experiment(\n",
    "    project_name=\"milestone-2\",\n",
    "    workspace=\"binulal\",\n",
    ")\n",
    "\n",
    "#imports\n",
    "from ift6758.data.functions import loadstats\n",
    "from ift6758.data.functions import pre_process\n",
    "from ift6758.data.tidyData_adv import tidyData_adv\n",
    "\n",
    "import matplotlib.pyplot as plt\n",
    "import matplotlib.image as mpimg\n",
    "import ipywidgets as widgets\n",
    "from IPython.display import display\n",
    "import plotly.express as px\n",
    "import pandas as pd\n",
    "import json\n",
    "import numpy as np\n",
    "import pickle\n",
    "\n",
    "\n",
    "# for auto-reloading extenrnal modules\n",
    "# see http://stackoverflow.com/questions/1907993/autoreload-of-modules-in-ipython\n",
    "%load_ext autoreload\n",
    "%autoreload 2\n",
    "\n",
    "pd.set_option('display.max_columns', 200)\n",
    "pd.set_option('display.max_rows', 100)\n",
    "pd.set_option('display.min_rows', 100)\n",
    "pd.set_option('display.expand_frame_repr', True)"
   ]
  },
  {
   "cell_type": "markdown",
   "id": "780d20d2",
   "metadata": {},
   "source": [
    "### load tidydata"
   ]
  },
  {
   "cell_type": "code",
   "execution_count": null,
   "id": "3d1746cb",
   "metadata": {},
   "outputs": [
    {
     "name": "stdout",
     "output_type": "stream",
     "text": [
      "Error code: 404 at gameID:2015021231. Game not found.\n",
      "size of data in regular season: 1230\n",
      "Error code: 404 at gameID:2015030126. Game not found.\n",
      "Error code: 404 at gameID:2015030137. Game not found.\n",
      "Error code: 404 at gameID:2015030146. Game not found.\n",
      "Error code: 404 at gameID:2015030157. Game not found.\n",
      "Error code: 404 at gameID:2015030187. Game not found.\n",
      "Error code: 404 at gameID:2015030216. Game not found.\n",
      "Error code: 404 at gameID:2015030417. Game not found.\n",
      "size of data in regular season & playoffs: 1325\n",
      "Error code: 404 at gameID:2016021231. Game not found.\n",
      "size of data in regular season: 1230\n",
      "Error code: 404 at gameID:2016030147. Game not found.\n",
      "Error code: 404 at gameID:2016030176. Game not found.\n",
      "size of data in regular season & playoffs: 1332\n",
      "size of data in regular season: 1271\n",
      "size of data in regular season & playoffs: 1376\n",
      "size of data in regular season: 1271\n",
      "size of data in regular season & playoffs: 1376\n",
      "size of data in regular season: 1271\n",
      "Error code: 404 at gameID:2019030007. Game not found.\n",
      "Error code: 404 at gameID:2019030017. Game not found.\n",
      "Error code: 404 at gameID:2019030026. Game not found.\n",
      "Error code: 404 at gameID:2019030036. Game not found.\n",
      "Error code: 404 at gameID:2019030046. Game not found.\n",
      "Error code: 404 at gameID:2019030056. Game not found.\n",
      "Error code: 404 at gameID:2019030066. Game not found.\n",
      "Error code: 404 at gameID:2019030076. Game not found.\n",
      "Error code: 404 at gameID:2019030086. Game not found.\n",
      "Error code: 404 at gameID:2019030096. Game not found.\n",
      "size of data in regular season & playoffs: 1428\n"
     ]
    }
   ],
   "source": [
    "\n",
    "#preload and download from web if not acquired (set to false to download all data)\n",
    "downloaded = True\n",
    "if not downloaded:\n",
    "    datayear = 2016\n",
    "    while datayear <= 2020:\n",
    "        loadstats(datayear,'./data/')\n",
    "        datayear += 1\n",
    "    \n",
    "#outputs games that aren't played up to 7 in playoffs or max games in regular season\n",
    "\n",
    "dfs_2015 = loadstats(2015,'./data/')\n",
    "df_2015 = tidyData_adv(dfs_2015)\n",
    "\n",
    "dfs_2016 = loadstats(2016,'./data/')\n",
    "df_2016 = tidyData_adv(dfs_2016)\n",
    "\n",
    "dfs_2017 = loadstats(2017,'./data/')\n",
    "df_2017 = tidyData_adv(dfs_2017)\n",
    "\n",
    "dfs_2018 = loadstats(2018,'./data/')\n",
    "df_2018 = tidyData_adv(dfs_2018)\n",
    "\n",
    "dfs_2019 = loadstats(2019,'./data/')\n",
    "df_test = tidyData_adv(dfs_2019)\n",
    "\n",
    "df_train = df_2015.append(df_2016, ignore_index=True).append(df_2017, ignore_index=True).append(df_2018, ignore_index=True)\n",
    "\n",
    "#save pre_process train/test\n",
    "pickle.dump(df_train,open(\"./data/data_train_tidy.pickle\",\"wb\"))\n",
    "pickle.dump(df_test,open(\"./data/data_test_tidy.pickle\",\"wb\"))\n",
    "\n",
    "#load tidydata\n",
    "# df_train = pickle.load( open(\"./data/data_train_tidy.pickle\",'rb'))\n",
    "# df_test = pickle.load( open(\"./data/data_test_tidy.pickle\",\"rb\"))\n",
    "\n",
    "\n"
   ]
  },
  {
   "cell_type": "code",
   "execution_count": null,
   "id": "b1e3e025",
   "metadata": {},
   "outputs": [],
   "source": [
    "df_train.isnull().sum()"
   ]
  },
  {
   "cell_type": "markdown",
   "id": "65364a1e",
   "metadata": {},
   "source": [
    "### preprocess"
   ]
  },
  {
   "cell_type": "code",
   "execution_count": null,
   "id": "b2a2ae05",
   "metadata": {},
   "outputs": [],
   "source": [
    "#preprocess with 100+ features\n",
    "df_train['train']=1\n",
    "df_test['train']=0\n",
    "df_all = df_train.append(df_test, ignore_index=True)\n",
    "df_nonull = pre_process(df_all)\n",
    "df_train = df_nonull[df_nonull.train == 1]\n",
    "df_test = df_nonull[df_nonull.train == 0]\n",
    "#df_test.reset_index(drop=True, inplace=True)?\n",
    "\n",
    "#save pre_process train/test\n",
    "pickle.dump(df_train,open(\"./data/data_train_prep.pickle\",\"wb\"))\n",
    "pickle.dump(df_test,open(\"./data/data_test_prep.pickle\",\"wb\"))"
   ]
  },
  {
   "cell_type": "code",
   "execution_count": null,
   "id": "3217e49a",
   "metadata": {},
   "outputs": [],
   "source": [
    "# #preprocess with 1000+ features\n",
    "# df_train['train']=1\n",
    "# df_test['train']=0\n",
    "# df_all = df_train.append(df_test, ignore_index=True)\n",
    "# df_nonull = pre_process(df_all,hd=True)\n",
    "# df_train = df_nonull[df_nonull.train == 1]\n",
    "# df_test = df_nonull[df_nonull.train == 0]\n",
    "\n",
    "# #save pre_process train/test\n",
    "# pickle.dump(df_train,open(\"./data/data_train_prepHD.pickle\",\"wb\"))\n",
    "# pickle.dump(df_test,open(\"./data/data_test_prepHD.pickle\",\"wb\"))"
   ]
  },
  {
   "cell_type": "markdown",
   "id": "1bf3e0d3",
   "metadata": {},
   "source": [
    "### load data"
   ]
  },
  {
   "cell_type": "code",
   "execution_count": null,
   "id": "0578df87",
   "metadata": {},
   "outputs": [],
   "source": [
    "#load preprocessed data 100 features\n",
    "df_train = pickle.load( open(\"./data/data_train_prep.pickle\",'rb'))\n",
    "df_test = pickle.load( open(\"./data/data_test_prep.pickle\",\"rb\"))"
   ]
  },
  {
   "cell_type": "code",
   "execution_count": null,
   "id": "1156bd0a",
   "metadata": {},
   "outputs": [
    {
     "data": {
      "text/html": [
       "<div>\n",
       "<style scoped>\n",
       "    .dataframe tbody tr th:only-of-type {\n",
       "        vertical-align: middle;\n",
       "    }\n",
       "\n",
       "    .dataframe tbody tr th {\n",
       "        vertical-align: top;\n",
       "    }\n",
       "\n",
       "    .dataframe thead th {\n",
       "        text-align: right;\n",
       "    }\n",
       "</style>\n",
       "<table border=\"1\" class=\"dataframe\">\n",
       "  <thead>\n",
       "    <tr style=\"text-align: right;\">\n",
       "      <th></th>\n",
       "      <th>speed</th>\n",
       "      <th>periodSeconds_last</th>\n",
       "      <th>rebound</th>\n",
       "      <th>period</th>\n",
       "      <th>periodSeconds</th>\n",
       "      <th>isGoal</th>\n",
       "      <th>coordinates_x</th>\n",
       "      <th>coordinates_y</th>\n",
       "      <th>coordinates_x_last</th>\n",
       "      <th>coordinates_y_last</th>\n",
       "      <th>distance_last</th>\n",
       "      <th>dist_goal</th>\n",
       "      <th>angle_goal</th>\n",
       "      <th>angle_change</th>\n",
       "      <th>emptyNet</th>\n",
       "      <th>homeSide</th>\n",
       "      <th>train</th>\n",
       "      <th>periodType_OVERTIME</th>\n",
       "      <th>periodType_REGULAR</th>\n",
       "      <th>periodType_SHOOTOUT</th>\n",
       "      <th>eventType_last_BLOCKED_SHOT</th>\n",
       "      <th>eventType_last_FACEOFF</th>\n",
       "      <th>eventType_last_GIVEAWAY</th>\n",
       "      <th>eventType_last_GOAL</th>\n",
       "      <th>eventType_last_HIT</th>\n",
       "      <th>eventType_last_MISSED_SHOT</th>\n",
       "      <th>eventType_last_PENALTY</th>\n",
       "      <th>eventType_last_SHOT</th>\n",
       "      <th>eventType_last_TAKEAWAY</th>\n",
       "      <th>teamInfo_Anaheim Ducks</th>\n",
       "      <th>teamInfo_Arizona Coyotes</th>\n",
       "      <th>teamInfo_Boston Bruins</th>\n",
       "      <th>teamInfo_Buffalo Sabres</th>\n",
       "      <th>teamInfo_Calgary Flames</th>\n",
       "      <th>teamInfo_Carolina Hurricanes</th>\n",
       "      <th>teamInfo_Chicago Blackhawks</th>\n",
       "      <th>teamInfo_Colorado Avalanche</th>\n",
       "      <th>teamInfo_Columbus Blue Jackets</th>\n",
       "      <th>teamInfo_Dallas Stars</th>\n",
       "      <th>teamInfo_Detroit Red Wings</th>\n",
       "      <th>teamInfo_Edmonton Oilers</th>\n",
       "      <th>teamInfo_Florida Panthers</th>\n",
       "      <th>teamInfo_Los Angeles Kings</th>\n",
       "      <th>teamInfo_Minnesota Wild</th>\n",
       "      <th>teamInfo_Montréal Canadiens</th>\n",
       "      <th>teamInfo_Nashville Predators</th>\n",
       "      <th>teamInfo_New Jersey Devils</th>\n",
       "      <th>teamInfo_New York Islanders</th>\n",
       "      <th>teamInfo_New York Rangers</th>\n",
       "      <th>teamInfo_Ottawa Senators</th>\n",
       "      <th>teamInfo_Philadelphia Flyers</th>\n",
       "      <th>teamInfo_Pittsburgh Penguins</th>\n",
       "      <th>teamInfo_San Jose Sharks</th>\n",
       "      <th>teamInfo_St. Louis Blues</th>\n",
       "      <th>teamInfo_Tampa Bay Lightning</th>\n",
       "      <th>teamInfo_Toronto Maple Leafs</th>\n",
       "      <th>teamInfo_Vancouver Canucks</th>\n",
       "      <th>teamInfo_Vegas Golden Knights</th>\n",
       "      <th>teamInfo_Washington Capitals</th>\n",
       "      <th>teamInfo_Winnipeg Jets</th>\n",
       "      <th>shotType_Backhand</th>\n",
       "      <th>shotType_Deflected</th>\n",
       "      <th>shotType_Slap Shot</th>\n",
       "      <th>shotType_Snap Shot</th>\n",
       "      <th>shotType_Tip-In</th>\n",
       "      <th>shotType_Wrap-around</th>\n",
       "      <th>shotType_Wrist Shot</th>\n",
       "      <th>homeTeam_Anaheim Ducks</th>\n",
       "      <th>homeTeam_Arizona Coyotes</th>\n",
       "      <th>homeTeam_Boston Bruins</th>\n",
       "      <th>homeTeam_Buffalo Sabres</th>\n",
       "      <th>homeTeam_Calgary Flames</th>\n",
       "      <th>homeTeam_Carolina Hurricanes</th>\n",
       "      <th>homeTeam_Chicago Blackhawks</th>\n",
       "      <th>homeTeam_Colorado Avalanche</th>\n",
       "      <th>homeTeam_Columbus Blue Jackets</th>\n",
       "      <th>homeTeam_Dallas Stars</th>\n",
       "      <th>homeTeam_Detroit Red Wings</th>\n",
       "      <th>homeTeam_Edmonton Oilers</th>\n",
       "      <th>homeTeam_Florida Panthers</th>\n",
       "      <th>homeTeam_Los Angeles Kings</th>\n",
       "      <th>homeTeam_Minnesota Wild</th>\n",
       "      <th>homeTeam_Montréal Canadiens</th>\n",
       "      <th>homeTeam_Nashville Predators</th>\n",
       "      <th>homeTeam_New Jersey Devils</th>\n",
       "      <th>homeTeam_New York Islanders</th>\n",
       "      <th>homeTeam_New York Rangers</th>\n",
       "      <th>homeTeam_Ottawa Senators</th>\n",
       "      <th>homeTeam_Philadelphia Flyers</th>\n",
       "      <th>homeTeam_Pittsburgh Penguins</th>\n",
       "      <th>homeTeam_San Jose Sharks</th>\n",
       "      <th>homeTeam_St. Louis Blues</th>\n",
       "      <th>homeTeam_Tampa Bay Lightning</th>\n",
       "      <th>homeTeam_Toronto Maple Leafs</th>\n",
       "      <th>homeTeam_Vancouver Canucks</th>\n",
       "      <th>homeTeam_Washington Capitals</th>\n",
       "      <th>homeTeam_Winnipeg Jets</th>\n",
       "      <th>awayTeam_Anaheim Ducks</th>\n",
       "      <th>awayTeam_Arizona Coyotes</th>\n",
       "      <th>awayTeam_Boston Bruins</th>\n",
       "      <th>awayTeam_Buffalo Sabres</th>\n",
       "      <th>awayTeam_Calgary Flames</th>\n",
       "      <th>awayTeam_Carolina Hurricanes</th>\n",
       "      <th>awayTeam_Chicago Blackhawks</th>\n",
       "      <th>awayTeam_Colorado Avalanche</th>\n",
       "      <th>awayTeam_Columbus Blue Jackets</th>\n",
       "      <th>awayTeam_Dallas Stars</th>\n",
       "      <th>awayTeam_Detroit Red Wings</th>\n",
       "      <th>awayTeam_Edmonton Oilers</th>\n",
       "      <th>awayTeam_Florida Panthers</th>\n",
       "      <th>awayTeam_Los Angeles Kings</th>\n",
       "      <th>awayTeam_Minnesota Wild</th>\n",
       "      <th>awayTeam_Montréal Canadiens</th>\n",
       "      <th>awayTeam_Nashville Predators</th>\n",
       "      <th>awayTeam_New Jersey Devils</th>\n",
       "      <th>awayTeam_New York Islanders</th>\n",
       "      <th>awayTeam_New York Rangers</th>\n",
       "      <th>awayTeam_Ottawa Senators</th>\n",
       "      <th>awayTeam_Philadelphia Flyers</th>\n",
       "      <th>awayTeam_Pittsburgh Penguins</th>\n",
       "      <th>awayTeam_San Jose Sharks</th>\n",
       "      <th>awayTeam_St. Louis Blues</th>\n",
       "      <th>awayTeam_Tampa Bay Lightning</th>\n",
       "      <th>awayTeam_Toronto Maple Leafs</th>\n",
       "      <th>awayTeam_Vancouver Canucks</th>\n",
       "      <th>awayTeam_Vegas Golden Knights</th>\n",
       "      <th>awayTeam_Washington Capitals</th>\n",
       "      <th>awayTeam_Winnipeg Jets</th>\n",
       "    </tr>\n",
       "  </thead>\n",
       "  <tbody>\n",
       "    <tr>\n",
       "      <th>0</th>\n",
       "      <td>14.025066</td>\n",
       "      <td>11.0</td>\n",
       "      <td>0.0</td>\n",
       "      <td>1</td>\n",
       "      <td>51.0</td>\n",
       "      <td>0.0</td>\n",
       "      <td>-55.0</td>\n",
       "      <td>6.0</td>\n",
       "      <td>94.0</td>\n",
       "      <td>-34.0</td>\n",
       "      <td>154.275727</td>\n",
       "      <td>35.510562</td>\n",
       "      <td>-9.727579</td>\n",
       "      <td>0.0</td>\n",
       "      <td>0.0</td>\n",
       "      <td>0.0</td>\n",
       "      <td>1</td>\n",
       "      <td>0</td>\n",
       "      <td>1</td>\n",
       "      <td>0</td>\n",
       "      <td>0</td>\n",
       "      <td>0</td>\n",
       "      <td>0</td>\n",
       "      <td>0</td>\n",
       "      <td>1</td>\n",
       "      <td>0</td>\n",
       "      <td>0</td>\n",
       "      <td>0</td>\n",
       "      <td>0</td>\n",
       "      <td>0</td>\n",
       "      <td>0</td>\n",
       "      <td>0</td>\n",
       "      <td>0</td>\n",
       "      <td>0</td>\n",
       "      <td>0</td>\n",
       "      <td>0</td>\n",
       "      <td>0</td>\n",
       "      <td>0</td>\n",
       "      <td>0</td>\n",
       "      <td>0</td>\n",
       "      <td>0</td>\n",
       "      <td>0</td>\n",
       "      <td>0</td>\n",
       "      <td>0</td>\n",
       "      <td>0</td>\n",
       "      <td>0</td>\n",
       "      <td>0</td>\n",
       "      <td>0</td>\n",
       "      <td>0</td>\n",
       "      <td>0</td>\n",
       "      <td>0</td>\n",
       "      <td>0</td>\n",
       "      <td>0</td>\n",
       "      <td>0</td>\n",
       "      <td>0</td>\n",
       "      <td>1</td>\n",
       "      <td>0</td>\n",
       "      <td>0</td>\n",
       "      <td>0</td>\n",
       "      <td>0</td>\n",
       "      <td>0</td>\n",
       "      <td>0</td>\n",
       "      <td>0</td>\n",
       "      <td>0</td>\n",
       "      <td>0</td>\n",
       "      <td>0</td>\n",
       "      <td>1</td>\n",
       "      <td>0</td>\n",
       "      <td>0</td>\n",
       "      <td>0</td>\n",
       "      <td>0</td>\n",
       "      <td>0</td>\n",
       "      <td>0</td>\n",
       "      <td>0</td>\n",
       "      <td>0</td>\n",
       "      <td>0</td>\n",
       "      <td>0</td>\n",
       "      <td>0</td>\n",
       "      <td>0</td>\n",
       "      <td>0</td>\n",
       "      <td>0</td>\n",
       "      <td>0</td>\n",
       "      <td>0</td>\n",
       "      <td>0</td>\n",
       "      <td>0</td>\n",
       "      <td>0</td>\n",
       "      <td>0</td>\n",
       "      <td>0</td>\n",
       "      <td>0</td>\n",
       "      <td>0</td>\n",
       "      <td>0</td>\n",
       "      <td>0</td>\n",
       "      <td>0</td>\n",
       "      <td>1</td>\n",
       "      <td>0</td>\n",
       "      <td>0</td>\n",
       "      <td>0</td>\n",
       "      <td>0</td>\n",
       "      <td>0</td>\n",
       "      <td>0</td>\n",
       "      <td>0</td>\n",
       "      <td>0</td>\n",
       "      <td>0</td>\n",
       "      <td>0</td>\n",
       "      <td>0</td>\n",
       "      <td>0</td>\n",
       "      <td>0</td>\n",
       "      <td>0</td>\n",
       "      <td>0</td>\n",
       "      <td>0</td>\n",
       "      <td>0</td>\n",
       "      <td>0</td>\n",
       "      <td>1</td>\n",
       "      <td>0</td>\n",
       "      <td>0</td>\n",
       "      <td>0</td>\n",
       "      <td>0</td>\n",
       "      <td>0</td>\n",
       "      <td>0</td>\n",
       "      <td>0</td>\n",
       "      <td>0</td>\n",
       "      <td>0</td>\n",
       "      <td>0</td>\n",
       "      <td>0</td>\n",
       "      <td>0</td>\n",
       "      <td>0</td>\n",
       "      <td>0</td>\n",
       "      <td>0</td>\n",
       "    </tr>\n",
       "    <tr>\n",
       "      <th>1</th>\n",
       "      <td>7.211103</td>\n",
       "      <td>7.0</td>\n",
       "      <td>0.0</td>\n",
       "      <td>1</td>\n",
       "      <td>65.0</td>\n",
       "      <td>0.0</td>\n",
       "      <td>-79.0</td>\n",
       "      <td>0.0</td>\n",
       "      <td>-37.0</td>\n",
       "      <td>-28.0</td>\n",
       "      <td>50.477718</td>\n",
       "      <td>11.0</td>\n",
       "      <td>-0.0</td>\n",
       "      <td>0.0</td>\n",
       "      <td>0.0</td>\n",
       "      <td>0.0</td>\n",
       "      <td>1</td>\n",
       "      <td>0</td>\n",
       "      <td>1</td>\n",
       "      <td>0</td>\n",
       "      <td>0</td>\n",
       "      <td>0</td>\n",
       "      <td>1</td>\n",
       "      <td>0</td>\n",
       "      <td>0</td>\n",
       "      <td>0</td>\n",
       "      <td>0</td>\n",
       "      <td>0</td>\n",
       "      <td>0</td>\n",
       "      <td>0</td>\n",
       "      <td>0</td>\n",
       "      <td>0</td>\n",
       "      <td>0</td>\n",
       "      <td>0</td>\n",
       "      <td>0</td>\n",
       "      <td>0</td>\n",
       "      <td>0</td>\n",
       "      <td>0</td>\n",
       "      <td>0</td>\n",
       "      <td>0</td>\n",
       "      <td>0</td>\n",
       "      <td>0</td>\n",
       "      <td>0</td>\n",
       "      <td>0</td>\n",
       "      <td>0</td>\n",
       "      <td>0</td>\n",
       "      <td>0</td>\n",
       "      <td>0</td>\n",
       "      <td>0</td>\n",
       "      <td>0</td>\n",
       "      <td>0</td>\n",
       "      <td>0</td>\n",
       "      <td>0</td>\n",
       "      <td>0</td>\n",
       "      <td>0</td>\n",
       "      <td>1</td>\n",
       "      <td>0</td>\n",
       "      <td>0</td>\n",
       "      <td>0</td>\n",
       "      <td>0</td>\n",
       "      <td>0</td>\n",
       "      <td>0</td>\n",
       "      <td>0</td>\n",
       "      <td>1</td>\n",
       "      <td>0</td>\n",
       "      <td>0</td>\n",
       "      <td>0</td>\n",
       "      <td>0</td>\n",
       "      <td>0</td>\n",
       "      <td>0</td>\n",
       "      <td>0</td>\n",
       "      <td>0</td>\n",
       "      <td>0</td>\n",
       "      <td>0</td>\n",
       "      <td>0</td>\n",
       "      <td>0</td>\n",
       "      <td>0</td>\n",
       "      <td>0</td>\n",
       "      <td>0</td>\n",
       "      <td>0</td>\n",
       "      <td>0</td>\n",
       "      <td>0</td>\n",
       "      <td>0</td>\n",
       "      <td>0</td>\n",
       "      <td>0</td>\n",
       "      <td>0</td>\n",
       "      <td>0</td>\n",
       "      <td>0</td>\n",
       "      <td>0</td>\n",
       "      <td>0</td>\n",
       "      <td>0</td>\n",
       "      <td>0</td>\n",
       "      <td>0</td>\n",
       "      <td>1</td>\n",
       "      <td>0</td>\n",
       "      <td>0</td>\n",
       "      <td>0</td>\n",
       "      <td>0</td>\n",
       "      <td>0</td>\n",
       "      <td>0</td>\n",
       "      <td>0</td>\n",
       "      <td>0</td>\n",
       "      <td>0</td>\n",
       "      <td>0</td>\n",
       "      <td>0</td>\n",
       "      <td>0</td>\n",
       "      <td>0</td>\n",
       "      <td>0</td>\n",
       "      <td>0</td>\n",
       "      <td>0</td>\n",
       "      <td>0</td>\n",
       "      <td>0</td>\n",
       "      <td>1</td>\n",
       "      <td>0</td>\n",
       "      <td>0</td>\n",
       "      <td>0</td>\n",
       "      <td>0</td>\n",
       "      <td>0</td>\n",
       "      <td>0</td>\n",
       "      <td>0</td>\n",
       "      <td>0</td>\n",
       "      <td>0</td>\n",
       "      <td>0</td>\n",
       "      <td>0</td>\n",
       "      <td>0</td>\n",
       "      <td>0</td>\n",
       "      <td>0</td>\n",
       "      <td>0</td>\n",
       "    </tr>\n",
       "    <tr>\n",
       "      <th>2</th>\n",
       "      <td>4.123106</td>\n",
       "      <td>1.0</td>\n",
       "      <td>1.0</td>\n",
       "      <td>1</td>\n",
       "      <td>66.0</td>\n",
       "      <td>0.0</td>\n",
       "      <td>-75.0</td>\n",
       "      <td>-1.0</td>\n",
       "      <td>-79.0</td>\n",
       "      <td>0.0</td>\n",
       "      <td>4.123106</td>\n",
       "      <td>15.033296</td>\n",
       "      <td>3.814075</td>\n",
       "      <td>3.814075</td>\n",
       "      <td>0.0</td>\n",
       "      <td>0.0</td>\n",
       "      <td>1</td>\n",
       "      <td>0</td>\n",
       "      <td>1</td>\n",
       "      <td>0</td>\n",
       "      <td>0</td>\n",
       "      <td>0</td>\n",
       "      <td>0</td>\n",
       "      <td>0</td>\n",
       "      <td>0</td>\n",
       "      <td>0</td>\n",
       "      <td>0</td>\n",
       "      <td>1</td>\n",
       "      <td>0</td>\n",
       "      <td>0</td>\n",
       "      <td>0</td>\n",
       "      <td>0</td>\n",
       "      <td>0</td>\n",
       "      <td>0</td>\n",
       "      <td>0</td>\n",
       "      <td>0</td>\n",
       "      <td>0</td>\n",
       "      <td>0</td>\n",
       "      <td>0</td>\n",
       "      <td>0</td>\n",
       "      <td>0</td>\n",
       "      <td>0</td>\n",
       "      <td>0</td>\n",
       "      <td>0</td>\n",
       "      <td>0</td>\n",
       "      <td>0</td>\n",
       "      <td>0</td>\n",
       "      <td>0</td>\n",
       "      <td>0</td>\n",
       "      <td>0</td>\n",
       "      <td>0</td>\n",
       "      <td>0</td>\n",
       "      <td>0</td>\n",
       "      <td>0</td>\n",
       "      <td>0</td>\n",
       "      <td>1</td>\n",
       "      <td>0</td>\n",
       "      <td>0</td>\n",
       "      <td>0</td>\n",
       "      <td>0</td>\n",
       "      <td>0</td>\n",
       "      <td>0</td>\n",
       "      <td>0</td>\n",
       "      <td>1</td>\n",
       "      <td>0</td>\n",
       "      <td>0</td>\n",
       "      <td>0</td>\n",
       "      <td>0</td>\n",
       "      <td>0</td>\n",
       "      <td>0</td>\n",
       "      <td>0</td>\n",
       "      <td>0</td>\n",
       "      <td>0</td>\n",
       "      <td>0</td>\n",
       "      <td>0</td>\n",
       "      <td>0</td>\n",
       "      <td>0</td>\n",
       "      <td>0</td>\n",
       "      <td>0</td>\n",
       "      <td>0</td>\n",
       "      <td>0</td>\n",
       "      <td>0</td>\n",
       "      <td>0</td>\n",
       "      <td>0</td>\n",
       "      <td>0</td>\n",
       "      <td>0</td>\n",
       "      <td>0</td>\n",
       "      <td>0</td>\n",
       "      <td>0</td>\n",
       "      <td>0</td>\n",
       "      <td>0</td>\n",
       "      <td>0</td>\n",
       "      <td>0</td>\n",
       "      <td>1</td>\n",
       "      <td>0</td>\n",
       "      <td>0</td>\n",
       "      <td>0</td>\n",
       "      <td>0</td>\n",
       "      <td>0</td>\n",
       "      <td>0</td>\n",
       "      <td>0</td>\n",
       "      <td>0</td>\n",
       "      <td>0</td>\n",
       "      <td>0</td>\n",
       "      <td>0</td>\n",
       "      <td>0</td>\n",
       "      <td>0</td>\n",
       "      <td>0</td>\n",
       "      <td>0</td>\n",
       "      <td>0</td>\n",
       "      <td>0</td>\n",
       "      <td>0</td>\n",
       "      <td>1</td>\n",
       "      <td>0</td>\n",
       "      <td>0</td>\n",
       "      <td>0</td>\n",
       "      <td>0</td>\n",
       "      <td>0</td>\n",
       "      <td>0</td>\n",
       "      <td>0</td>\n",
       "      <td>0</td>\n",
       "      <td>0</td>\n",
       "      <td>0</td>\n",
       "      <td>0</td>\n",
       "      <td>0</td>\n",
       "      <td>0</td>\n",
       "      <td>0</td>\n",
       "      <td>0</td>\n",
       "    </tr>\n",
       "    <tr>\n",
       "      <th>3</th>\n",
       "      <td>4.422515</td>\n",
       "      <td>18.0</td>\n",
       "      <td>0.0</td>\n",
       "      <td>1</td>\n",
       "      <td>113.0</td>\n",
       "      <td>0.0</td>\n",
       "      <td>-55.0</td>\n",
       "      <td>-36.0</td>\n",
       "      <td>-91.0</td>\n",
       "      <td>35.0</td>\n",
       "      <td>79.605276</td>\n",
       "      <td>50.209561</td>\n",
       "      <td>45.806929</td>\n",
       "      <td>0.0</td>\n",
       "      <td>0.0</td>\n",
       "      <td>0.0</td>\n",
       "      <td>1</td>\n",
       "      <td>0</td>\n",
       "      <td>1</td>\n",
       "      <td>0</td>\n",
       "      <td>0</td>\n",
       "      <td>0</td>\n",
       "      <td>0</td>\n",
       "      <td>0</td>\n",
       "      <td>1</td>\n",
       "      <td>0</td>\n",
       "      <td>0</td>\n",
       "      <td>0</td>\n",
       "      <td>0</td>\n",
       "      <td>0</td>\n",
       "      <td>0</td>\n",
       "      <td>0</td>\n",
       "      <td>0</td>\n",
       "      <td>0</td>\n",
       "      <td>0</td>\n",
       "      <td>0</td>\n",
       "      <td>0</td>\n",
       "      <td>0</td>\n",
       "      <td>0</td>\n",
       "      <td>0</td>\n",
       "      <td>0</td>\n",
       "      <td>0</td>\n",
       "      <td>0</td>\n",
       "      <td>0</td>\n",
       "      <td>0</td>\n",
       "      <td>0</td>\n",
       "      <td>0</td>\n",
       "      <td>0</td>\n",
       "      <td>0</td>\n",
       "      <td>0</td>\n",
       "      <td>0</td>\n",
       "      <td>0</td>\n",
       "      <td>0</td>\n",
       "      <td>0</td>\n",
       "      <td>0</td>\n",
       "      <td>1</td>\n",
       "      <td>0</td>\n",
       "      <td>0</td>\n",
       "      <td>0</td>\n",
       "      <td>0</td>\n",
       "      <td>0</td>\n",
       "      <td>0</td>\n",
       "      <td>0</td>\n",
       "      <td>0</td>\n",
       "      <td>0</td>\n",
       "      <td>0</td>\n",
       "      <td>1</td>\n",
       "      <td>0</td>\n",
       "      <td>0</td>\n",
       "      <td>0</td>\n",
       "      <td>0</td>\n",
       "      <td>0</td>\n",
       "      <td>0</td>\n",
       "      <td>0</td>\n",
       "      <td>0</td>\n",
       "      <td>0</td>\n",
       "      <td>0</td>\n",
       "      <td>0</td>\n",
       "      <td>0</td>\n",
       "      <td>0</td>\n",
       "      <td>0</td>\n",
       "      <td>0</td>\n",
       "      <td>0</td>\n",
       "      <td>0</td>\n",
       "      <td>0</td>\n",
       "      <td>0</td>\n",
       "      <td>0</td>\n",
       "      <td>0</td>\n",
       "      <td>0</td>\n",
       "      <td>0</td>\n",
       "      <td>0</td>\n",
       "      <td>0</td>\n",
       "      <td>0</td>\n",
       "      <td>1</td>\n",
       "      <td>0</td>\n",
       "      <td>0</td>\n",
       "      <td>0</td>\n",
       "      <td>0</td>\n",
       "      <td>0</td>\n",
       "      <td>0</td>\n",
       "      <td>0</td>\n",
       "      <td>0</td>\n",
       "      <td>0</td>\n",
       "      <td>0</td>\n",
       "      <td>0</td>\n",
       "      <td>0</td>\n",
       "      <td>0</td>\n",
       "      <td>0</td>\n",
       "      <td>0</td>\n",
       "      <td>0</td>\n",
       "      <td>0</td>\n",
       "      <td>0</td>\n",
       "      <td>1</td>\n",
       "      <td>0</td>\n",
       "      <td>0</td>\n",
       "      <td>0</td>\n",
       "      <td>0</td>\n",
       "      <td>0</td>\n",
       "      <td>0</td>\n",
       "      <td>0</td>\n",
       "      <td>0</td>\n",
       "      <td>0</td>\n",
       "      <td>0</td>\n",
       "      <td>0</td>\n",
       "      <td>0</td>\n",
       "      <td>0</td>\n",
       "      <td>0</td>\n",
       "      <td>0</td>\n",
       "    </tr>\n",
       "    <tr>\n",
       "      <th>4</th>\n",
       "      <td>4.494441</td>\n",
       "      <td>5.0</td>\n",
       "      <td>0.0</td>\n",
       "      <td>1</td>\n",
       "      <td>157.0</td>\n",
       "      <td>0.0</td>\n",
       "      <td>-61.0</td>\n",
       "      <td>-1.0</td>\n",
       "      <td>-69.0</td>\n",
       "      <td>-22.0</td>\n",
       "      <td>22.472205</td>\n",
       "      <td>29.017236</td>\n",
       "      <td>1.974934</td>\n",
       "      <td>0.0</td>\n",
       "      <td>0.0</td>\n",
       "      <td>0.0</td>\n",
       "      <td>1</td>\n",
       "      <td>0</td>\n",
       "      <td>1</td>\n",
       "      <td>0</td>\n",
       "      <td>0</td>\n",
       "      <td>1</td>\n",
       "      <td>0</td>\n",
       "      <td>0</td>\n",
       "      <td>0</td>\n",
       "      <td>0</td>\n",
       "      <td>0</td>\n",
       "      <td>0</td>\n",
       "      <td>0</td>\n",
       "      <td>0</td>\n",
       "      <td>0</td>\n",
       "      <td>0</td>\n",
       "      <td>0</td>\n",
       "      <td>0</td>\n",
       "      <td>0</td>\n",
       "      <td>0</td>\n",
       "      <td>0</td>\n",
       "      <td>0</td>\n",
       "      <td>0</td>\n",
       "      <td>0</td>\n",
       "      <td>0</td>\n",
       "      <td>0</td>\n",
       "      <td>0</td>\n",
       "      <td>0</td>\n",
       "      <td>0</td>\n",
       "      <td>0</td>\n",
       "      <td>0</td>\n",
       "      <td>0</td>\n",
       "      <td>0</td>\n",
       "      <td>0</td>\n",
       "      <td>0</td>\n",
       "      <td>0</td>\n",
       "      <td>0</td>\n",
       "      <td>0</td>\n",
       "      <td>0</td>\n",
       "      <td>1</td>\n",
       "      <td>0</td>\n",
       "      <td>0</td>\n",
       "      <td>0</td>\n",
       "      <td>0</td>\n",
       "      <td>0</td>\n",
       "      <td>0</td>\n",
       "      <td>0</td>\n",
       "      <td>0</td>\n",
       "      <td>1</td>\n",
       "      <td>0</td>\n",
       "      <td>0</td>\n",
       "      <td>0</td>\n",
       "      <td>0</td>\n",
       "      <td>0</td>\n",
       "      <td>0</td>\n",
       "      <td>0</td>\n",
       "      <td>0</td>\n",
       "      <td>0</td>\n",
       "      <td>0</td>\n",
       "      <td>0</td>\n",
       "      <td>0</td>\n",
       "      <td>0</td>\n",
       "      <td>0</td>\n",
       "      <td>0</td>\n",
       "      <td>0</td>\n",
       "      <td>0</td>\n",
       "      <td>0</td>\n",
       "      <td>0</td>\n",
       "      <td>0</td>\n",
       "      <td>0</td>\n",
       "      <td>0</td>\n",
       "      <td>0</td>\n",
       "      <td>0</td>\n",
       "      <td>0</td>\n",
       "      <td>0</td>\n",
       "      <td>0</td>\n",
       "      <td>0</td>\n",
       "      <td>1</td>\n",
       "      <td>0</td>\n",
       "      <td>0</td>\n",
       "      <td>0</td>\n",
       "      <td>0</td>\n",
       "      <td>0</td>\n",
       "      <td>0</td>\n",
       "      <td>0</td>\n",
       "      <td>0</td>\n",
       "      <td>0</td>\n",
       "      <td>0</td>\n",
       "      <td>0</td>\n",
       "      <td>0</td>\n",
       "      <td>0</td>\n",
       "      <td>0</td>\n",
       "      <td>0</td>\n",
       "      <td>0</td>\n",
       "      <td>0</td>\n",
       "      <td>0</td>\n",
       "      <td>1</td>\n",
       "      <td>0</td>\n",
       "      <td>0</td>\n",
       "      <td>0</td>\n",
       "      <td>0</td>\n",
       "      <td>0</td>\n",
       "      <td>0</td>\n",
       "      <td>0</td>\n",
       "      <td>0</td>\n",
       "      <td>0</td>\n",
       "      <td>0</td>\n",
       "      <td>0</td>\n",
       "      <td>0</td>\n",
       "      <td>0</td>\n",
       "      <td>0</td>\n",
       "      <td>0</td>\n",
       "    </tr>\n",
       "  </tbody>\n",
       "</table>\n",
       "</div>"
      ],
      "text/plain": [
       "       speed periodSeconds_last  rebound period periodSeconds  isGoal  \\\n",
       "0  14.025066               11.0      0.0      1          51.0     0.0   \n",
       "1   7.211103                7.0      0.0      1          65.0     0.0   \n",
       "2   4.123106                1.0      1.0      1          66.0     0.0   \n",
       "3   4.422515               18.0      0.0      1         113.0     0.0   \n",
       "4   4.494441                5.0      0.0      1         157.0     0.0   \n",
       "\n",
       "  coordinates_x coordinates_y coordinates_x_last coordinates_y_last  \\\n",
       "0         -55.0           6.0               94.0              -34.0   \n",
       "1         -79.0           0.0              -37.0              -28.0   \n",
       "2         -75.0          -1.0              -79.0                0.0   \n",
       "3         -55.0         -36.0              -91.0               35.0   \n",
       "4         -61.0          -1.0              -69.0              -22.0   \n",
       "\n",
       "  distance_last  dist_goal angle_goal angle_change  emptyNet  homeSide  train  \\\n",
       "0    154.275727  35.510562  -9.727579          0.0       0.0       0.0      1   \n",
       "1     50.477718       11.0       -0.0          0.0       0.0       0.0      1   \n",
       "2      4.123106  15.033296   3.814075     3.814075       0.0       0.0      1   \n",
       "3     79.605276  50.209561  45.806929          0.0       0.0       0.0      1   \n",
       "4     22.472205  29.017236   1.974934          0.0       0.0       0.0      1   \n",
       "\n",
       "   periodType_OVERTIME  periodType_REGULAR  periodType_SHOOTOUT  \\\n",
       "0                    0                   1                    0   \n",
       "1                    0                   1                    0   \n",
       "2                    0                   1                    0   \n",
       "3                    0                   1                    0   \n",
       "4                    0                   1                    0   \n",
       "\n",
       "   eventType_last_BLOCKED_SHOT  eventType_last_FACEOFF  \\\n",
       "0                            0                       0   \n",
       "1                            0                       0   \n",
       "2                            0                       0   \n",
       "3                            0                       0   \n",
       "4                            0                       1   \n",
       "\n",
       "   eventType_last_GIVEAWAY  eventType_last_GOAL  eventType_last_HIT  \\\n",
       "0                        0                    0                   1   \n",
       "1                        1                    0                   0   \n",
       "2                        0                    0                   0   \n",
       "3                        0                    0                   1   \n",
       "4                        0                    0                   0   \n",
       "\n",
       "   eventType_last_MISSED_SHOT  eventType_last_PENALTY  eventType_last_SHOT  \\\n",
       "0                           0                       0                    0   \n",
       "1                           0                       0                    0   \n",
       "2                           0                       0                    1   \n",
       "3                           0                       0                    0   \n",
       "4                           0                       0                    0   \n",
       "\n",
       "   eventType_last_TAKEAWAY  teamInfo_Anaheim Ducks  teamInfo_Arizona Coyotes  \\\n",
       "0                        0                       0                         0   \n",
       "1                        0                       0                         0   \n",
       "2                        0                       0                         0   \n",
       "3                        0                       0                         0   \n",
       "4                        0                       0                         0   \n",
       "\n",
       "   teamInfo_Boston Bruins  teamInfo_Buffalo Sabres  teamInfo_Calgary Flames  \\\n",
       "0                       0                        0                        0   \n",
       "1                       0                        0                        0   \n",
       "2                       0                        0                        0   \n",
       "3                       0                        0                        0   \n",
       "4                       0                        0                        0   \n",
       "\n",
       "   teamInfo_Carolina Hurricanes  teamInfo_Chicago Blackhawks  \\\n",
       "0                             0                            0   \n",
       "1                             0                            0   \n",
       "2                             0                            0   \n",
       "3                             0                            0   \n",
       "4                             0                            0   \n",
       "\n",
       "   teamInfo_Colorado Avalanche  teamInfo_Columbus Blue Jackets  \\\n",
       "0                            0                               0   \n",
       "1                            0                               0   \n",
       "2                            0                               0   \n",
       "3                            0                               0   \n",
       "4                            0                               0   \n",
       "\n",
       "   teamInfo_Dallas Stars  teamInfo_Detroit Red Wings  \\\n",
       "0                      0                           0   \n",
       "1                      0                           0   \n",
       "2                      0                           0   \n",
       "3                      0                           0   \n",
       "4                      0                           0   \n",
       "\n",
       "   teamInfo_Edmonton Oilers  teamInfo_Florida Panthers  \\\n",
       "0                         0                          0   \n",
       "1                         0                          0   \n",
       "2                         0                          0   \n",
       "3                         0                          0   \n",
       "4                         0                          0   \n",
       "\n",
       "   teamInfo_Los Angeles Kings  teamInfo_Minnesota Wild  \\\n",
       "0                           0                        0   \n",
       "1                           0                        0   \n",
       "2                           0                        0   \n",
       "3                           0                        0   \n",
       "4                           0                        0   \n",
       "\n",
       "   teamInfo_Montréal Canadiens  teamInfo_Nashville Predators  \\\n",
       "0                            0                             0   \n",
       "1                            0                             0   \n",
       "2                            0                             0   \n",
       "3                            0                             0   \n",
       "4                            0                             0   \n",
       "\n",
       "   teamInfo_New Jersey Devils  teamInfo_New York Islanders  \\\n",
       "0                           0                            0   \n",
       "1                           0                            0   \n",
       "2                           0                            0   \n",
       "3                           0                            0   \n",
       "4                           0                            0   \n",
       "\n",
       "   teamInfo_New York Rangers  teamInfo_Ottawa Senators  \\\n",
       "0                          0                         0   \n",
       "1                          0                         0   \n",
       "2                          0                         0   \n",
       "3                          0                         0   \n",
       "4                          0                         0   \n",
       "\n",
       "   teamInfo_Philadelphia Flyers  teamInfo_Pittsburgh Penguins  \\\n",
       "0                             0                             0   \n",
       "1                             0                             0   \n",
       "2                             0                             0   \n",
       "3                             0                             0   \n",
       "4                             0                             0   \n",
       "\n",
       "   teamInfo_San Jose Sharks  teamInfo_St. Louis Blues  \\\n",
       "0                         0                         0   \n",
       "1                         0                         0   \n",
       "2                         0                         0   \n",
       "3                         0                         0   \n",
       "4                         0                         0   \n",
       "\n",
       "   teamInfo_Tampa Bay Lightning  teamInfo_Toronto Maple Leafs  \\\n",
       "0                             0                             1   \n",
       "1                             0                             1   \n",
       "2                             0                             1   \n",
       "3                             0                             1   \n",
       "4                             0                             1   \n",
       "\n",
       "   teamInfo_Vancouver Canucks  teamInfo_Vegas Golden Knights  \\\n",
       "0                           0                              0   \n",
       "1                           0                              0   \n",
       "2                           0                              0   \n",
       "3                           0                              0   \n",
       "4                           0                              0   \n",
       "\n",
       "   teamInfo_Washington Capitals  teamInfo_Winnipeg Jets  shotType_Backhand  \\\n",
       "0                             0                       0                  0   \n",
       "1                             0                       0                  0   \n",
       "2                             0                       0                  0   \n",
       "3                             0                       0                  0   \n",
       "4                             0                       0                  0   \n",
       "\n",
       "   shotType_Deflected  shotType_Slap Shot  shotType_Snap Shot  \\\n",
       "0                   0                   0                   0   \n",
       "1                   0                   0                   1   \n",
       "2                   0                   0                   1   \n",
       "3                   0                   0                   0   \n",
       "4                   0                   0                   0   \n",
       "\n",
       "   shotType_Tip-In  shotType_Wrap-around  shotType_Wrist Shot  \\\n",
       "0                0                     0                    1   \n",
       "1                0                     0                    0   \n",
       "2                0                     0                    0   \n",
       "3                0                     0                    1   \n",
       "4                1                     0                    0   \n",
       "\n",
       "   homeTeam_Anaheim Ducks  homeTeam_Arizona Coyotes  homeTeam_Boston Bruins  \\\n",
       "0                       0                         0                       0   \n",
       "1                       0                         0                       0   \n",
       "2                       0                         0                       0   \n",
       "3                       0                         0                       0   \n",
       "4                       0                         0                       0   \n",
       "\n",
       "   homeTeam_Buffalo Sabres  homeTeam_Calgary Flames  \\\n",
       "0                        0                        0   \n",
       "1                        0                        0   \n",
       "2                        0                        0   \n",
       "3                        0                        0   \n",
       "4                        0                        0   \n",
       "\n",
       "   homeTeam_Carolina Hurricanes  homeTeam_Chicago Blackhawks  \\\n",
       "0                             0                            0   \n",
       "1                             0                            0   \n",
       "2                             0                            0   \n",
       "3                             0                            0   \n",
       "4                             0                            0   \n",
       "\n",
       "   homeTeam_Colorado Avalanche  homeTeam_Columbus Blue Jackets  \\\n",
       "0                            0                               0   \n",
       "1                            0                               0   \n",
       "2                            0                               0   \n",
       "3                            0                               0   \n",
       "4                            0                               0   \n",
       "\n",
       "   homeTeam_Dallas Stars  homeTeam_Detroit Red Wings  \\\n",
       "0                      0                           0   \n",
       "1                      0                           0   \n",
       "2                      0                           0   \n",
       "3                      0                           0   \n",
       "4                      0                           0   \n",
       "\n",
       "   homeTeam_Edmonton Oilers  homeTeam_Florida Panthers  \\\n",
       "0                         0                          0   \n",
       "1                         0                          0   \n",
       "2                         0                          0   \n",
       "3                         0                          0   \n",
       "4                         0                          0   \n",
       "\n",
       "   homeTeam_Los Angeles Kings  homeTeam_Minnesota Wild  \\\n",
       "0                           0                        0   \n",
       "1                           0                        0   \n",
       "2                           0                        0   \n",
       "3                           0                        0   \n",
       "4                           0                        0   \n",
       "\n",
       "   homeTeam_Montréal Canadiens  homeTeam_Nashville Predators  \\\n",
       "0                            0                             0   \n",
       "1                            0                             0   \n",
       "2                            0                             0   \n",
       "3                            0                             0   \n",
       "4                            0                             0   \n",
       "\n",
       "   homeTeam_New Jersey Devils  homeTeam_New York Islanders  \\\n",
       "0                           0                            0   \n",
       "1                           0                            0   \n",
       "2                           0                            0   \n",
       "3                           0                            0   \n",
       "4                           0                            0   \n",
       "\n",
       "   homeTeam_New York Rangers  homeTeam_Ottawa Senators  \\\n",
       "0                          0                         0   \n",
       "1                          0                         0   \n",
       "2                          0                         0   \n",
       "3                          0                         0   \n",
       "4                          0                         0   \n",
       "\n",
       "   homeTeam_Philadelphia Flyers  homeTeam_Pittsburgh Penguins  \\\n",
       "0                             0                             0   \n",
       "1                             0                             0   \n",
       "2                             0                             0   \n",
       "3                             0                             0   \n",
       "4                             0                             0   \n",
       "\n",
       "   homeTeam_San Jose Sharks  homeTeam_St. Louis Blues  \\\n",
       "0                         0                         0   \n",
       "1                         0                         0   \n",
       "2                         0                         0   \n",
       "3                         0                         0   \n",
       "4                         0                         0   \n",
       "\n",
       "   homeTeam_Tampa Bay Lightning  homeTeam_Toronto Maple Leafs  \\\n",
       "0                             0                             1   \n",
       "1                             0                             1   \n",
       "2                             0                             1   \n",
       "3                             0                             1   \n",
       "4                             0                             1   \n",
       "\n",
       "   homeTeam_Vancouver Canucks  homeTeam_Washington Capitals  \\\n",
       "0                           0                             0   \n",
       "1                           0                             0   \n",
       "2                           0                             0   \n",
       "3                           0                             0   \n",
       "4                           0                             0   \n",
       "\n",
       "   homeTeam_Winnipeg Jets  awayTeam_Anaheim Ducks  awayTeam_Arizona Coyotes  \\\n",
       "0                       0                       0                         0   \n",
       "1                       0                       0                         0   \n",
       "2                       0                       0                         0   \n",
       "3                       0                       0                         0   \n",
       "4                       0                       0                         0   \n",
       "\n",
       "   awayTeam_Boston Bruins  awayTeam_Buffalo Sabres  awayTeam_Calgary Flames  \\\n",
       "0                       0                        0                        0   \n",
       "1                       0                        0                        0   \n",
       "2                       0                        0                        0   \n",
       "3                       0                        0                        0   \n",
       "4                       0                        0                        0   \n",
       "\n",
       "   awayTeam_Carolina Hurricanes  awayTeam_Chicago Blackhawks  \\\n",
       "0                             0                            0   \n",
       "1                             0                            0   \n",
       "2                             0                            0   \n",
       "3                             0                            0   \n",
       "4                             0                            0   \n",
       "\n",
       "   awayTeam_Colorado Avalanche  awayTeam_Columbus Blue Jackets  \\\n",
       "0                            0                               0   \n",
       "1                            0                               0   \n",
       "2                            0                               0   \n",
       "3                            0                               0   \n",
       "4                            0                               0   \n",
       "\n",
       "   awayTeam_Dallas Stars  awayTeam_Detroit Red Wings  \\\n",
       "0                      0                           0   \n",
       "1                      0                           0   \n",
       "2                      0                           0   \n",
       "3                      0                           0   \n",
       "4                      0                           0   \n",
       "\n",
       "   awayTeam_Edmonton Oilers  awayTeam_Florida Panthers  \\\n",
       "0                         0                          0   \n",
       "1                         0                          0   \n",
       "2                         0                          0   \n",
       "3                         0                          0   \n",
       "4                         0                          0   \n",
       "\n",
       "   awayTeam_Los Angeles Kings  awayTeam_Minnesota Wild  \\\n",
       "0                           0                        0   \n",
       "1                           0                        0   \n",
       "2                           0                        0   \n",
       "3                           0                        0   \n",
       "4                           0                        0   \n",
       "\n",
       "   awayTeam_Montréal Canadiens  awayTeam_Nashville Predators  \\\n",
       "0                            1                             0   \n",
       "1                            1                             0   \n",
       "2                            1                             0   \n",
       "3                            1                             0   \n",
       "4                            1                             0   \n",
       "\n",
       "   awayTeam_New Jersey Devils  awayTeam_New York Islanders  \\\n",
       "0                           0                            0   \n",
       "1                           0                            0   \n",
       "2                           0                            0   \n",
       "3                           0                            0   \n",
       "4                           0                            0   \n",
       "\n",
       "   awayTeam_New York Rangers  awayTeam_Ottawa Senators  \\\n",
       "0                          0                         0   \n",
       "1                          0                         0   \n",
       "2                          0                         0   \n",
       "3                          0                         0   \n",
       "4                          0                         0   \n",
       "\n",
       "   awayTeam_Philadelphia Flyers  awayTeam_Pittsburgh Penguins  \\\n",
       "0                             0                             0   \n",
       "1                             0                             0   \n",
       "2                             0                             0   \n",
       "3                             0                             0   \n",
       "4                             0                             0   \n",
       "\n",
       "   awayTeam_San Jose Sharks  awayTeam_St. Louis Blues  \\\n",
       "0                         0                         0   \n",
       "1                         0                         0   \n",
       "2                         0                         0   \n",
       "3                         0                         0   \n",
       "4                         0                         0   \n",
       "\n",
       "   awayTeam_Tampa Bay Lightning  awayTeam_Toronto Maple Leafs  \\\n",
       "0                             0                             0   \n",
       "1                             0                             0   \n",
       "2                             0                             0   \n",
       "3                             0                             0   \n",
       "4                             0                             0   \n",
       "\n",
       "   awayTeam_Vancouver Canucks  awayTeam_Vegas Golden Knights  \\\n",
       "0                           0                              0   \n",
       "1                           0                              0   \n",
       "2                           0                              0   \n",
       "3                           0                              0   \n",
       "4                           0                              0   \n",
       "\n",
       "   awayTeam_Washington Capitals  awayTeam_Winnipeg Jets  \n",
       "0                             0                       0  \n",
       "1                             0                       0  \n",
       "2                             0                       0  \n",
       "3                             0                       0  \n",
       "4                             0                       0  "
      ]
     },
     "metadata": {},
     "output_type": "display_data"
    }
   ],
   "source": [
    "df_train.head()\n",
    "# #preprocess test and train (assume constant one hot variable space)\n",
    "# df_nonull = pre_process(df_all)\n",
    "# #sanitycheck\n",
    "# print(df_all.shape)\n",
    "# print(df_nonull.shape)\n",
    "# print(23-6+9+31+7+1320+145+30)\n",
    "# df_nonull.head()\n"
   ]
  },
  {
   "cell_type": "markdown",
   "id": "31b463ab",
   "metadata": {},
   "source": [
    "### Model Search"
   ]
  },
  {
   "cell_type": "code",
   "execution_count": null,
   "id": "c6dc232f",
   "metadata": {},
   "outputs": [],
   "source": [
    "from sklearn.preprocessing import StandardScaler\n",
    "from sklearn.linear_model import LogisticRegression\n",
    "from sklearn.pipeline import Pipeline\n",
    "from sklearn.model_selection import GridSearchCV\n",
    "from sklearn.decomposition import PCA\n",
    "from sklearn.metrics import ConfusionMatrixDisplay\n",
    "import matplotlib.pyplot as plt\n",
    "from sklearn.model_selection import cross_val_score\n",
    "from sklearn.model_selection import train_test_split\n",
    "from sklearn.metrics import f1_score, precision_score, recall_score, confusion_matrix\n",
    "\n",
    "#save with joblib faster with np\n",
    "from joblib import dump, load\n"
   ]
  },
  {
   "cell_type": "code",
   "execution_count": null,
   "id": "2e6343ed",
   "metadata": {},
   "outputs": [],
   "source": [
    "# Splitting the dataset into the Training set and Test set for grid search CV 5\n",
    "#preprocess\n",
    "df_prep = df_train\n",
    "y = df_prep['isGoal']\n",
    "X = df_prep.drop(['isGoal'], axis=1)\n",
    "X_train, X_test, y_train, y_test = train_test_split(X, y, stratify=y, test_size=0.2, random_state=0)"
   ]
  },
  {
   "cell_type": "code",
   "execution_count": null,
   "id": "acae0da3",
   "metadata": {},
   "outputs": [
    {
     "name": "stdout",
     "output_type": "stream",
     "text": [
      "(257178, 1726)\n",
      "(257178,)\n",
      "(64295, 1726)\n",
      "(64295,)\n"
     ]
    }
   ],
   "source": [
    "print(X_train.shape)\n",
    "print(y_train.shape)\n",
    "print(X_test.shape)\n",
    "print(y_test.shape)"
   ]
  },
  {
   "cell_type": "code",
   "execution_count": null,
   "id": "67b17463",
   "metadata": {},
   "outputs": [
    {
     "name": "stdout",
     "output_type": "stream",
     "text": [
      "64295\n"
     ]
    }
   ],
   "source": [
    "print(len(y_test.to_numpy()))"
   ]
  },
  {
   "cell_type": "code",
   "execution_count": null,
   "id": "015a3798",
   "metadata": {},
   "outputs": [],
   "source": [
    "# from sklearn.preprocessing import MinMaxScaler\n",
    "\n",
    "# minmax = MinMaxScaler()\n",
    "\n",
    "# df_minmax = minmax.fit_transform(df_nonull[['isGoal']])\n",
    "\n",
    "# from sklearn.preprocessing import StandardScaler\n",
    "# sc = StandardScaler()\n",
    "\n",
    "# df_sc = sc.fit_transform(df_nonull[['rebound']])"
   ]
  },
  {
   "cell_type": "markdown",
   "id": "0e486f03",
   "metadata": {},
   "source": [
    "### feature selection tests"
   ]
  },
  {
   "cell_type": "code",
   "execution_count": null,
   "id": "31c91c2c",
   "metadata": {},
   "outputs": [],
   "source": [
    "from sklearn.svm import LinearSVC\n",
    "from sklearn.datasets import load_iris\n",
    "from sklearn.feature_selection import SelectFromModel\n",
    "from sklearn.feature_selection import VarianceThreshold\n",
    "\n",
    "lsvc = LinearSVC(C=0.01, penalty=\"l1\", dual=False)\n",
    "model_s = SelectFromModel(lsvc)\n",
    "\n",
    "clf = Pipeline([('var', VarianceThreshold()),('scaler', StandardScaler()),\n",
    "  ('feature_selection', model_s)\n",
    "])\n",
    "\n",
    "X_new = clf.fit_transform(X,y)\n",
    "X_new.shape\n",
    "\n",
    "X_train_s = clf.transform(X_train)\n",
    "print(X_train_s.shape)\n",
    "X_train_s = clf.transform(X_test)"
   ]
  },
  {
   "cell_type": "code",
   "execution_count": null,
   "id": "78556a0c",
   "metadata": {},
   "outputs": [
    {
     "data": {
      "text/plain": [
       "(321473, 10)"
      ]
     },
     "metadata": {},
     "output_type": "display_data"
    }
   ],
   "source": [
    "from sklearn.feature_selection import SelectKBest, f_classif, SelectFromModel\n",
    "\n",
    "skb = SelectKBest(f_classif, k = 10)\n",
    "clf = Pipeline([('var', VarianceThreshold()),('scaler', StandardScaler()),('skb', skb)])\n",
    "\n",
    "X_new = clf.fit_transform(X,y)\n",
    "X_new.shape\n",
    "\n",
    "X_train_10 = clf.transform(X_train)\n",
    "print(X_train_10.shape)\n",
    "X_test_10 = clf.transform(X_test)"
   ]
  },
  {
   "cell_type": "code",
   "execution_count": null,
   "id": "d9d5c7ea",
   "metadata": {},
   "outputs": [
    {
     "name": "stderr",
     "output_type": "stream",
     "text": [
      "COMET ERROR: Failed to extract parameters from estimator\n"
     ]
    },
    {
     "name": "stdout",
     "output_type": "stream",
     "text": [
      "Fitting 5 folds for each of 4 candidates, totalling 20 fits\n"
     ]
    },
    {
     "name": "stderr",
     "output_type": "stream",
     "text": [
      "COMET ERROR: Failed to extract parameters from estimator\n"
     ]
    },
    {
     "name": "stdout",
     "output_type": "stream",
     "text": [
      "Best parameter (CV score=0.911):\n",
      "{'C': 0.0001}\n"
     ]
    },
    {
     "data": {
      "image/png": "[encoded data removed]",
      "text/plain": [
       "<Figure size 432x288 with 2 Axes>"
      ]
     },
     "metadata": {},
     "output_type": "display_data"
    }
   ],
   "source": [
    "# set the tolerance to a large value to make the example faster\n",
    "logistic = LogisticRegression(max_iter=10000, tol=0.1)\n",
    "\n",
    "# Parameters of pipelines can be set using ‘__’ separated parameter names:\n",
    "param_grid = {\n",
    "    \"C\": np.logspace(-4, 4, 4),\n",
    "}\n",
    "search_logR = GridSearchCV(logistic, param_grid, n_jobs=-1, verbose=2)\n",
    "search_logR.fit(X_train_10, y_train)\n",
    "#save\n",
    "#dump(search_logR, './models/Q6logR_s.joblib')\n",
    "\n",
    "#load\n",
    "#search_logR = load('./models/Q6logR_s.joblib')\n",
    "\n",
    "print(\"Best parameter (CV score=%0.3f):\" % search_logR.best_score_)\n",
    "print(search_logR.best_params_)\n",
    "\n",
    "ConfusionMatrixDisplay.from_estimator(search_logR, X_test_10, y_test,\n",
    "                                display_labels=['No_Goal','Goal'],\n",
    "                                cmap=plt.cm.Blues)\n",
    "plt.show()\n"
   ]
  },
  {
   "cell_type": "markdown",
   "id": "e226f00d",
   "metadata": {},
   "source": [
    "### logistic regression"
   ]
  },
  {
   "cell_type": "code",
   "execution_count": null,
   "id": "bb8de397",
   "metadata": {},
   "outputs": [],
   "source": [
    "pca = PCA()\n",
    "X_train = StandardScaler().fit_transform(X_train)\n",
    "pca.fit(X_train)\n",
    "explained_variance = pca.explained_variance_ratio_\n",
    "print(len(explained_variance))\n",
    "print(sum(explained_variance[0:85]))"
   ]
  },
  {
   "cell_type": "code",
   "execution_count": null,
   "id": "d009cfb8",
   "metadata": {},
   "outputs": [
    {
     "name": "stderr",
     "output_type": "stream",
     "text": [
      "COMET ERROR: Failed to extract parameters from estimator\n"
     ]
    },
    {
     "name": "stdout",
     "output_type": "stream",
     "text": [
      "Fitting 5 folds for each of 16 candidates, totalling 80 fits\n"
     ]
    },
    {
     "name": "stderr",
     "output_type": "stream",
     "text": [
      "COMET ERROR: Failed to extract parameters from estimator\n"
     ]
    },
    {
     "name": "stdout",
     "output_type": "stream",
     "text": [
      "Best parameter (CV score=0.911):\n",
      "{'logistic__C': 0.0001, 'pca__n_components': 90}\n"
     ]
    },
    {
     "data": {
      "image/png": "[encoded data removed]",
      "text/plain": [
       "<Figure size 432x288 with 2 Axes>"
      ]
     },
     "metadata": {},
     "output_type": "display_data"
    }
   ],
   "source": [
    "pca = PCA()\n",
    "# X_train = pca.fit_transform(X_train)\n",
    "# X_test = pca.transform(X_test)\n",
    "\n",
    "# set the tolerance to a large value to make the example faster\n",
    "logistic = LogisticRegression(max_iter=10000, tol=0.1)\n",
    "\n",
    "pipe = Pipeline(steps=[('scaler', StandardScaler()), (\"pca\", pca), (\"logistic\", logistic)])\n",
    "\n",
    "# Parameters of pipelines can be set using ‘__’ separated parameter names:\n",
    "param_grid = {\n",
    "    \"pca__n_components\": [85, 90, 100,120],\n",
    "    \"logistic__C\": np.logspace(-4, 4, 4),\n",
    "}\n",
    "\n",
    "search_logR = GridSearchCV(pipe, param_grid, n_jobs=-1, verbose=10)\n",
    "search_logR.fit(X_train, y_train)\n",
    "#save\n",
    "dump(search_logR, './models/Q6logR_s.joblib')\n",
    "\n",
    "#load\n",
    "#search_logR = load('./models/Q6logR_s.joblib')\n",
    "\n",
    "print(\"Best parameter (CV score=%0.3f):\" % search_logR.best_score_)\n",
    "print(search_logR.best_params_)\n",
    "\n",
    "# print(search.score(X_test, y_test))\n",
    "# y_pred = search.predict(X_test)\n",
    "# explained_variance = pca.explained_variance_ratio_\n",
    "# print(len(explained_variance))\n",
    "# print(sum(explained_variance[0:85]))\n",
    "\n",
    "ConfusionMatrixDisplay.from_estimator(search_logR, X_test, y_test,\n",
    "                                display_labels=['No_Goal','Goal'],\n",
    "                                cmap=plt.cm.Blues)\n",
    "plt.show()\n"
   ]
  },
  {
   "cell_type": "code",
   "execution_count": null,
   "id": "9ea55744",
   "metadata": {},
   "outputs": [
    {
     "data": {
      "image/png": "[encoded data removed]",
      "text/plain": [
       "<Figure size 432x288 with 1 Axes>"
      ]
     },
     "metadata": {},
     "output_type": "display_data"
    }
   ],
   "source": [
    "#plot roc\n",
    "from sklearn.metrics import roc_curve, auc\n",
    "\n",
    "y_score = search_logR.decision_function(X_test)\n",
    "fpr, tpr, _ = roc_curve(y_test, y_score)\n",
    "roc_auc = auc(fpr, tpr)\n",
    "\n",
    "plt.figure()\n",
    "lw = 2\n",
    "plt.plot(\n",
    "    fpr,\n",
    "    tpr,\n",
    "    color=\"darkorange\",\n",
    "    lw=lw,\n",
    "    label=\"ROC curve (area = %0.2f)\" % roc_auc,\n",
    ")\n",
    "plt.plot([0, 1], [0, 1], color=\"navy\", lw=lw, linestyle=\"--\")\n",
    "plt.xlim([0.0, 1.0])\n",
    "plt.ylim([0.0, 1.05])\n",
    "plt.xlabel(\"False Positive Rate\")\n",
    "plt.ylabel(\"True Positive Rate\")\n",
    "plt.title(\"ROC of Logistic Regression\")\n",
    "plt.legend(loc=\"lower right\")\n",
    "\n",
    "plt.savefig('./figures/q61_logR_ROC.png')\n",
    "plt.show()"
   ]
  },
  {
   "cell_type": "code",
   "execution_count": null,
   "id": "48519974",
   "metadata": {},
   "outputs": [
    {
     "data": {
      "image/png": "[encoded data removed]",
      "text/plain": [
       "<Figure size 432x288 with 1 Axes>"
      ]
     },
     "metadata": {},
     "output_type": "display_data"
    },
    {
     "data": {
      "image/png": "[encoded data removed]",
      "text/plain": [
       "<Figure size 432x288 with 1 Axes>"
      ]
     },
     "metadata": {},
     "output_type": "display_data"
    }
   ],
   "source": [
    "#model percentile\n",
    "lr_probs = search_logR.predict_proba(X_test)\n",
    "n = len(lr_probs)\n",
    "x_axis = np.arange(n)[::-1]*(100/n)\n",
    "#print(x_axis)\n",
    "\n",
    "# print(lr_probs)\n",
    "lr_probs_y = lr_probs[:, 1]\n",
    "lr_probs_y[::-1].sort()\n",
    "# print(sum(lr_probs_y))\n",
    "#print(lr_probs_y)\n",
    "lr_probs_y_sum = np.cumsum(lr_probs_y)\n",
    "#lr_probs_x = ((sum(lr_probs_y)-lr_probs_y_sum[:])/sum(lr_probs_y))*100\n",
    "\n",
    "#print(lr_probs_y_sum)\n",
    "#goal rate\n",
    "\n",
    "plt.figure()\n",
    "plt.plot(\n",
    "    x_axis,\n",
    "    lr_probs_y,\n",
    ")\n",
    "plt.xlim([100, 0])\n",
    "plt.ylim([0.0, 1.0])\n",
    "plt.xlabel(\"Shot prob model percentile\")\n",
    "plt.ylabel(\"Goals / (Shots + Goals)\")\n",
    "plt.title(\"Goal Rate of Logistic Regression\")\n",
    "plt.savefig('./figures/q61_logR_GR.png')\n",
    "plt.show()\n",
    "\n",
    "#cumulative plot\n",
    "plt.figure()\n",
    "plt.plot(\n",
    "    x_axis,\n",
    "    lr_probs_y_sum/sum(lr_probs_y),\n",
    ")\n",
    "plt.xlim([100, 0])\n",
    "plt.ylim([0.0, 1.0])\n",
    "plt.xlabel(\"Shot prob model percentile\")\n",
    "plt.ylabel(\"Proportion\")\n",
    "plt.title(\"Cumulative % of goals\")\n",
    "plt.savefig('./figures/q61_logR_CP.png')\n",
    "plt.show()"
   ]
  },
  {
   "cell_type": "code",
   "execution_count": null,
   "id": "038a87ad",
   "metadata": {},
   "outputs": [
    {
     "data": {
      "image/png": "[encoded data removed]",
      "text/plain": [
       "<Figure size 432x288 with 1 Axes>"
      ]
     },
     "metadata": {},
     "output_type": "display_data"
    }
   ],
   "source": [
    "from sklearn.calibration import CalibrationDisplay\n",
    "disp = CalibrationDisplay.from_estimator(search_logR, X_test, y_test, name='Logistic Regression')\n",
    "plt.title(\"Reliability diagram\")\n",
    "plt.savefig('./figures/q61_logR_RD.png')\n",
    "plt.show()"
   ]
  },
  {
   "cell_type": "code",
   "execution_count": null,
   "id": "c6c6f640",
   "metadata": {},
   "outputs": [
    {
     "name": "stdout",
     "output_type": "stream",
     "text": [
      "\n",
      "Results\n",
      "Confusion matrix \n",
      " [[58263     2]\n",
      " [ 5742   288]]\n",
      "F1 score is  0.091\n",
      "Precision score is  0.993\n",
      "Recall score is  0.048\n"
     ]
    }
   ],
   "source": [
    "y_pred = search_logR.predict(X_test)\n",
    "print(\"\\nResults\\nConfusion matrix \\n {}\".format(confusion_matrix(y_test, y_pred)))\n",
    "\n",
    "#quantitative metrics\n",
    "f1 = f1_score(y_test, y_pred)\n",
    "precision = precision_score(y_test, y_pred)\n",
    "recall = recall_score(y_test, y_pred)\n",
    "\n",
    "print(\"F1 score is {:6.3f}\".format(f1))\n",
    "print(\"Precision score is {:6.3f}\".format(precision))\n",
    "print(\"Recall score is {:6.3f}\".format(recall))"
   ]
  },
  {
   "cell_type": "markdown",
   "id": "15e5b40c",
   "metadata": {},
   "source": [
    "### svc"
   ]
  },
  {
   "cell_type": "code",
   "execution_count": null,
   "id": "59d256ec",
   "metadata": {},
   "outputs": [
    {
     "name": "stdout",
     "output_type": "stream",
     "text": [
      "0.8977214402364103\n"
     ]
    },
    {
     "data": {
      "image/png": "[encoded data removed]",
      "text/plain": [
       "<Figure size 432x288 with 2 Axes>"
      ]
     },
     "metadata": {},
     "output_type": "display_data"
    }
   ],
   "source": [
    "from sklearn.svm import SVC\n",
    "\n",
    "search_svc = Pipeline(steps=[('scaler', StandardScaler()), (\"pca\", PCA(n_components = 85)), (\"svc\", SVC(kernel='rbf',C=10))])\n",
    "\n",
    "# Parameters of pipelines can be set using ‘__’ separated parameter names:\n",
    "# param_grid = {'svc__kernel':('linear','rbf'), \n",
    "#                'svc__C':[1, 10]}\n",
    "\n",
    "\n",
    "# search_svc = GridSearchCV(pipe, param_grid, n_jobs=-1,verbose=2)\n",
    "\n",
    "X_train_svm, X_test_svm, y_train_svm, y_test_svm = train_test_split(X_train, y_train, stratify=y_train, test_size=0.10, random_state=0)\n",
    "\n",
    "search_svc.fit(X_test_svm, y_test_svm)\n",
    "# print(\"Best parameter (CV score=%0.3f):\" % search_svc.best_score_)\n",
    "# print(search_svc.best_params_)\n",
    "\n",
    "# print(\"Grid scores on development set:\")\n",
    "# print()\n",
    "# means = search_svc.cv_results_['mean_test_score']\n",
    "# stds = search_svc.cv_results_['std_test_score']\n",
    "# for mean, std, params in zip(means, stds, search_svc.cv_results_['params']):\n",
    "#     print(\"%0.3f (+/-%0.03f) for %r\"\n",
    "#           % (mean, std * 2, params))\n",
    "print(search_svc.score(X_test, y_test))\n",
    "ConfusionMatrixDisplay.from_estimator(search_svc, X_test, y_test,\n",
    "                                display_labels=['No_Goal','Goal'],\n",
    "                                cmap=plt.cm.Blues)\n",
    "plt.show()"
   ]
  },
  {
   "cell_type": "markdown",
   "id": "999a8650",
   "metadata": {},
   "source": [
    "### random forest"
   ]
  },
  {
   "cell_type": "code",
   "execution_count": null,
   "id": "a86c74f2",
   "metadata": {},
   "outputs": [
    {
     "name": "stdout",
     "output_type": "stream",
     "text": [
      "0.9103973870440937\n"
     ]
    },
    {
     "data": {
      "image/png": "[encoded data removed]",
      "text/plain": [
       "<Figure size 432x288 with 2 Axes>"
      ]
     },
     "metadata": {},
     "output_type": "display_data"
    }
   ],
   "source": [
    "from sklearn.ensemble import RandomForestClassifier\n",
    "\n",
    "# Splitting the dataset into the Training set and Test set for grid search CV 5\n",
    "#preprocess using all features\n",
    "df_prep = pre_process(df_all,hd=True)\n",
    "y = df_prep['isGoal']\n",
    "X = df_prep.drop(['isGoal'], axis=1)\n",
    "X_train, X_test, y_train, y_test = train_test_split(X, y, stratify=y, test_size=0.2, random_state=0)\n",
    "\n",
    "\n",
    "rfc = RandomForestClassifier(n_jobs=-1, n_estimators = 200, max_features = 'sqrt', oob_score = True) \n",
    "\n",
    "search_rf = Pipeline(steps=[('scaler', StandardScaler()), (\"pca\", PCA(n_components = 85)), (\"rfc\",rfc)])\n",
    "\n",
    "# Parameters of pipelines can be set using ‘__’ separated parameter names:\n",
    "# param_grid = { \n",
    "#     'rfc__n_estimators': [200, 500],\n",
    "#     'rfc__max_features': ['sqrt', 'log2']\n",
    "# }\n",
    "\n",
    "# search_rf = GridSearchCV(pipe, param_grid, cv=3, n_jobs=-1,verbose=12)\n",
    "# search_rf.fit(X_train, y_train)\n",
    "# print(\"Best parameter (CV score=%0.3f):\" % search_rf.best_score_)\n",
    "# print(search_rf.best_params_)\n",
    "\n",
    "# print(\"Grid scores on development set:\")\n",
    "# print()\n",
    "# means = search_rf.cv_results_['mean_test_score']\n",
    "# stds = search_rf.cv_results_['std_test_score']\n",
    "# for mean, std, params in zip(means, stds, search_rf.cv_results_['params']):\n",
    "#     print(\"%0.3f (+/-%0.03f) for %r\"\n",
    "#           % (mean, std * 2, params))\n",
    "\n",
    "\n",
    "#X_train_rf, X_test_rf, y_train_rf, y_test_rf = train_test_split(X_train, y_train, stratify=y_train, test_size=0.10, random_state=0)\n",
    "\n",
    "search_rf.fit(X_train, y_train)\n",
    "\n",
    "print(search_rf.score(X_test, y_test))\n",
    "ConfusionMatrixDisplay.from_estimator(search_rf, X_test, y_test,\n",
    "                                display_labels=['No_Goal','Goal'],\n",
    "                                cmap=plt.cm.Blues)\n",
    "plt.show()"
   ]
  },
  {
   "cell_type": "code",
   "execution_count": null,
   "id": "f92eddd1",
   "metadata": {},
   "outputs": [],
   "source": [
    "scores = cross_val_score(search_rf, X_train, y_train, cv=3, scoring='accuracy')\n",
    "print(\"Voting: Accuracy: %0.2f (+/- %0.2f)\" % (scores.mean(), scores.std()))"
   ]
  },
  {
   "cell_type": "markdown",
   "id": "f71123e6",
   "metadata": {},
   "source": [
    "### ada boost"
   ]
  },
  {
   "cell_type": "code",
   "execution_count": null,
   "id": "14d25b73",
   "metadata": {},
   "outputs": [],
   "source": [
    "from sklearn.ensemble import AdaBoostClassifier\n",
    "ada = AdaBoostClassifier()\n",
    "\n",
    "pipe = Pipeline(steps=[('scaler', StandardScaler()), (\"pca\", PCA(n_components = 85)), (\"ada\",ada)])\n",
    "\n",
    "# Parameters of pipelines can be set using ‘__’ separated parameter names:\n",
    "param_grid = { \n",
    "    'ada__n_estimators': [10,50,250,1000],\n",
    "    'ada__learning_rate': [0.01,0.1,1]\n",
    "}\n",
    "\n",
    "\n",
    "search_ada = GridSearchCV(pipe, param_grid, n_jobs=-1,verbose=10)\n",
    "search_ada.fit(X_train, y_train)\n",
    "print(\"Best parameter (CV score=%0.3f):\" % search_ada.best_score_)\n",
    "print(search_ada.best_params_)\n",
    "\n",
    "print(\"Grid scores on development set:\")\n",
    "print()\n",
    "means = search_ada.cv_results_['mean_test_score']\n",
    "stds = search_ada.cv_results_['std_test_score']\n",
    "for mean, std, params in zip(means, stds, search_ada.cv_results_['params']):\n",
    "    print(\"%0.3f (+/-%0.03f) for %r\"\n",
    "          % (mean, std * 2, params))\n",
    "\n",
    "ConfusionMatrixDisplay.from_estimator(search_ada, X_test, y_test,\n",
    "                                display_labels=['No_Goal','Goal'],\n",
    "                                cmap=plt.cm.Blues)\n",
    "plt.show()"
   ]
  },
  {
   "cell_type": "markdown",
   "id": "eb05a61b",
   "metadata": {},
   "source": [
    "### mlpclassifier"
   ]
  },
  {
   "cell_type": "code",
   "execution_count": null,
   "id": "c4415f54",
   "metadata": {},
   "outputs": [],
   "source": [
    "from sklearn.neural_network import MLPClassifier\n",
    "\n",
    "mlp = MLPClassifier(batch_size=500, learning_rate='adaptive', max_iter=200, verbose=True,  early_stopping=True)\n",
    "\n",
    "\n",
    "pipe = Pipeline(steps=[('scaler', StandardScaler()), (\"pca\", PCA(n_components = 85)), (\"mlp\",mlp)])\n",
    "\n",
    "# Parameters of pipelines can be set using ‘__’ separated parameter names:\n",
    "parameter_space = {\n",
    "    'mlp__hidden_layer_sizes': [(60,30,10),(60,60)],\n",
    "    'mlp__activation': ['tanh', 'relu'],\n",
    "}\n",
    "\n",
    "\n",
    "search_mlp = GridSearchCV(pipe, parameter_space, n_jobs=-1, verbose=10)\n",
    "search_mlp.fit(X_train, y_train)\n",
    "print(\"Best parameter (CV score=%0.3f):\" % search_mlp.best_score_)\n",
    "print(search_mlp.best_params_)\n",
    "\n",
    "print(\"Grid scores on development set:\")\n",
    "print()\n",
    "means = search_mlp.cv_results_['mean_test_score']\n",
    "stds = search_mlp.cv_results_['std_test_score']\n",
    "for mean, std, params in zip(means, stds, search_mlp.cv_results_['params']):\n",
    "    print(\"%0.3f (+/-%0.03f) for %r\"\n",
    "          % (mean, std * 2, params))\n",
    "\n",
    "ConfusionMatrixDisplay.from_estimator(search_mlp, X_test, y_test,\n",
    "                                display_labels=['No_Goal','Goal'],\n",
    "                                cmap=plt.cm.Blues)\n",
    "plt.show()"
   ]
  },
  {
   "cell_type": "markdown",
   "id": "436a5904",
   "metadata": {},
   "source": [
    "### ensemble"
   ]
  },
  {
   "cell_type": "code",
   "execution_count": null,
   "id": "054947de",
   "metadata": {},
   "outputs": [],
   "source": [
    "from sklearn.ensemble import VotingClassifier\n",
    "#model pipeline\n",
    "clf_vote = VotingClassifier(\n",
    "    estimators=[\n",
    "        ('rf', search_rf), # KNN\n",
    "        ('svm', search_svc), # SVM\n",
    "        ('logistic', search_logR), # Logistic Regression\n",
    "        ('adaboost', search_ada), # Logistic Regression\n",
    "        ('mlp', search_mlp) #adaboost\n",
    "        ],\n",
    "    weights=[1, 1, 1, 1, 1],\n",
    "    voting='soft')\n",
    "clf_vote.fit(X_train, y_train)\n",
    "clf_vote.score(X_test, y_test)"
   ]
  },
  {
   "cell_type": "code",
   "execution_count": null,
   "id": "0f0f28a5",
   "metadata": {},
   "outputs": [],
   "source": [
    "from sklearn.model_selection import cross_val_score\n",
    "scores = cross_val_score(clf_vote, X_train, y_train, cv=5, scoring='accuracy')\n",
    "print(\"Voting: Accuracy: %0.2f (+/- %0.2f)\" % (scores.mean(), scores.std()))"
   ]
  },
  {
   "cell_type": "markdown",
   "id": "87edee3d-c129-46b0-97ea-fe5eecfaf924",
   "metadata": {},
   "source": [
    "## 7. Evaluate on test set (10%)"
   ]
  },
  {
   "cell_type": "markdown",
   "id": "c2406619",
   "metadata": {},
   "source": [
    "### save models to comet"
   ]
  },
  {
   "cell_type": "code",
   "execution_count": null,
   "id": "4d17fc4a",
   "metadata": {},
   "outputs": [],
   "source": [
    "#import in the beginning\n",
    "import comet_ml\n",
    "comet_ml.init()\n",
    "\n",
    "from comet_ml import Experiment\n",
    "experiment = Experiment(\n",
    "    project_name=\"milestone-2\",\n",
    "    workspace=\"binulal\",\n",
    ")\n",
    "\n",
    "\n",
    "#save with joblib faster with np\n",
    "from joblib import dump, load\n",
    "#save\n",
    "dump(clf, './models/Q6logR_s.joblib')\n",
    "#load\n",
    "#clf = load('./models/Q6logR_s.joblib')\n",
    "\n",
    "#include this at the end\n",
    "experiment.log_model(\"Q6_Full_logistic_reg\", \"./model/Q6logR_s.joblib\")\n",
    "#experiment.end()\n"
   ]
  },
  {
   "cell_type": "markdown",
   "id": "add50cf4",
   "metadata": {},
   "source": [
    "### load models from comet"
   ]
  },
  {
   "cell_type": "code",
   "execution_count": null,
   "id": "359e18f3-d7ca-401e-bf98-7ef5befe71a4",
   "metadata": {},
   "outputs": [],
   "source": [
    "from comet_ml import API\n",
    "api = API()\n",
    "# Download a Registry Model: eg \"Q6-Full-ens\" registered model name\n",
    "api.download_registry_model(\"binulal\", \"Q6-Full-ens\", \"1.0.0\",\n",
    "                            output_path=\"./models\", expand=True)"
   ]
  },
  {
   "cell_type": "code",
   "execution_count": null,
   "id": "43f155fa-341b-4847-8c5a-edee629a534c",
   "metadata": {},
   "outputs": [],
   "source": []
  },
  {
   "cell_type": "markdown",
   "id": "04d2584e-e60d-43ec-b678-8d2162c8d5ea",
   "metadata": {},
   "source": [
    "## 8. Blog Post (upto 30% penalty)"
   ]
  },
  {
   "cell_type": "code",
   "execution_count": null,
   "id": "a1bc7cfc-4948-4943-a606-2d7926a3df88",
   "metadata": {},
   "outputs": [],
   "source": []
  },
  {
   "cell_type": "code",
   "execution_count": null,
   "id": "13455532-eeba-4259-b6ad-d8719e954768",
   "metadata": {},
   "outputs": [],
   "source": []
  }
 ],
 "metadata": {
  "kernelspec": {
   "display_name": "ift6758-conda-env",
   "language": "python",
   "name": "ift6758-conda-env"
  },
  "language_info": {
   "codemirror_mode": {
    "name": "ipython",
    "version": 3
   },
   "file_extension": ".py",
   "mimetype": "text/x-python",
   "name": "python",
   "nbconvert_exporter": "python",
   "pygments_lexer": "ipython3",
   "version": "3.9.7"
  }
 },
 "nbformat": 4,
 "nbformat_minor": 5
}
