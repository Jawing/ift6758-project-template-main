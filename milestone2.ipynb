{
 "cells": [
  {
   "cell_type": "markdown",
   "id": "0addf8bd-df06-4754-bf8a-d3bd489d0078",
   "metadata": {
    "tags": []
   },
   "source": [
    "# Milestone 2"
   ]
  },
  {
   "cell_type": "code",
   "execution_count": 1,
   "id": "95fef004-9d5b-4259-ace2-a25e77a70f11",
   "metadata": {},
   "outputs": [],
   "source": [
    "# for auto-reloading extenrnal modules\n",
    "# see http://stackoverflow.com/questions/1907993/autoreload-of-modules-in-ipython\n",
    "%load_ext autoreload\n",
    "%autoreload 2"
   ]
  },
  {
   "cell_type": "code",
   "execution_count": 2,
   "id": "d9f87136-da0f-4c2f-a54d-c96a1cc03ca6",
   "metadata": {},
   "outputs": [],
   "source": [
    "import os\n",
    "\n",
    "import numpy as np \n",
    "import pandas as pd\n",
    "import seaborn as sns\n",
    "\n",
    "pd.options.display.max_columns = None"
   ]
  },
  {
   "cell_type": "markdown",
   "id": "17e02ccc-88c3-437e-9b19-25be57a1c9ae",
   "metadata": {},
   "source": [
    "## 1. Experiment Tracking (10%)"
   ]
  },
  {
   "cell_type": "markdown",
   "id": "1268e5c9-3b5b-40ee-a4f2-be2588faf307",
   "metadata": {},
   "source": [
    "conda activate ift6758-conda-env\n",
    "conda install pip\n",
    "which pip\n",
    "pip install comet_ml\n",
    "\n"
   ]
  },
  {
   "cell_type": "code",
   "execution_count": 3,
   "id": "1b0da272-c2b0-4f43-a1b4-d3f29db21620",
   "metadata": {},
   "outputs": [
    {
     "name": "stdout",
     "output_type": "stream",
     "text": [
      "Please enter your Comet API key from https://www.comet.ml/api/my/settings/\n",
      "(api key may not show as you type)\n"
     ]
    },
    {
     "name": "stdin",
     "output_type": "stream",
     "text": [
      "Comet API key:  ·························\n"
     ]
    },
    {
     "name": "stderr",
     "output_type": "stream",
     "text": [
      "COMET INFO: Comet API key is valid\n",
      "COMET INFO: Comet API key saved in /home/binulal/.comet.config\n"
     ]
    }
   ],
   "source": [
    "import comet_ml\n",
    "comet_ml.init()"
   ]
  },
  {
   "cell_type": "markdown",
   "id": "4facd3f4-47ad-4540-af2a-19af4b9c6d13",
   "metadata": {},
   "source": [
    "## 2. Feature Engineering - I (10%)"
   ]
  },
  {
   "cell_type": "markdown",
   "id": "c9b6baa7-ce83-4500-a72b-157bc7eeb3fb",
   "metadata": {},
   "source": [
    "* Acquire all of the raw play-by-play data for the 2015/16 season all the way to the 2019/20 season (inclusive).\n",
    "* Set aside all of the 2019/20 data as your final test set. \n",
    "* You will use the 2015/16 - 2018/19 regular season data to create your training and validation sets. \n",
    "* Until Part 7, any reference to the “dataset” will exclusively refer to the 2015/16 - 2018/19 data\n"
   ]
  },
  {
   "cell_type": "code",
   "execution_count": null,
   "id": "a6060861-f7c1-453e-a194-cd5bb008500c",
   "metadata": {},
   "outputs": [],
   "source": [
    "from ift6758.data.functions import loadstats\n",
    "from ift6758.data.tidyData import tidyData"
   ]
  },
  {
   "cell_type": "code",
   "execution_count": null,
   "id": "190d3633-be94-4ba9-b02b-bf82de4a34a6",
   "metadata": {},
   "outputs": [],
   "source": [
    "\n",
    "dfs_2015 = loadstats(2015,'./data/')\n",
    "df_2015 = tidyData(dfs_2015)\n",
    "\n",
    "dfs_2016 = loadstats(2016,'./data/')\n",
    "df_2016 = tidyData(dfs_2016)\n",
    "\n",
    "dfs_2017 = loadstats(2017,'./data/')\n",
    "df_2017 = tidyData(dfs_2017)\n",
    "\n",
    "dfs_2018 = loadstats(2018,'./data/')\n",
    "df_2018 = tidyData(dfs_2018)\n",
    "\n",
    "dfs_2019 = loadstats(2019,'./data/')\n",
    "#df_2019 = tidyData(dfs_2019) <---- do this on section# 7"
   ]
  },
  {
   "cell_type": "code",
   "execution_count": null,
   "id": "b1614ba1-43da-4257-8e21-1d9f0559d1d7",
   "metadata": {},
   "outputs": [],
   "source": [
    "df = df_2015.append(df_2016, ignore_index=True).append(df_2017, ignore_index=True).append(df_2018, ignore_index=True).dropna()"
   ]
  },
  {
   "cell_type": "code",
   "execution_count": null,
   "id": "2f3ae3d2-ae50-428c-8237-155ceffaed19",
   "metadata": {},
   "outputs": [],
   "source": [
    "print(df_2015.shape)\n",
    "print(df_2016.shape)\n",
    "print(df_2017.shape)\n",
    "print(df_2018.shape)\n",
    "print(df.shape)"
   ]
  },
  {
   "cell_type": "code",
   "execution_count": null,
   "id": "572b8c0e-98c1-4857-bbf3-a466de103983",
   "metadata": {},
   "outputs": [],
   "source": [
    "df.info()"
   ]
  },
  {
   "cell_type": "markdown",
   "id": "479bf5ff-0067-4136-a6f4-ede56134eb01",
   "metadata": {},
   "source": [
    "#### Using your training dataset create a tidied dataset for each SHOT event, with the following columns (you can name them however you want):\n",
    "* Distance from net\n",
    "* Angle from net\n",
    "* Is goal (0 or 1)\n",
    "* Empty Net (0 or 1; you can assume NaNs are 0)\n",
    "\n",
    "\n",
    "You can approximate the net as a single point (i.e. you don’t need to account for the width of the net when computing the distance or angle). \n",
    "\n",
    "You should be able to create this easily using the functionality you implemented for tidying data in Milestone 1, as you will only need the (x, y) coordinates for each shot event. \n"
   ]
  },
  {
   "cell_type": "code",
   "execution_count": null,
   "id": "c756552a-8dc3-4467-8567-802f24b393a6",
   "metadata": {},
   "outputs": [],
   "source": [
    "opponent_coordinate = [-90,0]\n",
    "\n",
    "playerXYCoordDF = df[[\"coordinates_x\",\"coordinates_y\"]]\n",
    "playerXYCoordDF.head()\n",
    "\n",
    "playerXY_DF = playerXYCoordDF.apply( lambda x : pd.Series( opponent_coordinate, index = ['opponent_x', 'opponent_y'] ), axis=1, result_type=\"expand\")\n",
    "playerXY_DF.head()\n",
    "\n",
    "playerXY_DF2 = playerXYCoordDF.join(playerXY_DF)\n",
    "\n",
    "# playerXY_DF3 \n",
    "df[\"Distance\"]  = playerXY_DF2.apply( lambda row : np.sqrt((row.opponent_x - row.coordinates_x)**2 +  row.coordinates_y**2) if (row.coordinates_x < 0) else np.sqrt((-row.opponent_x - row.coordinates_x)**2 + row.coordinates_y**2), axis=1 , result_type=\"expand\" )\n"
   ]
  },
  {
   "cell_type": "code",
   "execution_count": null,
   "id": "2eb7431d-c956-4db5-afc4-9bdcf8f5c1be",
   "metadata": {},
   "outputs": [],
   "source": [
    "df.head()"
   ]
  },
  {
   "cell_type": "markdown",
   "id": "ddb3a30d-52c8-44a6-a738-20b048c6ac22",
   "metadata": {},
   "source": [
    "Create and include the following figures in your blogpost and briefly discuss your observations (few sentences):\n",
    "\n",
    "* A histogram of shot counts (goals and no-goals separated), binned by distance\n",
    "* A histogram of shot counts (goals and no-goals separated), binned by angle\n",
    "* A 2D histogram where one axis is the distance and the other is the angle. You do not need to separate goals and no-goals.\n",
    " Hint: check out jointplots. \n",
    "*As always, make sure all of your axes are labeled correctly, and you make the appropriate choice of axis scale.\n"
   ]
  },
  {
   "cell_type": "code",
   "execution_count": null,
   "id": "4890434e-9373-4d00-9ec2-48cf885625b3",
   "metadata": {},
   "outputs": [],
   "source": []
  },
  {
   "cell_type": "code",
   "execution_count": null,
   "id": "de0d0203-94eb-4049-9fbf-1d8b04f56ba6",
   "metadata": {},
   "outputs": [],
   "source": []
  },
  {
   "cell_type": "markdown",
   "id": "9ed898c5-6aeb-49da-b5e4-0bd9291799e0",
   "metadata": {},
   "source": []
  },
  {
   "cell_type": "code",
   "execution_count": null,
   "id": "6134c379-e1d1-400b-99fe-45e429d2cfea",
   "metadata": {},
   "outputs": [],
   "source": []
  },
  {
   "cell_type": "code",
   "execution_count": null,
   "id": "6dd57576-050a-4d86-946e-847928fff971",
   "metadata": {},
   "outputs": [],
   "source": []
  },
  {
   "cell_type": "markdown",
   "id": "8339a5c6-c19d-4b5a-bd39-8292ae881f67",
   "metadata": {},
   "source": [
    "## 3. Baseline Models (15%)"
   ]
  },
  {
   "cell_type": "markdown",
   "id": "8ab8b98f-73a5-4ca0-af1c-7d962311820d",
   "metadata": {},
   "source": [
    "* Logistic Regression"
   ]
  },
  {
   "cell_type": "code",
   "execution_count": null,
   "id": "7c2143f4-2772-4a81-94ac-3e07d7fe8e76",
   "metadata": {},
   "outputs": [],
   "source": []
  },
  {
   "cell_type": "markdown",
   "id": "ba1e7579-74cc-488a-a038-fd836627d7a6",
   "metadata": {},
   "source": [
    "## 4. Feature Engineering - II (20% + bonus 5%) "
   ]
  },
  {
   "cell_type": "code",
   "execution_count": null,
   "id": "9c75a9cb-66a8-45b6-a034-f7fe5863f810",
   "metadata": {},
   "outputs": [],
   "source": []
  },
  {
   "cell_type": "code",
   "execution_count": null,
   "id": "d248c0df-e437-4a70-ac79-cd195698e202",
   "metadata": {},
   "outputs": [],
   "source": []
  },
  {
   "cell_type": "markdown",
   "id": "92d7d7dc-75a4-4184-8d3d-b2d029f5ce3c",
   "metadata": {},
   "source": [
    "## 5. Advanced Models (20%)"
   ]
  },
  {
   "cell_type": "code",
   "execution_count": null,
   "id": "ef166ae7-8c5a-4944-868a-1cb48c438071",
   "metadata": {},
   "outputs": [],
   "source": []
  },
  {
   "cell_type": "code",
   "execution_count": null,
   "id": "6ff5c75b-9ee0-484c-b12f-ae4433fb70eb",
   "metadata": {},
   "outputs": [],
   "source": []
  },
  {
   "cell_type": "markdown",
   "id": "fded8014-4d75-4986-b03f-161b12a23c0d",
   "metadata": {},
   "source": [
    "## 6. Give it your best shot! (25%)"
   ]
  },
  {
   "cell_type": "code",
   "execution_count": null,
   "id": "2a2e3aca-34e7-4b27-a113-227efc7de5a5",
   "metadata": {},
   "outputs": [],
   "source": []
  },
  {
   "cell_type": "code",
   "execution_count": null,
   "id": "99fa1513-6fc3-4664-b4d4-a61858e60c14",
   "metadata": {},
   "outputs": [],
   "source": []
  },
  {
   "cell_type": "markdown",
   "id": "87edee3d-c129-46b0-97ea-fe5eecfaf924",
   "metadata": {},
   "source": [
    "## 7. Evaluate on test set (10%)"
   ]
  },
  {
   "cell_type": "code",
   "execution_count": null,
   "id": "359e18f3-d7ca-401e-bf98-7ef5befe71a4",
   "metadata": {},
   "outputs": [],
   "source": []
  },
  {
   "cell_type": "code",
   "execution_count": null,
   "id": "43f155fa-341b-4847-8c5a-edee629a534c",
   "metadata": {},
   "outputs": [],
   "source": []
  },
  {
   "cell_type": "markdown",
   "id": "04d2584e-e60d-43ec-b678-8d2162c8d5ea",
   "metadata": {},
   "source": [
    "## 8. Blog Post (upto 30% penalty)"
   ]
  },
  {
   "cell_type": "code",
   "execution_count": null,
   "id": "a1bc7cfc-4948-4943-a606-2d7926a3df88",
   "metadata": {},
   "outputs": [],
   "source": []
  }
 ],
 "metadata": {
  "kernelspec": {
   "display_name": "ift6758-conda-env",
   "language": "python",
   "name": "ift6758-conda-env"
  },
  "language_info": {
   "codemirror_mode": {
    "name": "ipython",
    "version": 3
   },
   "file_extension": ".py",
   "mimetype": "text/x-python",
   "name": "python",
   "nbconvert_exporter": "python",
   "pygments_lexer": "ipython3",
   "version": "3.9.7"
  }
 },
 "nbformat": 4,
 "nbformat_minor": 5
}
